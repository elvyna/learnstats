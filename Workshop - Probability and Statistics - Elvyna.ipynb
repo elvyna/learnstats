{
 "cells": [
  {
   "cell_type": "markdown",
   "metadata": {},
   "source": [
    "# Workshop - Probabilitas & Statistik"
   ]
  },
  {
   "cell_type": "code",
   "execution_count": 22,
   "metadata": {},
   "outputs": [],
   "source": [
    "from IPython.display import display, HTML\n",
    "import matplotlib.pyplot as plt\n",
    "import numpy as np\n",
    "import pandas as pd\n",
    "import pymc3 as pm\n",
    "import seaborn as sns\n",
    "\n",
    "%matplotlib inline"
   ]
  },
  {
   "cell_type": "markdown",
   "metadata": {},
   "source": [
    "## 1. Banjir Jakarta\n",
    "\n",
    "Menurut [berita](https://www.beritasatu.com/megapolitan/250044/jakarta-urban-coalition-banjir-februari-2015-paling-parah), banjir Jakarta di bulan Februari 2015 adalah salah satu yang terparah sejak 2007. Dalam kasus di bawah ini, data yang digunakan didapatkan dari tingkat kelurahan. Data diperoleh dari data.go.id."
   ]
  },
  {
   "cell_type": "code",
   "execution_count": 4,
   "metadata": {},
   "outputs": [],
   "source": [
    "url_banjir_2015 = 'http://data.jakarta.go.id/dataset/df0b85a1-b9df-4aee-ad83-cb220ed84993/resource/d4ff93bd-bf81-4d6b-a26a-061775bc0364/download/Data-Kejadian-Banjir-Bulan-Februari-Tahun-2015.csv'\n",
    "\n",
    "urls = [\n",
    "    'http://data.jakarta.go.id/dataset/d8272c29-e0a4-4cca-bc30-db9e48ed02a5/resource/863b8e52-4369-452a-9d71-15545074717c/download/Data-Curah-Hujan-Dan-Hari-Hujan-Di-DKI-Jakarta-Menurut-Bulan-Tahun-2011.csv',\n",
    "    'http://data.jakarta.go.id/dataset/d8272c29-e0a4-4cca-bc30-db9e48ed02a5/resource/a392be77-d821-4b32-b673-c9d53bcaeff3/download/Data-Curah-Hujan-Dan-Hari-Hujan-Di-DKI-Jakarta-Menurut-Bulan-Tahun-2012.csv',\n",
    "    'http://data.jakarta.go.id/dataset/d8272c29-e0a4-4cca-bc30-db9e48ed02a5/resource/2760d910-9e32-4ba1-8e0e-5076933faadd/download/Data-Curah-Hujan-Dan-Hari-Hujan-Di-DKI-Jakarta-Menurut-Bulan-Tahun-2013.csv',\n",
    "    'http://data.jakarta.go.id/dataset/d8272c29-e0a4-4cca-bc30-db9e48ed02a5/resource/2b7645c9-6542-40e2-9b2c-4efc85f5c6a8/download/Data-Curah-Hujan-Dan-Hari-Hujan-Di-DKI-Jakarta-Menurut-Bulan-Tahun-2014.csv'\n",
    "]\n",
    "\n",
    "rt_rw_url = 'http://data.jakarta.go.id/dataset/3e2302de-3f82-43bc-ab33-78e7ae9732aa/resource/aafc5c0e-874b-4404-a1f0-2aace03c794e/download/RT-RW-LMK-2016EDITED.xls'"
   ]
  },
  {
   "cell_type": "markdown",
   "metadata": {},
   "source": [
    "### Soal 1.1\n",
    "\n",
    "Muat dan bersihkan data dari URL di atas"
   ]
  },
  {
   "cell_type": "code",
   "execution_count": 89,
   "metadata": {},
   "outputs": [],
   "source": [
    "# Kode Anda di sini\n",
    "df_rt_rw = pd.read_excel(rt_rw_url)\n",
    "\n",
    "df_banjir_feb = pd.read_csv(url_banjir_2015)\n",
    "\n",
    "df_curah = pd.DataFrame(columns=['tahun','bulan','curah_hujan','banyak_hari_hujan'])\n",
    "for url in urls:\n",
    "    df_curah = pd.concat([\n",
    "        df_curah,\n",
    "        pd.read_csv(url, decimal=',').dropna()\n",
    "    ])\n",
    "df_curah['index'] = pd.date_range('2011-01-01', '2014-12-31', freq='1M')\n",
    "df_curah = df_curah.set_index('index')"
   ]
  },
  {
   "cell_type": "markdown",
   "metadata": {},
   "source": [
    "### Soal 1.2.a\n",
    "\n",
    "Jika dilihat dari data seluruh kota administrasi di Jakarta, sekitar 18% RW per kelurahan akan terkena banjir. Jika jumlah RW di kelurahan Pulo Gebang adalah 16, berapa peluangnya RW yang terkena banjir kurang dari 5?"
   ]
  },
  {
   "cell_type": "code",
   "execution_count": 96,
   "metadata": {},
   "outputs": [
    {
     "data": {
      "text/html": [
       "<div>\n",
       "<style scoped>\n",
       "    .dataframe tbody tr th:only-of-type {\n",
       "        vertical-align: middle;\n",
       "    }\n",
       "\n",
       "    .dataframe tbody tr th {\n",
       "        vertical-align: top;\n",
       "    }\n",
       "\n",
       "    .dataframe thead th {\n",
       "        text-align: right;\n",
       "    }\n",
       "</style>\n",
       "<table border=\"1\" class=\"dataframe\">\n",
       "  <thead>\n",
       "    <tr style=\"text-align: right;\">\n",
       "      <th></th>\n",
       "      <th>kota_administrasi</th>\n",
       "      <th>kecamatan</th>\n",
       "      <th>kelurahan</th>\n",
       "      <th>rw</th>\n",
       "      <th>jumlah_rw</th>\n",
       "      <th>jumlah_rt</th>\n",
       "      <th>jumlah_kk</th>\n",
       "      <th>jumlah_jiwa</th>\n",
       "      <th>ketinggian_air</th>\n",
       "      <th>tanggal_kejadian</th>\n",
       "      <th>lama_genangan</th>\n",
       "      <th>jumlah_meninggal</th>\n",
       "      <th>jumlah_hilang</th>\n",
       "      <th>jumlah_luka_berat</th>\n",
       "      <th>jumlah_luka_ringan</th>\n",
       "      <th>jumlah_pengungsi</th>\n",
       "      <th>jumlah_tempat_pengungsian</th>\n",
       "      <th>nilai_kerugian</th>\n",
       "    </tr>\n",
       "  </thead>\n",
       "  <tbody>\n",
       "    <tr>\n",
       "      <th>89</th>\n",
       "      <td>Jakarta Timur</td>\n",
       "      <td>Cakung</td>\n",
       "      <td>Pulo Gebang</td>\n",
       "      <td>003, 006, 012</td>\n",
       "      <td>3</td>\n",
       "      <td>3</td>\n",
       "      <td>0</td>\n",
       "      <td>100</td>\n",
       "      <td>10 - 90</td>\n",
       "      <td>9, 10</td>\n",
       "      <td>2</td>\n",
       "      <td>0</td>\n",
       "      <td>0</td>\n",
       "      <td>0</td>\n",
       "      <td>0</td>\n",
       "      <td>100</td>\n",
       "      <td>1</td>\n",
       "      <td>0</td>\n",
       "    </tr>\n",
       "  </tbody>\n",
       "</table>\n",
       "</div>"
      ],
      "text/plain": [
       "   kota_administrasi kecamatan    kelurahan             rw  jumlah_rw  \\\n",
       "89     Jakarta Timur    Cakung  Pulo Gebang  003, 006, 012          3   \n",
       "\n",
       "    jumlah_rt  jumlah_kk  jumlah_jiwa ketinggian_air tanggal_kejadian  \\\n",
       "89          3          0          100        10 - 90            9, 10   \n",
       "\n",
       "    lama_genangan  jumlah_meninggal  jumlah_hilang  jumlah_luka_berat  \\\n",
       "89              2                 0              0                  0   \n",
       "\n",
       "    jumlah_luka_ringan  jumlah_pengungsi  jumlah_tempat_pengungsian  \\\n",
       "89                   0               100                          1   \n",
       "\n",
       "    nilai_kerugian  \n",
       "89               0  "
      ]
     },
     "execution_count": 96,
     "metadata": {},
     "output_type": "execute_result"
    }
   ],
   "source": [
    "# Kode Anda di sini\n",
    "\n",
    "df_banjir_feb.loc[(df_banjir_feb['kelurahan'] == 'Pulo Gebang')]"
   ]
  },
  {
   "cell_type": "code",
   "execution_count": 115,
   "metadata": {},
   "outputs": [
    {
     "data": {
      "image/png": "[encoded data removed]",
      "text/plain": [
       "<Figure size 432x288 with 1 Axes>"
      ]
     },
     "metadata": {
      "needs_background": "light"
     },
     "output_type": "display_data"
    }
   ],
   "source": [
    "# given 0.18 probability of flood in one RW\n",
    "# probability(x < 5)\n",
    "\n",
    "from scipy.stats import bernoulli, binom\n",
    "\n",
    "p_flood = 0.18\n",
    "n = 16\n",
    "k = np.arange(17)\n",
    "\n",
    "plt.bar(k, binom.pmf(k, n=n, p=p_flood))\n",
    "plt.xticks(k);"
   ]
  },
  {
   "cell_type": "code",
   "execution_count": 122,
   "metadata": {},
   "outputs": [
    {
     "data": {
      "text/html": [
       "$P(X < 5) = 0.8542358444727165$"
      ],
      "text/plain": [
       "<IPython.core.display.HTML object>"
      ]
     },
     "metadata": {},
     "output_type": "display_data"
    }
   ],
   "source": [
    "k  = np.arange(5)\n",
    "display(HTML('$P(X < 5) = {}$'.format(\n",
    "    binom.pmf(k, n=16, p=0.18).sum()\n",
    "#     binom.cdf(4, n=16, p=0.18)\n",
    ")))"
   ]
  },
  {
   "cell_type": "markdown",
   "metadata": {},
   "source": [
    "### Soal 1.2.b\n",
    "\n",
    "Bandingkan dengan data sebenarnya, apakah prediksi Anda tepat?"
   ]
  },
  {
   "cell_type": "code",
   "execution_count": 130,
   "metadata": {},
   "outputs": [
    {
     "name": "stdout",
     "output_type": "stream",
     "text": [
      "Actual observation: 0.1875\n",
      "PMF: 0.2475\n"
     ]
    }
   ],
   "source": [
    "# Kode Anda di sini\n",
    "actual = 3/16\n",
    "\n",
    "print(\"Actual observation: {:,.4f}\".format(actual))\n",
    "print(\"PMF: {:,.4f}\".format(binom.pmf(3, n=16, p=0.18)))"
   ]
  },
  {
   "cell_type": "markdown",
   "metadata": {},
   "source": [
    "### Soal 1.2.c\n",
    "\n",
    "Apakah model ini sudah cukup untuk digeneralisasi? Apa masalahnya? Apa yang dapat diusulkan untuk memperbaiki model ini?"
   ]
  },
  {
   "cell_type": "markdown",
   "metadata": {},
   "source": [
    "Belum, karena pada observasi aslinya pun rata-rata kelurahan yang kena banjir ~0.4; dan peluang sebuah RW banjir di tiap kelurahan beda-beda."
   ]
  },
  {
   "cell_type": "code",
   "execution_count": 139,
   "metadata": {},
   "outputs": [],
   "source": [
    "df_banjir_feb_rt_rw = df_banjir_feb.merge(\n",
    "    df_rt_rw[['kelurahan','rw']].rename(columns={'rw':'rw_total'}),\n",
    "    how='left',\n",
    "    on='kelurahan'\n",
    ").dropna()\n",
    "\n",
    "df_banjir_feb_rt_rw['pct_banjir'] = df_banjir_feb_rt_rw['jumlah_rw'] / df_banjir_feb_rt_rw['rw_total']"
   ]
  },
  {
   "cell_type": "code",
   "execution_count": 144,
   "metadata": {},
   "outputs": [
    {
     "data": {
      "image/png": "[encoded data removed]",
      "text/plain": [
       "<Figure size 432x288 with 1 Axes>"
      ]
     },
     "metadata": {
      "needs_background": "light"
     },
     "output_type": "display_data"
    },
    {
     "name": "stdout",
     "output_type": "stream",
     "text": [
      "Mean: 0.40 +- 0.28\n"
     ]
    }
   ],
   "source": [
    "sns.distplot(\n",
    "    df_banjir_feb_rt_rw['pct_banjir']\n",
    ")\n",
    "\n",
    "\n",
    "plt.xlim(0,)\n",
    "plt.show();\n",
    "\n",
    "print(\"Mean: {:,.2f} +- {:,.2f}\".format(\n",
    "    df_banjir_feb_rt_rw['pct_banjir'].mean(),\n",
    "    df_banjir_feb_rt_rw['pct_banjir'].std()\n",
    "))"
   ]
  },
  {
   "cell_type": "markdown",
   "metadata": {},
   "source": [
    "### Soal 1.3.a\n",
    "\n",
    "Berdasarkan data, diketahui bahwa rata-rata jumlah RW per kelurahan yang terkena dampak banjir adalah 4.62. Jika kita mengasumsikan bahwa kelurahan yang masih dianggap aman adalah kelurahan dengan jumlah RW yang terkena dampak banjir tidak lebih dari 2, berapa peluangnya kita menemukan kelurahan yang tergolong aman?"
   ]
  },
  {
   "cell_type": "code",
   "execution_count": 165,
   "metadata": {},
   "outputs": [
    {
     "name": "stdout",
     "output_type": "stream",
     "text": [
      "CDF:  0.160523723988075\n"
     ]
    },
    {
     "data": {
      "text/html": [
       "$P(X < 2)=0.16$"
      ],
      "text/plain": [
       "<IPython.core.display.HTML object>"
      ]
     },
     "metadata": {},
     "output_type": "display_data"
    }
   ],
   "source": [
    "# Kode Anda di sini\n",
    "\n",
    "from scipy.stats import poisson\n",
    "\n",
    "mu = 4.62\n",
    "\n",
    "print(\"CDF: \", poisson.cdf(k=2, mu=mu).sum())\n",
    "\n",
    "display(HTML('$P(X < 2)={:.2f}$'.format(\n",
    "    # Jawaban Anda di sini\n",
    "    poisson.cdf(k=2, mu=mu) \n",
    ")))"
   ]
  },
  {
   "cell_type": "markdown",
   "metadata": {},
   "source": [
    "### Soal 1.3.b\n",
    "\n",
    "Bandingkan dengan datanya, apakah prediksi Anda tepat?"
   ]
  },
  {
   "cell_type": "code",
   "execution_count": 203,
   "metadata": {},
   "outputs": [
    {
     "name": "stdout",
     "output_type": "stream",
     "text": [
      "Observed: 0.26\n"
     ]
    },
    {
     "data": {
      "image/png": "[encoded data removed]",
      "text/plain": [
       "<Figure size 864x288 with 1 Axes>"
      ]
     },
     "metadata": {
      "needs_background": "light"
     },
     "output_type": "display_data"
    }
   ],
   "source": [
    "# Kode Anda di sini\n",
    "\n",
    "# sns.distplot(\n",
    "#     df_banjir_feb['jumlah_rw'],\n",
    "# #     kde_kws=poisson.pmf(k=2, mu=mu)\n",
    "# )\n",
    "\n",
    "# plt.plot(\n",
    "#     poisson.pmf(k=2, mu=mu),\n",
    "#     'ro'\n",
    "# )\n",
    "\n",
    "# plt.xlim(0,)\n",
    "# plt.show();\n",
    "\n",
    "f, ax = plt.subplots(figsize=(12,4))\n",
    "k = np.arange(1,17)\n",
    "plt.plot(poisson.pmf(k=2, mu=mu))\n",
    "df_banjir_feb['jumlah_rw'].value_counts(True).sort_index().plot.bar(color='red');\n",
    "\n",
    "print(\"Observed: {:,.2f}\".format(df_banjir_feb.loc[(df_banjir_feb['jumlah_rw'] < 2)].shape[0] / df_banjir_feb.shape[0]));"
   ]
  },
  {
   "cell_type": "code",
   "execution_count": 209,
   "metadata": {},
   "outputs": [
    {
     "name": "stdout",
     "output_type": "stream",
     "text": [
      "Likelihood : 1.4066264116356344e-170\n",
      "Log likelihood: -391.0982715873381\n",
      "Log likelihood: -557.5454991755649\n"
     ]
    },
    {
     "data": {
      "image/png": "[encoded data removed]",
      "text/plain": [
       "<Figure size 432x288 with 1 Axes>"
      ]
     },
     "metadata": {
      "needs_background": "light"
     },
     "output_type": "display_data"
    }
   ],
   "source": [
    "x = df_banjir_feb['jumlah_rw']\n",
    "print(\"Likelihood : {}\".format(poisson.pmf(x, mu).prod()))\n",
    "print(\"Log likelihood: {}\".format(np.log(poisson.pmf(x, mu)).sum()))\n",
    "\n",
    "print(\"Log likelihood: {}\".format(np.log(poisson.pmf(x, mu=2)).sum()))\n",
    "\n",
    "xx = np.linspace(0,17,100)\n",
    "plt.plot(xx, [np.log(poisson.pmf(x, i)).sum() for i in xx]);\n",
    "\n",
    "# kalau asumsi parameter yg dipakai mu=5, semakin nggak menggambarkan data aslinya (log likelihood lebih kecil)\n",
    "# best parameter = mean"
   ]
  },
  {
   "cell_type": "markdown",
   "metadata": {},
   "source": [
    "### Soal 1.4.a\n",
    "\n",
    "Berdasarkan data historis, berapa rata-rata hari hujan di bulan Februari di Jakarta?"
   ]
  },
  {
   "cell_type": "code",
   "execution_count": 225,
   "metadata": {},
   "outputs": [],
   "source": [
    "# Kode Anda di sini\n",
    "\n",
    "mu_curah_feb = df_curah.loc[(df_curah['bulan'] == 2),'banyak_hari_hujan'].mean()"
   ]
  },
  {
   "cell_type": "markdown",
   "metadata": {},
   "source": [
    "### Soal 1.4.b\n",
    "\n",
    "Jika diasumsikan bahwa banjir terjadi saat hari hujan per bulan di atas 3 minggu, berapa peluang banjir terjadi di bulan Februari 2015? Gambarkan distribusinya!"
   ]
  },
  {
   "cell_type": "code",
   "execution_count": 223,
   "metadata": {},
   "outputs": [
    {
     "data": {
      "image/png": "[encoded data removed]",
      "text/plain": [
       "<Figure size 432x288 with 1 Axes>"
      ]
     },
     "metadata": {
      "needs_background": "light"
     },
     "output_type": "display_data"
    }
   ],
   "source": [
    "df_curah['curah_hujan'].plot.line();"
   ]
  },
  {
   "cell_type": "code",
   "execution_count": 235,
   "metadata": {},
   "outputs": [
    {
     "data": {
      "text/html": [
       "$P(banjir)=0.29$"
      ],
      "text/plain": [
       "<IPython.core.display.HTML object>"
      ]
     },
     "metadata": {},
     "output_type": "display_data"
    }
   ],
   "source": [
    "# Kode Anda di sini\n",
    "\n",
    "display(HTML('$P(banjir)={:.2f}$'.format(\n",
    "    # Jawaban Anda di sini\n",
    "    1 - poisson.cdf(k=21, mu=mu_curah_feb)\n",
    ")))"
   ]
  },
  {
   "cell_type": "markdown",
   "metadata": {},
   "source": [
    "### Soal 1.5\n",
    "\n",
    "Distribusi apa yang paling cocok untuk menggambarkan variabel curah hujan?"
   ]
  },
  {
   "cell_type": "code",
   "execution_count": 263,
   "metadata": {},
   "outputs": [
    {
     "data": {
      "image/png": "[encoded data removed]",
      "text/plain": [
       "<Figure size 432x288 with 1 Axes>"
      ]
     },
     "metadata": {
      "needs_background": "light"
     },
     "output_type": "display_data"
    },
    {
     "name": "stdout",
     "output_type": "stream",
     "text": [
      "norm \t: 319.542773239678\n",
      "skewnorm \t: 300.89390898567825\n",
      "expon \t: 295.2225454854796\n",
      "t \t: 303.38262713144826\n",
      "\n",
      "\n",
      "Distribusi yang negative log likelihood nya semakin mendekati 0, semakin mendekati distribusi asli.\n",
      "cara lainnya, pakai Kullback-Leibler divergence, cari yang jarak dengan distribusi aslinya lebih kecil.\n"
     ]
    }
   ],
   "source": [
    "# Kode Anda di sini\n",
    "\n",
    "from scipy.stats import norm, expon, skewnorm, t\n",
    "\n",
    "sns.distplot(\n",
    "    df_curah['curah_hujan'],\n",
    "    fit=expon\n",
    ")\n",
    "\n",
    "sns.distplot(\n",
    "    df_curah['curah_hujan'],\n",
    "    fit=skewnorm\n",
    ")\n",
    "\n",
    "plt.xlim(0,)\n",
    "plt.show();\n",
    "\n",
    "for dist in [norm, skewnorm, expon, t]:\n",
    "    print('{} \\t:'.format(dist.name), dist.nnlf(\n",
    "        dist.fit(df_curah['curah_hujan']),\n",
    "        df_curah['curah_hujan']\n",
    "    )\n",
    ")\n",
    "    \n",
    "print(\"\\n\")\n",
    "print(\"Distribusi yang negative log likelihood nya semakin mendekati 0, semakin mendekati distribusi asli.\")\n",
    "print(\"cara lainnya, pakai Kullback-Leibler divergence, cari yang jarak dengan distribusi aslinya lebih kecil.\")"
   ]
  },
  {
   "cell_type": "markdown",
   "metadata": {},
   "source": [
    "### Soal 1.6.a\n",
    "\n",
    "Dua tahun kemudian ([Februari 2017](http://data.jakarta.go.id/dataset/data-tinggi-muka-air-di-dki-jakarta-tahun-2017/resource/e0f89dd5-7335-4bbd-837a-e6fad3520484)), diketahui bahwa rata-rata tinggi air di pintu air Pasar Ikan, Jakarta Utara, 169 cm dan standar deviasinya  adalah 19 cm. Jika peringatan status Siaga III banjir diberikan saat tinggi air antara 171-200 cm, berapa peluangnya pada bulan tersebut ada peringatan Siaga III? Gambarkan distribusinya."
   ]
  },
  {
   "cell_type": "code",
   "execution_count": 275,
   "metadata": {},
   "outputs": [
    {
     "name": "stdout",
     "output_type": "stream",
     "text": [
      "P(171 <= x <= 200)\n"
     ]
    }
   ],
   "source": [
    "mu_tinggi_air = 169\n",
    "std_tinggi_air = 19\n",
    "\n",
    "print(\"P(171 <= x <= 200) = P(x <= 200) - P()\")"
   ]
  },
  {
   "cell_type": "code",
   "execution_count": 280,
   "metadata": {},
   "outputs": [
    {
     "data": {
      "text/html": [
       "$P(siaga3) = 0.41$"
      ],
      "text/plain": [
       "<IPython.core.display.HTML object>"
      ]
     },
     "metadata": {},
     "output_type": "display_data"
    },
    {
     "data": {
      "image/png": "[encoded data removed]",
      "text/plain": [
       "<Figure size 432x288 with 1 Axes>"
      ]
     },
     "metadata": {
      "needs_background": "light"
     },
     "output_type": "display_data"
    }
   ],
   "source": [
    "# Kode Anda di sini\n",
    "\n",
    "x = np.linspace(100,240,100)\n",
    "plt.plot(\n",
    "    x, \n",
    "    norm.pdf(x, mu_tinggi_air, std_tinggi_air)\n",
    ");\n",
    "\n",
    "xx = np.linspace(171,200,100)\n",
    "plt.fill_between(xx, norm.pdf(xx, mu_tinggi_air, std_tinggi_air), alpha=0.2);\n",
    "\n",
    "display(HTML(\n",
    "    '$P(siaga3) = {:.2f}$'.format(\n",
    "        norm.cdf(200, mu_tinggi_air, std_tinggi_air) - norm.cdf(171, mu_tinggi_air, std_tinggi_air)\n",
    "    )\n",
    "))"
   ]
  },
  {
   "cell_type": "markdown",
   "metadata": {},
   "source": [
    "### Soal 1.6.b\n",
    "\n",
    "Berdasarkan soal 1.6.a, jika status Siaga I di pintu air Pasar Ikan diberikan saat tinggi air minimal 251 cm, berapa peluangnya di bulan tersebut Anda akan mendapatkan peringatan Siaga I?"
   ]
  },
  {
   "cell_type": "code",
   "execution_count": 288,
   "metadata": {},
   "outputs": [
    {
     "data": {
      "text/html": [
       "$P(siaga1) = 0.000008$"
      ],
      "text/plain": [
       "<IPython.core.display.HTML object>"
      ]
     },
     "metadata": {},
     "output_type": "display_data"
    },
    {
     "data": {
      "image/png": "[encoded data removed]",
      "text/plain": [
       "<Figure size 432x288 with 1 Axes>"
      ]
     },
     "metadata": {
      "needs_background": "light"
     },
     "output_type": "display_data"
    }
   ],
   "source": [
    "# Kode Anda di sini\n",
    "x = np.linspace(100,280,100)\n",
    "plt.plot(\n",
    "    x, \n",
    "    norm.pdf(x, mu_tinggi_air, std_tinggi_air)\n",
    ");\n",
    "\n",
    "plt.axvline(251)\n",
    "\n",
    "display(HTML(\n",
    "    '$P(siaga1) = {:.6f}$'.format(\n",
    "        1 - norm.cdf(251, mu_tinggi_air, std_tinggi_air)\n",
    "    )\n",
    "))"
   ]
  },
  {
   "cell_type": "markdown",
   "metadata": {},
   "source": [
    "## 2. Bugs!\n",
    "\n",
    "Di suatu pusat data dengan 100 server, tiap *request* dialokasikan ke tiap server secara acak dengan peluang yang sama. Berdasarkan catatan, setiap server akan mendapatkan request sebanyak 2 per detik. Perusahaan yang menggunakan pusat data tersebut baru saja merilis kode ke semua server yang menyebabkan server akan *crash* jika mendapatkan lebih dari 6 requests per detik."
   ]
  },
  {
   "cell_type": "markdown",
   "metadata": {},
   "source": [
    "### Soal 2.a\n",
    "\n",
    "Jika kita melihat satu server dan server lainya bekerja secara independen. Modelkan cara untuk menghitung peluang suatu server akan *crash* di detik berikutnya."
   ]
  },
  {
   "cell_type": "markdown",
   "metadata": {},
   "source": [
    "*Jawaban Anda di sini*"
   ]
  },
  {
   "cell_type": "markdown",
   "metadata": {},
   "source": [
    "### Soal 2.b\n",
    "\n",
    "Hitunglah nilai probabilitas dari soal 2.a."
   ]
  },
  {
   "cell_type": "code",
   "execution_count": null,
   "metadata": {},
   "outputs": [],
   "source": [
    "display(HTML('$P(...)={:.4f}$'.format(\n",
    "    # Kode Anda di sini\n",
    ")))"
   ]
  },
  {
   "cell_type": "markdown",
   "metadata": {},
   "source": [
    "### Soal 2.c\n",
    "\n",
    "Gambarkan grafik dari distribusi tersebut. Jangan lupa untuk memberikan label pada sumbu x dan y."
   ]
  },
  {
   "cell_type": "code",
   "execution_count": null,
   "metadata": {},
   "outputs": [],
   "source": [
    "# Kode Anda di sini"
   ]
  },
  {
   "cell_type": "markdown",
   "metadata": {},
   "source": [
    "### Soal 2.d\n",
    "\n",
    "Berapa peluangnya bahwa tidak ada server yang akan *crash* di detik berikutnya?"
   ]
  },
  {
   "cell_type": "code",
   "execution_count": null,
   "metadata": {},
   "outputs": [],
   "source": [
    "display(HTML('$$P(...) = %.4f$$' %\n",
    "    # Kode Anda di sini\n",
    "))"
   ]
  },
  {
   "cell_type": "markdown",
   "metadata": {},
   "source": [
    "### Soal 2.e\n",
    "\n",
    "Gambarkan plot yang menunjukkan peluang tidak ada server yang *crash* detik berikutnya seiring dengan penambahan jumlahnya, i.e. peluang saat hanya 1 server, 2 server, 3 server, ..., 100 server."
   ]
  },
  {
   "cell_type": "code",
   "execution_count": null,
   "metadata": {},
   "outputs": [],
   "source": [
    "# Kode Anda di sini"
   ]
  }
 ],
 "metadata": {
  "kernelspec": {
   "display_name": "Python 3",
   "language": "python",
   "name": "python3"
  },
  "language_info": {
   "codemirror_mode": {
    "name": "ipython",
    "version": 3
   },
   "file_extension": ".py",
   "mimetype": "text/x-python",
   "name": "python",
   "nbconvert_exporter": "python",
   "pygments_lexer": "ipython3",
   "version": "3.7.3"
  }
 },
 "nbformat": 4,
 "nbformat_minor": 2
}
