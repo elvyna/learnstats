{
 "cells": [
  {
   "cell_type": "markdown",
   "metadata": {},
   "source": [
    "# Workshop in Probability and Statistics"
   ]
  },
  {
   "cell_type": "code",
   "execution_count": 1,
   "metadata": {},
   "outputs": [],
   "source": [
    "from IPython.display import display, HTML\n",
    "import altair as alt\n",
    "import matplotlib.pyplot as plt\n",
    "import numpy as np\n",
    "import pandas as pd\n",
    "import pymc3 as pm\n",
    "import seaborn as sns\n",
    "\n",
    "%matplotlib inline"
   ]
  },
  {
   "cell_type": "markdown",
   "metadata": {},
   "source": [
    "## 1. Banjir Jakarta\n",
    "\n",
    "Menurut [berita](https://www.beritasatu.com/megapolitan/250044/jakarta-urban-coalition-banjir-februari-2015-paling-parah), banjir Jakarta di bulan Februari 2015 adalah salah satu yang terparah sejak 2007. Dalam kasus di bawah ini, data yang digunakan didapatkan dari tingkat kelurahan. Data diperoleh dari data.go.id."
   ]
  },
  {
   "cell_type": "code",
   "execution_count": 101,
   "metadata": {},
   "outputs": [],
   "source": [
    "url_banjir_2015 = 'http://data.jakarta.go.id/dataset/df0b85a1-b9df-4aee-ad83-cb220ed84993/resource/d4ff93bd-bf81-4d6b-a26a-061775bc0364/download/Data-Kejadian-Banjir-Bulan-Februari-Tahun-2015.csv'\n",
    "\n",
    "urls = [\n",
    "    'http://data.jakarta.go.id/dataset/d8272c29-e0a4-4cca-bc30-db9e48ed02a5/resource/863b8e52-4369-452a-9d71-15545074717c/download/Data-Curah-Hujan-Dan-Hari-Hujan-Di-DKI-Jakarta-Menurut-Bulan-Tahun-2011.csv',\n",
    "    'http://data.jakarta.go.id/dataset/d8272c29-e0a4-4cca-bc30-db9e48ed02a5/resource/a392be77-d821-4b32-b673-c9d53bcaeff3/download/Data-Curah-Hujan-Dan-Hari-Hujan-Di-DKI-Jakarta-Menurut-Bulan-Tahun-2012.csv',\n",
    "    'http://data.jakarta.go.id/dataset/d8272c29-e0a4-4cca-bc30-db9e48ed02a5/resource/2760d910-9e32-4ba1-8e0e-5076933faadd/download/Data-Curah-Hujan-Dan-Hari-Hujan-Di-DKI-Jakarta-Menurut-Bulan-Tahun-2013.csv',\n",
    "    'http://data.jakarta.go.id/dataset/d8272c29-e0a4-4cca-bc30-db9e48ed02a5/resource/2b7645c9-6542-40e2-9b2c-4efc85f5c6a8/download/Data-Curah-Hujan-Dan-Hari-Hujan-Di-DKI-Jakarta-Menurut-Bulan-Tahun-2014.csv'\n",
    "]\n",
    "\n",
    "rt_rw_url = 'http://data.jakarta.go.id/dataset/3e2302de-3f82-43bc-ab33-78e7ae9732aa/resource/aafc5c0e-874b-4404-a1f0-2aace03c794e/download/RT-RW-LMK-2016EDITED.xls'"
   ]
  },
  {
   "cell_type": "markdown",
   "metadata": {},
   "source": [
    "### Soal 1.1\n",
    "\n",
    "Muat dan bersihkan data dari URL di atas"
   ]
  },
  {
   "cell_type": "code",
   "execution_count": 59,
   "metadata": {},
   "outputs": [],
   "source": [
    "banjir_feb = pd.read_csv(url_banjir_2015)\n",
    "\n",
    "curah = pd.DataFrame(columns=['tahun','bulan','curah_hujan','banyak_hari_hujan'])\n",
    "for url in urls:\n",
    "    curah = pd.concat([\n",
    "        curah,\n",
    "        pd.read_csv(url).dropna()\n",
    "    ])\n",
    "curah['index'] = pd.date_range('2011-01-01', '2014-12-31', freq='1M')\n",
    "curah = curah.set_index('index')"
   ]
  },
  {
   "cell_type": "code",
   "execution_count": 102,
   "metadata": {},
   "outputs": [],
   "source": [
    "rt_rw = pd.read_excel(rt_rw_url)"
   ]
  },
  {
   "cell_type": "code",
   "execution_count": 60,
   "metadata": {},
   "outputs": [],
   "source": [
    "curah = curah.astype({\n",
    "    'tahun': 'int',\n",
    "    'bulan': 'int'\n",
    "})\n",
    "curah['curah_hujan'] = curah['curah_hujan'].apply(lambda x: str(x).replace(',','.')).astype('float')\n",
    "curah['banyak_hari_hujan'] = curah['banyak_hari_hujan'].apply(lambda x: str(x).replace(',','.')).astype('float')"
   ]
  },
  {
   "cell_type": "markdown",
   "metadata": {},
   "source": [
    "### Soal 1.2.a\n",
    "\n",
    "Jika dilihat dari data seluruh kota administrasi di Jakarta, sekitar 18% RW per kelurahan akan terkena banjir. Jika jumlah RW di kelurahan Pulo Gebang adalah 16, berapa peluangnya RW yang terkena banjir kurang dari 5?"
   ]
  },
  {
   "cell_type": "code",
   "execution_count": 237,
   "metadata": {},
   "outputs": [
    {
     "data": {
      "text/html": [
       "$P(X\\leq4)=0.95$"
      ],
      "text/plain": [
       "<IPython.core.display.HTML object>"
      ]
     },
     "metadata": {},
     "output_type": "display_data"
    },
    {
     "data": {
      "image/png": "[encoded data removed]",
      "text/plain": [
       "<Figure size 432x288 with 1 Axes>"
      ]
     },
     "metadata": {
      "needs_background": "light"
     },
     "output_type": "display_data"
    }
   ],
   "source": [
    "from scipy.stats import binom\n",
    "\n",
    "k = np.arange(20)\n",
    "plt.bar(k, binom.pmf(k, n=16, p=.18));\n",
    "display(HTML('$P(X\\leq4)={:.2f}$'.format(\n",
    "    binom.cdf(5, n=16, p=.18)\n",
    ")))"
   ]
  },
  {
   "cell_type": "markdown",
   "metadata": {},
   "source": [
    "### Soal 1.2.b\n",
    "\n",
    "Bandingkan dengan data sebenarnya, apakah prediksi Anda tepat?"
   ]
  },
  {
   "cell_type": "code",
   "execution_count": 78,
   "metadata": {},
   "outputs": [
    {
     "data": {
      "text/plain": [
       "89    3\n",
       "Name: jumlah_rw, dtype: int64"
      ]
     },
     "execution_count": 78,
     "metadata": {},
     "output_type": "execute_result"
    }
   ],
   "source": [
    "banjir_feb.query('kelurahan == \"Pulo Gebang\"').jumlah_rw"
   ]
  },
  {
   "cell_type": "markdown",
   "metadata": {},
   "source": [
    "### Soal 1.2.c\n",
    "\n",
    "Apakah model ini sudah cukup untuk digeneralisasi? Apa masalahnya? Apa yang dapat diusulkan untuk memperbaiki model ini?"
   ]
  },
  {
   "cell_type": "markdown",
   "metadata": {},
   "source": [
    "*Jawaban Anda di sini*"
   ]
  },
  {
   "cell_type": "markdown",
   "metadata": {},
   "source": [
    "### Soal 1.3.a\n",
    "\n",
    "Berdasarkan data, diketahui bahwa rata-rata jumlah RW per kelurahan yang terkena dampak banjir adalah 4.62. Jika kita mengasumsikan bahwa kelurahan yang masih dianggap aman adalah kelurahan dengan jumlah RW yang terkena dampak banjir tidak lebih dari 2, berapa peluangnya kita menemukan kelurahan yang tergolong aman?"
   ]
  },
  {
   "cell_type": "code",
   "execution_count": 240,
   "metadata": {},
   "outputs": [
    {
     "data": {
      "text/html": [
       "$P(X \\leq 2)=0.16$"
      ],
      "text/plain": [
       "<IPython.core.display.HTML object>"
      ]
     },
     "metadata": {},
     "output_type": "display_data"
    },
    {
     "data": {
      "image/png": "[encoded data removed]",
      "text/plain": [
       "<Figure size 432x288 with 1 Axes>"
      ]
     },
     "metadata": {
      "needs_background": "light"
     },
     "output_type": "display_data"
    }
   ],
   "source": [
    "from scipy.stats import poisson\n",
    "\n",
    "k = np.arange(17)\n",
    "plt.bar(k, poisson.pmf(k, 4.62))\n",
    "plt.xticks(k);\n",
    "display(HTML('$P(X \\leq 2)={:.2f}$'.format(\n",
    "    poisson.cdf(2, 4.62)\n",
    ")))"
   ]
  },
  {
   "cell_type": "markdown",
   "metadata": {},
   "source": [
    "### Soal 1.3.b\n",
    "\n",
    "Bandingkan dengan datanya, apakah prediksi Anda tepat?"
   ]
  },
  {
   "cell_type": "code",
   "execution_count": 170,
   "metadata": {},
   "outputs": [
    {
     "data": {
      "image/png": "[encoded data removed]",
      "text/plain": [
       "<Figure size 432x288 with 1 Axes>"
      ]
     },
     "metadata": {
      "needs_background": "light"
     },
     "output_type": "display_data"
    }
   ],
   "source": [
    "from scipy.stats import expon, gamma, norm\n",
    "\n",
    "x = np.linspace(1,16,100)\n",
    "plt.plot(x, expon(*expon.fit(banjir_feb['jumlah_rw'])).pdf(x), alpha=0.3, label='Exp')\n",
    "plt.plot(x, norm(*norm.fit(banjir_feb['jumlah_rw'])).pdf(x), alpha=0.3, label='$\\mathcal{N}$')\n",
    "plt.plot(k, poisson.pmf(k, 4.62), alpha=0.3, label='Poi')\n",
    "banjir_feb['jumlah_rw'].value_counts(True).sort_index().plot.bar(color='red', label='RW')\n",
    "plt.legend();"
   ]
  },
  {
   "cell_type": "code",
   "execution_count": 307,
   "metadata": {},
   "outputs": [],
   "source": [
    "def nll(dist, data):\n",
    "    display(HTML('$\\mathcal L(\\\\theta)= {:.2f}$'.format(\n",
    "        -dist.nnlf(dist.fit(data), data)\n",
    "    )))"
   ]
  },
  {
   "cell_type": "code",
   "execution_count": 309,
   "metadata": {},
   "outputs": [
    {
     "data": {
      "text/html": [
       "$\\mathcal L(\\theta)= -391.10$"
      ],
      "text/plain": [
       "<IPython.core.display.HTML object>"
      ]
     },
     "metadata": {},
     "output_type": "display_data"
    },
    {
     "data": {
      "text/html": [
       "$\\mathcal L(\\theta)= -364.04$"
      ],
      "text/plain": [
       "<IPython.core.display.HTML object>"
      ]
     },
     "metadata": {},
     "output_type": "display_data"
    },
    {
     "data": {
      "text/html": [
       "$\\mathcal L(\\theta)= -304.25$"
      ],
      "text/plain": [
       "<IPython.core.display.HTML object>"
      ]
     },
     "metadata": {},
     "output_type": "display_data"
    }
   ],
   "source": [
    "data = banjir_feb['jumlah_rw']\n",
    "display(HTML('$\\mathcal L(\\\\theta)= {:.2f}$'.format(\n",
    "    poisson(data.mean()).logpmf(data).sum()\n",
    ")))\n",
    "nll(norm, data)\n",
    "nll(expon, data)"
   ]
  },
  {
   "cell_type": "markdown",
   "metadata": {},
   "source": [
    "### Soal 1.4.a\n",
    "\n",
    "Berdasarkan data historis, berapa rata-rata hari hujan di bulan Februari di Jakarta?"
   ]
  },
  {
   "cell_type": "code",
   "execution_count": 207,
   "metadata": {},
   "outputs": [
    {
     "data": {
      "text/plain": [
       "19.2"
      ]
     },
     "execution_count": 207,
     "metadata": {},
     "output_type": "execute_result"
    }
   ],
   "source": [
    "curah.query('bulan == 2')['banyak_hari_hujan'].mean()"
   ]
  },
  {
   "cell_type": "markdown",
   "metadata": {},
   "source": [
    "### Soal 1.4.b\n",
    "\n",
    "Jika diasumsikan bahwa banjir terjadi saat hari hujan per bulan di atas 3 minggu, berapa peluang banjir terjadi di bulan Februari 2015? Gambarkan distribusinya!"
   ]
  },
  {
   "cell_type": "code",
   "execution_count": 232,
   "metadata": {},
   "outputs": [
    {
     "data": {
      "text/html": [
       "P(banjir)=0.22"
      ],
      "text/plain": [
       "<IPython.core.display.HTML object>"
      ]
     },
     "metadata": {},
     "output_type": "display_data"
    },
    {
     "data": {
      "image/png": "[encoded data removed]",
      "text/plain": [
       "<Figure size 432x288 with 1 Axes>"
      ]
     },
     "metadata": {
      "needs_background": "light"
     },
     "output_type": "display_data"
    }
   ],
   "source": [
    "k = np.arange(32)\n",
    "plt.bar(k, norm(*curah.query('bulan == 2')['banyak_hari_hujan'].agg(['mean','std'])).pdf(k))\n",
    "plt.axvline(21, linestyle='--', c='r');\n",
    "display(HTML('P(banjir)={:.2f}'.format(\n",
    "    1-norm(*curah.query('bulan == 2')['banyak_hari_hujan'].agg(['mean','std'])).cdf(21)\n",
    ")))"
   ]
  },
  {
   "cell_type": "markdown",
   "metadata": {},
   "source": [
    "### Soal 1.5\n",
    "\n",
    "Distribusi apa yang paling cocok untuk menggambarkan variabel curah hujan?"
   ]
  },
  {
   "cell_type": "code",
   "execution_count": 317,
   "metadata": {},
   "outputs": [
    {
     "data": {
      "text/html": [
       "$\\mathcal L(\\theta)= -319.54$"
      ],
      "text/plain": [
       "<IPython.core.display.HTML object>"
      ]
     },
     "metadata": {},
     "output_type": "display_data"
    },
    {
     "data": {
      "text/html": [
       "$\\mathcal L(\\theta)= -303.38$"
      ],
      "text/plain": [
       "<IPython.core.display.HTML object>"
      ]
     },
     "metadata": {},
     "output_type": "display_data"
    },
    {
     "data": {
      "text/html": [
       "$\\mathcal L(\\theta)= -300.89$"
      ],
      "text/plain": [
       "<IPython.core.display.HTML object>"
      ]
     },
     "metadata": {},
     "output_type": "display_data"
    },
    {
     "data": {
      "text/html": [
       "$\\mathcal L(\\theta)= -295.22$"
      ],
      "text/plain": [
       "<IPython.core.display.HTML object>"
      ]
     },
     "metadata": {},
     "output_type": "display_data"
    },
    {
     "data": {
      "image/png": "[encoded data removed]",
      "text/plain": [
       "<Figure size 432x288 with 1 Axes>"
      ]
     },
     "metadata": {
      "needs_background": "light"
     },
     "output_type": "display_data"
    }
   ],
   "source": [
    "from scipy.stats import norm, skewnorm, t\n",
    "\n",
    "x = curah['curah_hujan']\n",
    "sns.distplot(x);\n",
    "nll(norm, x)\n",
    "nll(t, x)\n",
    "nll(skewnorm, x)\n",
    "nll(expon, x)"
   ]
  },
  {
   "cell_type": "markdown",
   "metadata": {},
   "source": [
    "### Soal 1.6.a\n",
    "\n",
    "Dua tahun kemudian ([Februari 2017](http://data.jakarta.go.id/dataset/data-tinggi-muka-air-di-dki-jakarta-tahun-2017/resource/e0f89dd5-7335-4bbd-837a-e6fad3520484)), diketahui bahwa rata-rata tinggi air di pintu air Pasar Ikan, Jakarta Utara, 169 cm dan standar deviasinya  adalah 19 cm. Jika peringatan status Siaga III banjir diberikan saat tinggi air antara 171-200 cm, berapa peluangnya pada bulan tersebut ada peringatan Siaga III? Gambarkan distribusinya."
   ]
  },
  {
   "cell_type": "code",
   "execution_count": 236,
   "metadata": {},
   "outputs": [
    {
     "data": {
      "text/html": [
       "P(siaga3)=0.41"
      ],
      "text/plain": [
       "<IPython.core.display.HTML object>"
      ]
     },
     "metadata": {},
     "output_type": "display_data"
    },
    {
     "data": {
      "image/png": "[encoded data removed]",
      "text/plain": [
       "<Figure size 432x288 with 1 Axes>"
      ]
     },
     "metadata": {
      "needs_background": "light"
     },
     "output_type": "display_data"
    }
   ],
   "source": [
    "mu = 169\n",
    "sigma = 19\n",
    "x = np.linspace(100, 240, 100)\n",
    "plt.plot(x, norm.pdf(x, mu, sigma))\n",
    "xx = np.linspace(171, 200, 100)\n",
    "plt.fill_between(xx, norm.pdf(xx, mu, sigma), alpha=0.3)\n",
    "display(HTML('P(siaga3)={:.2f}'.format(\n",
    "    norm.cdf(200, mu, sigma)-norm.cdf(171, mu, sigma)\n",
    ")))"
   ]
  },
  {
   "cell_type": "markdown",
   "metadata": {},
   "source": [
    "### Soal 1.6.b\n",
    "\n",
    "Berdasarkan soal 1.6.a, jika status Siaga I di pintu air Pasar Ikan diberikan saat tinggi air minimal 251 cm, berapa peluangnya di bulan tersebut Anda akan mendapatkan peringatan Siaga I?"
   ]
  },
  {
   "cell_type": "code",
   "execution_count": 234,
   "metadata": {},
   "outputs": [
    {
     "data": {
      "text/html": [
       "P(siaga3)=0.00"
      ],
      "text/plain": [
       "<IPython.core.display.HTML object>"
      ]
     },
     "metadata": {},
     "output_type": "display_data"
    },
    {
     "data": {
      "image/png": "[encoded data removed]",
      "text/plain": [
       "<Figure size 432x288 with 1 Axes>"
      ]
     },
     "metadata": {
      "needs_background": "light"
     },
     "output_type": "display_data"
    }
   ],
   "source": [
    "x = np.linspace(100, 240, 100)\n",
    "plt.plot(x, norm.pdf(x, 169, 19))\n",
    "display(HTML('P(siaga3)={:.2f}'.format(\n",
    "    1-norm.cdf(251, 169, 19)\n",
    ")))"
   ]
  },
  {
   "cell_type": "markdown",
   "metadata": {},
   "source": [
    "## 2. Bugs!\n",
    "\n",
    "Di suatu pusat data dengan 100 server, tiap *request* dialokasikan ke tiap server secara acak dengan peluang yang sama. Berdasarkan catatan, setiap server akan mendapatkan request sebanyak 2 per detik. Perusahaan yang menggunakan pusat data tersebut baru saja merilis kode ke semua server yang menyebabkan server akan *crash* jika mendapatkan lebih dari 6 requests per detik."
   ]
  },
  {
   "cell_type": "markdown",
   "metadata": {},
   "source": [
    "### Soal 2.a\n",
    "\n",
    "Jika kita melihat satu server dan server lainya bekerja secara independen. Modelkan cara untuk menghitung peluang suatu server akan *crash* di detik berikutnya."
   ]
  },
  {
   "cell_type": "markdown",
   "metadata": {},
   "source": [
    "*Jawaban Anda di sini*"
   ]
  },
  {
   "cell_type": "markdown",
   "metadata": {},
   "source": [
    "### Soal 2.b\n",
    "\n",
    "Hitunglah nilai probabilitas dari soal 2.a."
   ]
  },
  {
   "cell_type": "code",
   "execution_count": 328,
   "metadata": {},
   "outputs": [
    {
     "data": {
      "text/html": [
       "$P(X>6)=0.0045$"
      ],
      "text/plain": [
       "<IPython.core.display.HTML object>"
      ]
     },
     "metadata": {},
     "output_type": "display_data"
    }
   ],
   "source": [
    "display(HTML('$P(X>6)={:.4f}$'.format(\n",
    "    1-poisson.cdf(6, mu=2)\n",
    ")))"
   ]
  },
  {
   "cell_type": "markdown",
   "metadata": {},
   "source": [
    "### Soal 2.c\n",
    "\n",
    "Gambarkan grafik dari distribusi tersebut. Jangan lupa untuk memberikan label pada sumbu x dan y."
   ]
  },
  {
   "cell_type": "code",
   "execution_count": 327,
   "metadata": {},
   "outputs": [
    {
     "data": {
      "image/png": "[encoded data removed]",
      "text/plain": [
       "<Figure size 432x288 with 1 Axes>"
      ]
     },
     "metadata": {
      "needs_background": "light"
     },
     "output_type": "display_data"
    }
   ],
   "source": [
    "k = np.arange(10)\n",
    "plt.bar(k, poisson(2).pmf(k))\n",
    "plt.xlabel('# requests (k)')\n",
    "plt.ylabel('p(k)');"
   ]
  },
  {
   "cell_type": "markdown",
   "metadata": {},
   "source": [
    "### Soal 2.d\n",
    "\n",
    "Berapa peluangnya bahwa tidak ada server yang akan *crash* di detik berikutnya?"
   ]
  },
  {
   "cell_type": "code",
   "execution_count": 336,
   "metadata": {},
   "outputs": [
    {
     "data": {
      "text/html": [
       "$$P(X_1 \\leq 6, X_2 \\leq 6, ..., X_{100} \\leq 6) = \\prod_{i=1}^{100} P(X_i \\leq 6) = 0.6348$$"
      ],
      "text/plain": [
       "<IPython.core.display.HTML object>"
      ]
     },
     "metadata": {},
     "output_type": "display_data"
    }
   ],
   "source": [
    "display(HTML('$$P(X_1 \\leq 6, X_2 \\leq 6, ..., X_{100} \\leq 6) = \\prod_{i=1}^{100} P(X_i \\leq 6) = %.4f$$' %\n",
    "    poisson.cdf(6, mu=2)**100\n",
    "))"
   ]
  },
  {
   "cell_type": "markdown",
   "metadata": {},
   "source": [
    "### Soal 2.e\n",
    "\n",
    "Gambarkan plot yang menunjukkan peluang tidak ada server yang *crash* detik berikutnya seiring dengan penambahan jumlahnya, i.e. peluang saat hanya 1 server, 2 server, 3 server, ..., 100 server."
   ]
  },
  {
   "cell_type": "code",
   "execution_count": 341,
   "metadata": {},
   "outputs": [
    {
     "data": {
      "image/png": "[encoded data removed]",
      "text/plain": [
       "<Figure size 432x288 with 1 Axes>"
      ]
     },
     "metadata": {
      "needs_background": "light"
     },
     "output_type": "display_data"
    }
   ],
   "source": [
    "plt.plot(range(1,101), [poisson.cdf(6, mu=2)**i for i in range(1,101)]);"
   ]
  }
 ],
 "metadata": {
  "kernelspec": {
   "display_name": "Python 3",
   "language": "python",
   "name": "python3"
  },
  "language_info": {
   "codemirror_mode": {
    "name": "ipython",
    "version": 3
   },
   "file_extension": ".py",
   "mimetype": "text/x-python",
   "name": "python",
   "nbconvert_exporter": "python",
   "pygments_lexer": "ipython3",
   "version": "3.6.7"
  }
 },
 "nbformat": 4,
 "nbformat_minor": 2
}
