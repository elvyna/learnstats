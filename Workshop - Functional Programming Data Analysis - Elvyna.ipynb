{
 "cells": [
  {
   "cell_type": "markdown",
   "metadata": {},
   "source": [
    "# Introduction to Functional Programming in Python\n",
    "\n",
    "## WHAT is Functional Programming\n",
    "There are two paradigm (of many): **Imperative Programming** and **Functional Programming**\n",
    "\n",
    "### Imperative Programming\n",
    "\n",
    "> A language is imperative because each statement is a command, which changes the state in some way.$^{[1]}$\n",
    "\n",
    "Example: python, java, etc\n",
    "\n",
    "### Functional Programming\n",
    "\n",
    "> In a functional language, we replace the state—the changing values of variables—with a simpler notion of evaluating functions\n",
    "\n",
    "**Note: Python is a hybrid language, can be imperative or functional programming**\n",
    "\n",
    "## WHY use Functional Programming in Data Analysis\n",
    "\n",
    "1. Close to **mathematical formalisms**.\n",
    "2. More **expressive and efficient**.\n",
    "\n",
    "## WHEN & WHERE to use Functional Programming (esp. for Data Analysis)\n",
    "\n",
    "## HOW\n",
    "\n"
   ]
  },
  {
   "cell_type": "markdown",
   "metadata": {},
   "source": [
    "### List, Set, Dict, Zip Comprehension"
   ]
  },
  {
   "cell_type": "code",
   "execution_count": 4,
   "metadata": {},
   "outputs": [],
   "source": [
    "import numpy as np\n",
    "\n",
    "def f():\n",
    "    yield np.random.randint(4)\n",
    "    \n",
    "def f1():\n",
    "    return np.random.randint(4)"
   ]
  },
  {
   "cell_type": "code",
   "execution_count": 18,
   "metadata": {},
   "outputs": [
    {
     "data": {
      "text/plain": [
       "<generator object f at 0x7ffaa44d5840>"
      ]
     },
     "execution_count": 18,
     "metadata": {},
     "output_type": "execute_result"
    }
   ],
   "source": [
    "## not directly return result\n",
    "## more memory efficient\n",
    "f()"
   ]
  },
  {
   "cell_type": "code",
   "execution_count": 14,
   "metadata": {},
   "outputs": [
    {
     "data": {
      "text/plain": [
       "[3]"
      ]
     },
     "execution_count": 14,
     "metadata": {},
     "output_type": "execute_result"
    }
   ],
   "source": [
    "## its value can be returned if we \"force\" them\n",
    "## such as using list comprehensions\n",
    "[\n",
    "    i for i in f()\n",
    "]"
   ]
  },
  {
   "cell_type": "code",
   "execution_count": null,
   "metadata": {},
   "outputs": [],
   "source": [
    "## sample in Spark\n",
    "## collect will force to retrieve the data\n",
    "## rdd.map(lambda x: x+1).map(lambda x: x/2).collect() "
   ]
  },
  {
   "cell_type": "code",
   "execution_count": 6,
   "metadata": {},
   "outputs": [
    {
     "data": {
      "text/plain": [
       "2"
      ]
     },
     "execution_count": 6,
     "metadata": {},
     "output_type": "execute_result"
    }
   ],
   "source": [
    "## compare with this function, it directly returns the result\n",
    "f1()"
   ]
  },
  {
   "cell_type": "code",
   "execution_count": 19,
   "metadata": {},
   "outputs": [
    {
     "data": {
      "text/plain": [
       "[20, 22, 24, 26, 28]"
      ]
     },
     "execution_count": 19,
     "metadata": {},
     "output_type": "execute_result"
    }
   ],
   "source": [
    "# list comprehension\n",
    "a = [\n",
    "    x for x in range(20, 30, 2)\n",
    "]\n",
    "a"
   ]
  },
  {
   "cell_type": "code",
   "execution_count": 20,
   "metadata": {},
   "outputs": [
    {
     "data": {
      "text/plain": [
       "{20, 21, 22, 23, 24, 25, 26, 27, 28, 29}"
      ]
     },
     "execution_count": 20,
     "metadata": {},
     "output_type": "execute_result"
    }
   ],
   "source": [
    "# set comprehension\n",
    "b = {x for x in range(20, 30)}\n",
    "b"
   ]
  },
  {
   "cell_type": "code",
   "execution_count": 26,
   "metadata": {},
   "outputs": [
    {
     "data": {
      "text/plain": [
       "{1: 'a', 2: 'b', 3: 'c'}"
      ]
     },
     "execution_count": 26,
     "metadata": {},
     "output_type": "execute_result"
    }
   ],
   "source": [
    "## zip can handle two variables with different length\n",
    "## it will only zip up to the shortest length\n",
    "\n",
    "c = [1, 2, 3, 4]\n",
    "d = ['a', 'b', 'c']\n",
    "e = {\n",
    "    k: v for k, v in zip(c, d)\n",
    "}\n",
    "\n",
    "e"
   ]
  },
  {
   "cell_type": "code",
   "execution_count": 24,
   "metadata": {},
   "outputs": [
    {
     "data": {
      "text/plain": [
       "[(1, 'a'), (2, 'b'), (3, 'c')]"
      ]
     },
     "execution_count": 24,
     "metadata": {},
     "output_type": "execute_result"
    }
   ],
   "source": [
    "list(zip(c, d))"
   ]
  },
  {
   "cell_type": "markdown",
   "metadata": {},
   "source": [
    "### Aggregation Functions\n",
    "\n",
    "**Map**\n",
    "\n",
    "apply a function to each elements in iterable and return the transformed result"
   ]
  },
  {
   "cell_type": "code",
   "execution_count": 28,
   "metadata": {},
   "outputs": [
    {
     "data": {
      "text/plain": [
       "[1, 2, 3, 3, 2]"
      ]
     },
     "execution_count": 28,
     "metadata": {},
     "output_type": "execute_result"
    }
   ],
   "source": [
    "some_list = [\n",
    "    'a',\n",
    "    'b',\n",
    "    'c',\n",
    "    'c',\n",
    "    'b'\n",
    "]\n",
    "\n",
    "# decoding string to number\n",
    "# note that map is lazy, it does not execute before \"forced\"\n",
    "list(\n",
    "    map(lambda x: 1 if x == 'a' else 2 if x == 'b' else 3, some_list)\n",
    ")"
   ]
  },
  {
   "cell_type": "markdown",
   "metadata": {},
   "source": [
    "**Filter**\n",
    "\n",
    "Filter an iterable by condition provided by a boolean function"
   ]
  },
  {
   "cell_type": "code",
   "execution_count": 33,
   "metadata": {},
   "outputs": [
    {
     "data": {
      "text/plain": [
       "['c', 'c']"
      ]
     },
     "execution_count": 33,
     "metadata": {},
     "output_type": "execute_result"
    }
   ],
   "source": [
    "list(\n",
    "    filter(\n",
    "        lambda x: x == 'c',\n",
    "        some_list\n",
    "    )\n",
    ")"
   ]
  },
  {
   "cell_type": "markdown",
   "metadata": {},
   "source": [
    "**Sorted & Reverse**\n",
    "\n",
    "`sorted`: well do sorting!\n",
    "\n",
    "\n",
    "`reversed`: reverse the order of an iterable"
   ]
  },
  {
   "cell_type": "code",
   "execution_count": 34,
   "metadata": {},
   "outputs": [
    {
     "name": "stdout",
     "output_type": "stream",
     "text": [
      "[1, 3, 4, 7, 19]\n"
     ]
    }
   ],
   "source": [
    "print([x for x in sorted([3,1,19,7,4])])"
   ]
  },
  {
   "cell_type": "code",
   "execution_count": 35,
   "metadata": {},
   "outputs": [
    {
     "name": "stdout",
     "output_type": "stream",
     "text": [
      "[9, 8, 7, 6, 5, 4, 3, 2, 1, 0]\n",
      "['d', 'c', 'b', 'a']\n"
     ]
    }
   ],
   "source": [
    "print([x for x in reversed(range(10))])\n",
    "print([x for x in reversed(['a', 'b', 'c', 'd'])])"
   ]
  },
  {
   "cell_type": "markdown",
   "metadata": {},
   "source": [
    "## Exercise!"
   ]
  },
  {
   "cell_type": "markdown",
   "metadata": {},
   "source": [
    "1. Create list of integer sequence max 5372, select only even numbers, change the value into 'TADA' if it is divisible by 6"
   ]
  },
  {
   "cell_type": "code",
   "execution_count": 52,
   "metadata": {},
   "outputs": [
    {
     "data": {
      "text/plain": [
       "['TADA',\n",
       " 2,\n",
       " 4,\n",
       " 'TADA',\n",
       " 8,\n",
       " 10,\n",
       " 'TADA',\n",
       " 14,\n",
       " 16,\n",
       " 'TADA',\n",
       " 20,\n",
       " 22,\n",
       " 'TADA',\n",
       " 26,\n",
       " 28,\n",
       " 'TADA',\n",
       " 32,\n",
       " 34,\n",
       " 'TADA',\n",
       " 38]"
      ]
     },
     "execution_count": 52,
     "metadata": {},
     "output_type": "execute_result"
    }
   ],
   "source": [
    "# TODO\n",
    "list(\n",
    "    map(\n",
    "        lambda x: 'TADA' if (x % 6 == 0) else x,\n",
    "        list(\n",
    "            filter (\n",
    "                lambda x: x % 2 == 0,\n",
    "                [x for x in np.arange(0,5373)]\n",
    "            )\n",
    "        )\n",
    "    )\n",
    ")[:20]"
   ]
  },
  {
   "cell_type": "markdown",
   "metadata": {},
   "source": [
    "2. create dictionary of random integer (max 10) -> random float (max 7000), sum for every key, then sort the result"
   ]
  },
  {
   "cell_type": "code",
   "execution_count": 66,
   "metadata": {},
   "outputs": [
    {
     "data": {
      "text/plain": [
       "3365888.021834589"
      ]
     },
     "execution_count": 66,
     "metadata": {},
     "output_type": "execute_result"
    }
   ],
   "source": [
    "# TODO\n",
    "import numpy as np\n",
    "from functools import reduce\n",
    "from itertools import groupby\n",
    "\n",
    "reduce(\n",
    "    lambda a, b: a+b,\n",
    "    map(\n",
    "        lambda x: x[1],\n",
    "        [\n",
    "            (\n",
    "                np.random.randint(10),\n",
    "                np.random.uniform(7000)\n",
    "            ) for i in range(1000)\n",
    "        ]\n",
    "    )\n",
    ")\n",
    "\n",
    "## arie will give the answer later"
   ]
  },
  {
   "cell_type": "markdown",
   "metadata": {},
   "source": [
    "## Pandas!"
   ]
  },
  {
   "cell_type": "code",
   "execution_count": 67,
   "metadata": {},
   "outputs": [],
   "source": [
    "import pandas as pd\n",
    "from sklearn.datasets import load_iris"
   ]
  },
  {
   "cell_type": "code",
   "execution_count": 68,
   "metadata": {},
   "outputs": [],
   "source": [
    "data = pd.DataFrame(\n",
    "    load_iris()['data'],\n",
    "    columns=[\n",
    "        'petal_length',\n",
    "        'petal_width',\n",
    "        'sepal_length',\n",
    "        'sepal_width'\n",
    "    ]\n",
    ")"
   ]
  },
  {
   "cell_type": "code",
   "execution_count": 69,
   "metadata": {},
   "outputs": [
    {
     "data": {
      "text/html": [
       "<div>\n",
       "<style scoped>\n",
       "    .dataframe tbody tr th:only-of-type {\n",
       "        vertical-align: middle;\n",
       "    }\n",
       "\n",
       "    .dataframe tbody tr th {\n",
       "        vertical-align: top;\n",
       "    }\n",
       "\n",
       "    .dataframe thead th {\n",
       "        text-align: right;\n",
       "    }\n",
       "</style>\n",
       "<table border=\"1\" class=\"dataframe\">\n",
       "  <thead>\n",
       "    <tr style=\"text-align: right;\">\n",
       "      <th></th>\n",
       "      <th>petal_length</th>\n",
       "      <th>petal_width</th>\n",
       "      <th>sepal_length</th>\n",
       "      <th>sepal_width</th>\n",
       "    </tr>\n",
       "  </thead>\n",
       "  <tbody>\n",
       "    <tr>\n",
       "      <th>0</th>\n",
       "      <td>5.1</td>\n",
       "      <td>3.5</td>\n",
       "      <td>1.4</td>\n",
       "      <td>0.2</td>\n",
       "    </tr>\n",
       "    <tr>\n",
       "      <th>1</th>\n",
       "      <td>4.9</td>\n",
       "      <td>3.0</td>\n",
       "      <td>1.4</td>\n",
       "      <td>0.2</td>\n",
       "    </tr>\n",
       "    <tr>\n",
       "      <th>2</th>\n",
       "      <td>4.7</td>\n",
       "      <td>3.2</td>\n",
       "      <td>1.3</td>\n",
       "      <td>0.2</td>\n",
       "    </tr>\n",
       "    <tr>\n",
       "      <th>3</th>\n",
       "      <td>4.6</td>\n",
       "      <td>3.1</td>\n",
       "      <td>1.5</td>\n",
       "      <td>0.2</td>\n",
       "    </tr>\n",
       "    <tr>\n",
       "      <th>4</th>\n",
       "      <td>5.0</td>\n",
       "      <td>3.6</td>\n",
       "      <td>1.4</td>\n",
       "      <td>0.2</td>\n",
       "    </tr>\n",
       "  </tbody>\n",
       "</table>\n",
       "</div>"
      ],
      "text/plain": [
       "   petal_length  petal_width  sepal_length  sepal_width\n",
       "0           5.1          3.5           1.4          0.2\n",
       "1           4.9          3.0           1.4          0.2\n",
       "2           4.7          3.2           1.3          0.2\n",
       "3           4.6          3.1           1.5          0.2\n",
       "4           5.0          3.6           1.4          0.2"
      ]
     },
     "execution_count": 69,
     "metadata": {},
     "output_type": "execute_result"
    }
   ],
   "source": [
    "data.head()"
   ]
  },
  {
   "cell_type": "markdown",
   "metadata": {},
   "source": [
    "### Apply\n",
    "\n",
    "Apply a function for each axis, could be per column (axis=1) or per row (by default / axis=0)"
   ]
  },
  {
   "cell_type": "code",
   "execution_count": 72,
   "metadata": {},
   "outputs": [
    {
     "data": {
      "text/html": [
       "<div>\n",
       "<style scoped>\n",
       "    .dataframe tbody tr th:only-of-type {\n",
       "        vertical-align: middle;\n",
       "    }\n",
       "\n",
       "    .dataframe tbody tr th {\n",
       "        vertical-align: top;\n",
       "    }\n",
       "\n",
       "    .dataframe thead th {\n",
       "        text-align: right;\n",
       "    }\n",
       "</style>\n",
       "<table border=\"1\" class=\"dataframe\">\n",
       "  <thead>\n",
       "    <tr style=\"text-align: right;\">\n",
       "      <th></th>\n",
       "      <th>petal_length</th>\n",
       "      <th>petal_width</th>\n",
       "      <th>sepal_length</th>\n",
       "      <th>sepal_width</th>\n",
       "    </tr>\n",
       "  </thead>\n",
       "  <tbody>\n",
       "    <tr>\n",
       "      <th>0</th>\n",
       "      <td>8.1</td>\n",
       "      <td>6.5</td>\n",
       "      <td>4.4</td>\n",
       "      <td>3.2</td>\n",
       "    </tr>\n",
       "    <tr>\n",
       "      <th>1</th>\n",
       "      <td>7.9</td>\n",
       "      <td>6.0</td>\n",
       "      <td>4.4</td>\n",
       "      <td>3.2</td>\n",
       "    </tr>\n",
       "    <tr>\n",
       "      <th>2</th>\n",
       "      <td>7.7</td>\n",
       "      <td>6.2</td>\n",
       "      <td>4.3</td>\n",
       "      <td>3.2</td>\n",
       "    </tr>\n",
       "    <tr>\n",
       "      <th>3</th>\n",
       "      <td>7.6</td>\n",
       "      <td>6.1</td>\n",
       "      <td>4.5</td>\n",
       "      <td>3.2</td>\n",
       "    </tr>\n",
       "    <tr>\n",
       "      <th>4</th>\n",
       "      <td>8.0</td>\n",
       "      <td>6.6</td>\n",
       "      <td>4.4</td>\n",
       "      <td>3.2</td>\n",
       "    </tr>\n",
       "  </tbody>\n",
       "</table>\n",
       "</div>"
      ],
      "text/plain": [
       "   petal_length  petal_width  sepal_length  sepal_width\n",
       "0           8.1          6.5           4.4          3.2\n",
       "1           7.9          6.0           4.4          3.2\n",
       "2           7.7          6.2           4.3          3.2\n",
       "3           7.6          6.1           4.5          3.2\n",
       "4           8.0          6.6           4.4          3.2"
      ]
     },
     "execution_count": 72,
     "metadata": {},
     "output_type": "execute_result"
    }
   ],
   "source": [
    "data.apply(\n",
    "    lambda series: series + 3\n",
    "    , axis=1\n",
    ").head()"
   ]
  },
  {
   "cell_type": "markdown",
   "metadata": {},
   "source": [
    "### Applymap\n",
    "\n",
    "apply a function for each element ==> **per cell**"
   ]
  },
  {
   "cell_type": "code",
   "execution_count": 20,
   "metadata": {},
   "outputs": [
    {
     "data": {
      "text/html": [
       "<div>\n",
       "<style scoped>\n",
       "    .dataframe tbody tr th:only-of-type {\n",
       "        vertical-align: middle;\n",
       "    }\n",
       "\n",
       "    .dataframe tbody tr th {\n",
       "        vertical-align: top;\n",
       "    }\n",
       "\n",
       "    .dataframe thead th {\n",
       "        text-align: right;\n",
       "    }\n",
       "</style>\n",
       "<table border=\"1\" class=\"dataframe\">\n",
       "  <thead>\n",
       "    <tr style=\"text-align: right;\">\n",
       "      <th></th>\n",
       "      <th>petal_length</th>\n",
       "      <th>petal_width</th>\n",
       "      <th>sepal_length</th>\n",
       "      <th>sepal_width</th>\n",
       "    </tr>\n",
       "  </thead>\n",
       "  <tbody>\n",
       "    <tr>\n",
       "      <th>0</th>\n",
       "      <td>8.1</td>\n",
       "      <td>6.5</td>\n",
       "      <td>4.4</td>\n",
       "      <td>3.2</td>\n",
       "    </tr>\n",
       "    <tr>\n",
       "      <th>1</th>\n",
       "      <td>7.9</td>\n",
       "      <td>6.0</td>\n",
       "      <td>4.4</td>\n",
       "      <td>3.2</td>\n",
       "    </tr>\n",
       "    <tr>\n",
       "      <th>2</th>\n",
       "      <td>7.7</td>\n",
       "      <td>6.2</td>\n",
       "      <td>4.3</td>\n",
       "      <td>3.2</td>\n",
       "    </tr>\n",
       "    <tr>\n",
       "      <th>3</th>\n",
       "      <td>7.6</td>\n",
       "      <td>6.1</td>\n",
       "      <td>4.5</td>\n",
       "      <td>3.2</td>\n",
       "    </tr>\n",
       "    <tr>\n",
       "      <th>4</th>\n",
       "      <td>8.0</td>\n",
       "      <td>6.6</td>\n",
       "      <td>4.4</td>\n",
       "      <td>3.2</td>\n",
       "    </tr>\n",
       "  </tbody>\n",
       "</table>\n",
       "</div>"
      ],
      "text/plain": [
       "   petal_length  petal_width  sepal_length  sepal_width\n",
       "0           8.1          6.5           4.4          3.2\n",
       "1           7.9          6.0           4.4          3.2\n",
       "2           7.7          6.2           4.3          3.2\n",
       "3           7.6          6.1           4.5          3.2\n",
       "4           8.0          6.6           4.4          3.2"
      ]
     },
     "execution_count": 20,
     "metadata": {},
     "output_type": "execute_result"
    }
   ],
   "source": [
    "data.applymap(\n",
    "    lambda element: element + 3\n",
    ").head()"
   ]
  },
  {
   "cell_type": "markdown",
   "metadata": {},
   "source": [
    "### Map"
   ]
  },
  {
   "cell_type": "code",
   "execution_count": 21,
   "metadata": {},
   "outputs": [
    {
     "data": {
      "text/plain": [
       "0    26.01\n",
       "1    24.01\n",
       "2    22.09\n",
       "3    21.16\n",
       "4    25.00\n",
       "Name: petal_length, dtype: float64"
      ]
     },
     "execution_count": 21,
     "metadata": {},
     "output_type": "execute_result"
    }
   ],
   "source": [
    "data.petal_length.map(\n",
    "    lambda x: x ** 2\n",
    ").head()"
   ]
  },
  {
   "cell_type": "markdown",
   "metadata": {},
   "source": [
    "### Assign\n",
    "\n",
    "[docs](https://pandas.pydata.org/pandas-docs/stable/reference/api/pandas.DataFrame.assign.html)\n",
    "\n",
    "**To create new field**\n",
    "\n",
    "Pay attention: some functions pass by value (e.g. assign), while some others pass by reference."
   ]
  },
  {
   "cell_type": "code",
   "execution_count": 32,
   "metadata": {},
   "outputs": [
    {
     "data": {
      "text/html": [
       "<div>\n",
       "<style scoped>\n",
       "    .dataframe tbody tr th:only-of-type {\n",
       "        vertical-align: middle;\n",
       "    }\n",
       "\n",
       "    .dataframe tbody tr th {\n",
       "        vertical-align: top;\n",
       "    }\n",
       "\n",
       "    .dataframe thead th {\n",
       "        text-align: right;\n",
       "    }\n",
       "</style>\n",
       "<table border=\"1\" class=\"dataframe\">\n",
       "  <thead>\n",
       "    <tr style=\"text-align: right;\">\n",
       "      <th></th>\n",
       "      <th>petal_length</th>\n",
       "      <th>petal_width</th>\n",
       "      <th>sepal_length</th>\n",
       "      <th>sepal_width</th>\n",
       "      <th>is_petal_large</th>\n",
       "    </tr>\n",
       "  </thead>\n",
       "  <tbody>\n",
       "    <tr>\n",
       "      <th>0</th>\n",
       "      <td>5.1</td>\n",
       "      <td>3.5</td>\n",
       "      <td>1.4</td>\n",
       "      <td>0.2</td>\n",
       "      <td>True</td>\n",
       "    </tr>\n",
       "    <tr>\n",
       "      <th>1</th>\n",
       "      <td>4.9</td>\n",
       "      <td>3.0</td>\n",
       "      <td>1.4</td>\n",
       "      <td>0.2</td>\n",
       "      <td>False</td>\n",
       "    </tr>\n",
       "    <tr>\n",
       "      <th>2</th>\n",
       "      <td>4.7</td>\n",
       "      <td>3.2</td>\n",
       "      <td>1.3</td>\n",
       "      <td>0.2</td>\n",
       "      <td>False</td>\n",
       "    </tr>\n",
       "    <tr>\n",
       "      <th>3</th>\n",
       "      <td>4.6</td>\n",
       "      <td>3.1</td>\n",
       "      <td>1.5</td>\n",
       "      <td>0.2</td>\n",
       "      <td>False</td>\n",
       "    </tr>\n",
       "    <tr>\n",
       "      <th>4</th>\n",
       "      <td>5.0</td>\n",
       "      <td>3.6</td>\n",
       "      <td>1.4</td>\n",
       "      <td>0.2</td>\n",
       "      <td>False</td>\n",
       "    </tr>\n",
       "  </tbody>\n",
       "</table>\n",
       "</div>"
      ],
      "text/plain": [
       "   petal_length  petal_width  sepal_length  sepal_width  is_petal_large\n",
       "0           5.1          3.5           1.4          0.2            True\n",
       "1           4.9          3.0           1.4          0.2           False\n",
       "2           4.7          3.2           1.3          0.2           False\n",
       "3           4.6          3.1           1.5          0.2           False\n",
       "4           5.0          3.6           1.4          0.2           False"
      ]
     },
     "execution_count": 32,
     "metadata": {},
     "output_type": "execute_result"
    }
   ],
   "source": [
    "data.assign(\n",
    "    is_petal_large=lambda x: x.petal_length > 5\n",
    ").head()"
   ]
  },
  {
   "cell_type": "markdown",
   "metadata": {},
   "source": [
    "# Exercises!"
   ]
  },
  {
   "cell_type": "markdown",
   "metadata": {},
   "source": [
    "Work each of the num\n",
    "1. Generate users with sequence up to 1000 and save to `users` variable \n",
    "2. Generate `user_transactions` 10,000 transactions with random user_id, brand_name, n_cloth_purchase (up to 20), random price (float up to 280,000)"
   ]
  },
  {
   "cell_type": "code",
   "execution_count": 73,
   "metadata": {},
   "outputs": [],
   "source": [
    "import numpy as np"
   ]
  },
  {
   "cell_type": "code",
   "execution_count": 74,
   "metadata": {},
   "outputs": [],
   "source": [
    "cloth_brands = [\n",
    "    'uniqlo',\n",
    "    'nudie',\n",
    "    'pull&bear',\n",
    "    'skelly'\n",
    "]\n",
    "users = [\n",
    "    # TODO: generate 1000 user with prefix `user_`\n",
    "    'user_{}'.format(i) for i in range(1000)\n",
    "]\n",
    "\n",
    "# TODO\n",
    "# data format\n",
    "# (user_id, brand_name, n_cloth_purchase, price)\n",
    "np.random.seed(42)\n",
    "user_transactions = [\n",
    "    (np.random.choice(users), np.random.choice(cloth_brands), np.random.randint(20), np.random.uniform(280000))\n",
    "    for x in range(10000)\n",
    "]"
   ]
  },
  {
   "cell_type": "code",
   "execution_count": 75,
   "metadata": {},
   "outputs": [],
   "source": [
    "df = pd.DataFrame(\n",
    "    user_transactions, \n",
    "    columns=[\n",
    "        'user_id', 'brand_name', 'n_cloth_purchase', 'price'\n",
    "    ]\n",
    ")"
   ]
  },
  {
   "cell_type": "code",
   "execution_count": 76,
   "metadata": {},
   "outputs": [
    {
     "data": {
      "text/html": [
       "<div>\n",
       "<style scoped>\n",
       "    .dataframe tbody tr th:only-of-type {\n",
       "        vertical-align: middle;\n",
       "    }\n",
       "\n",
       "    .dataframe tbody tr th {\n",
       "        vertical-align: top;\n",
       "    }\n",
       "\n",
       "    .dataframe thead th {\n",
       "        text-align: right;\n",
       "    }\n",
       "</style>\n",
       "<table border=\"1\" class=\"dataframe\">\n",
       "  <thead>\n",
       "    <tr style=\"text-align: right;\">\n",
       "      <th></th>\n",
       "      <th>user_id</th>\n",
       "      <th>brand_name</th>\n",
       "      <th>n_cloth_purchase</th>\n",
       "      <th>price</th>\n",
       "    </tr>\n",
       "  </thead>\n",
       "  <tbody>\n",
       "    <tr>\n",
       "      <th>0</th>\n",
       "      <td>user_102</td>\n",
       "      <td>skelly</td>\n",
       "      <td>14</td>\n",
       "      <td>75042.428287</td>\n",
       "    </tr>\n",
       "    <tr>\n",
       "      <th>1</th>\n",
       "      <td>user_700</td>\n",
       "      <td>uniqlo</td>\n",
       "      <td>6</td>\n",
       "      <td>155167.275034</td>\n",
       "    </tr>\n",
       "    <tr>\n",
       "      <th>2</th>\n",
       "      <td>user_214</td>\n",
       "      <td>pull&amp;bear</td>\n",
       "      <td>10</td>\n",
       "      <td>37471.545359</td>\n",
       "    </tr>\n",
       "    <tr>\n",
       "      <th>3</th>\n",
       "      <td>user_99</td>\n",
       "      <td>skelly</td>\n",
       "      <td>2</td>\n",
       "      <td>274236.362182</td>\n",
       "    </tr>\n",
       "    <tr>\n",
       "      <th>4</th>\n",
       "      <td>user_769</td>\n",
       "      <td>skelly</td>\n",
       "      <td>11</td>\n",
       "      <td>17206.180028</td>\n",
       "    </tr>\n",
       "  </tbody>\n",
       "</table>\n",
       "</div>"
      ],
      "text/plain": [
       "    user_id brand_name  n_cloth_purchase          price\n",
       "0  user_102     skelly                14   75042.428287\n",
       "1  user_700     uniqlo                 6  155167.275034\n",
       "2  user_214  pull&bear                10   37471.545359\n",
       "3   user_99     skelly                 2  274236.362182\n",
       "4  user_769     skelly                11   17206.180028"
      ]
     },
     "execution_count": 76,
     "metadata": {},
     "output_type": "execute_result"
    }
   ],
   "source": [
    "df.head()"
   ]
  },
  {
   "cell_type": "markdown",
   "metadata": {},
   "source": [
    "3. Construct price segment where if price < 1 std dev from mean then 'low', +- 1 std dev then 'mid', higher = 'high' \n",
    "4. Construct total price where total_price = n_cloth_purchase * price\n",
    "5. Construct user segment the same way as construct price segment does, but in format 'F_[].M_[]'"
   ]
  },
  {
   "cell_type": "code",
   "execution_count": 97,
   "metadata": {},
   "outputs": [],
   "source": [
    "def calculate_segment(series):\n",
    "    # TODO\n",
    "    mean = np.mean(series)\n",
    "    std_dev = np.std(series)\n",
    "    \n",
    "    return [\n",
    "        'low' if (x < (mean-std_dev)) \n",
    "        else 'mid' if\n",
    "        (\n",
    "            (x >= (mean-std_dev)) or \n",
    "            (x < (mean+std_dev))\n",
    "        )\n",
    "        else 'high'\n",
    "        for x in series\n",
    "    ]\n",
    "\n",
    "def calculate_user_segment(d):\n",
    "    # TODO\n",
    "    monetary = calculate_segment(d['price'])\n",
    "    frequency = calculate_segment(d['n_cloth_purchase'])\n",
    "    \n",
    "    return [\n",
    "        'F_{}.M_{}'.format(x, y) for x, y in zip(\n",
    "            monetary, \n",
    "            frequency\n",
    "        )\n",
    "    ]"
   ]
  },
  {
   "cell_type": "code",
   "execution_count": 98,
   "metadata": {},
   "outputs": [
    {
     "data": {
      "text/html": [
       "<div>\n",
       "<style scoped>\n",
       "    .dataframe tbody tr th:only-of-type {\n",
       "        vertical-align: middle;\n",
       "    }\n",
       "\n",
       "    .dataframe tbody tr th {\n",
       "        vertical-align: top;\n",
       "    }\n",
       "\n",
       "    .dataframe thead th {\n",
       "        text-align: right;\n",
       "    }\n",
       "</style>\n",
       "<table border=\"1\" class=\"dataframe\">\n",
       "  <thead>\n",
       "    <tr style=\"text-align: right;\">\n",
       "      <th></th>\n",
       "      <th>user_id</th>\n",
       "      <th>brand_name</th>\n",
       "      <th>n_cloth_purchase</th>\n",
       "      <th>price</th>\n",
       "      <th>price_segment</th>\n",
       "      <th>total_price</th>\n",
       "      <th>user_segment</th>\n",
       "    </tr>\n",
       "  </thead>\n",
       "  <tbody>\n",
       "    <tr>\n",
       "      <th>0</th>\n",
       "      <td>user_102</td>\n",
       "      <td>skelly</td>\n",
       "      <td>14</td>\n",
       "      <td>75042.428287</td>\n",
       "      <td>mid</td>\n",
       "      <td>1.050594e+06</td>\n",
       "      <td>F_mid.M_mid</td>\n",
       "    </tr>\n",
       "    <tr>\n",
       "      <th>1</th>\n",
       "      <td>user_700</td>\n",
       "      <td>uniqlo</td>\n",
       "      <td>6</td>\n",
       "      <td>155167.275034</td>\n",
       "      <td>mid</td>\n",
       "      <td>9.310037e+05</td>\n",
       "      <td>F_mid.M_mid</td>\n",
       "    </tr>\n",
       "    <tr>\n",
       "      <th>2</th>\n",
       "      <td>user_214</td>\n",
       "      <td>pull&amp;bear</td>\n",
       "      <td>10</td>\n",
       "      <td>37471.545359</td>\n",
       "      <td>low</td>\n",
       "      <td>3.747155e+05</td>\n",
       "      <td>F_low.M_mid</td>\n",
       "    </tr>\n",
       "    <tr>\n",
       "      <th>3</th>\n",
       "      <td>user_99</td>\n",
       "      <td>skelly</td>\n",
       "      <td>2</td>\n",
       "      <td>274236.362182</td>\n",
       "      <td>mid</td>\n",
       "      <td>5.484727e+05</td>\n",
       "      <td>F_mid.M_low</td>\n",
       "    </tr>\n",
       "    <tr>\n",
       "      <th>4</th>\n",
       "      <td>user_769</td>\n",
       "      <td>skelly</td>\n",
       "      <td>11</td>\n",
       "      <td>17206.180028</td>\n",
       "      <td>low</td>\n",
       "      <td>1.892680e+05</td>\n",
       "      <td>F_low.M_mid</td>\n",
       "    </tr>\n",
       "  </tbody>\n",
       "</table>\n",
       "</div>"
      ],
      "text/plain": [
       "    user_id brand_name  n_cloth_purchase          price price_segment  \\\n",
       "0  user_102     skelly                14   75042.428287           mid   \n",
       "1  user_700     uniqlo                 6  155167.275034           mid   \n",
       "2  user_214  pull&bear                10   37471.545359           low   \n",
       "3   user_99     skelly                 2  274236.362182           mid   \n",
       "4  user_769     skelly                11   17206.180028           low   \n",
       "\n",
       "    total_price user_segment  \n",
       "0  1.050594e+06  F_mid.M_mid  \n",
       "1  9.310037e+05  F_mid.M_mid  \n",
       "2  3.747155e+05  F_low.M_mid  \n",
       "3  5.484727e+05  F_mid.M_low  \n",
       "4  1.892680e+05  F_low.M_mid  "
      ]
     },
     "execution_count": 98,
     "metadata": {},
     "output_type": "execute_result"
    }
   ],
   "source": [
    "df.assign(\n",
    "    price_segment=lambda x: calculate_segment(x['price']),\n",
    "    total_price=lambda x: x['n_cloth_purchase'] * x['price'],\n",
    "    user_segment=lambda d: calculate_user_segment(\n",
    "        df.assign(\n",
    "            total_cloth_purchase = df.groupby('user_id')['n_cloth_purchase'].transform('sum'),\n",
    "            total_price = df.groupby('user_id')[\n",
    "                ['n_cloth_purchase','price']\n",
    "            ].transform('sum').apply(\n",
    "                lambda x: x['n_cloth_purchase'] * x['price'],\n",
    "                axis=1\n",
    "            ),\n",
    "        )\n",
    "    )\n",
    ").head()"
   ]
  },
  {
   "cell_type": "markdown",
   "metadata": {},
   "source": [
    "# References\n",
    "[1] Functional Python Programming, Steven F. Lott.\n",
    "\n",
    "[2] https://julien.danjou.info/python-and-functional-programming/\n",
    "\n",
    "[3] https://arithmox.ai/pythonic-functional-programming-arithmox/\n",
    "\n",
    "[4] https://github.com/sfermigier/awesome-functional-python\n",
    "\n",
    "[5] https://docs.python.org/3/howto/functional.html"
   ]
  }
 ],
 "metadata": {
  "kernelspec": {
   "display_name": "Python 3",
   "language": "python",
   "name": "python3"
  },
  "language_info": {
   "codemirror_mode": {
    "name": "ipython",
    "version": 3
   },
   "file_extension": ".py",
   "mimetype": "text/x-python",
   "name": "python",
   "nbconvert_exporter": "python",
   "pygments_lexer": "ipython3",
   "version": "3.7.3"
  }
 },
 "nbformat": 4,
 "nbformat_minor": 4
}
