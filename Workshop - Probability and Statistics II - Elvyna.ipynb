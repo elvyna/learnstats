{
 "cells": [
  {
   "cell_type": "code",
   "execution_count": 2,
   "metadata": {},
   "outputs": [],
   "source": [
    "from IPython.display import display, HTML\n",
    "import matplotlib.pyplot as plt\n",
    "import numpy as np\n",
    "import pandas as pd\n",
    "import pymc3 as pm\n",
    "import seaborn as sns\n",
    "\n",
    "%matplotlib inline"
   ]
  },
  {
   "cell_type": "markdown",
   "metadata": {},
   "source": [
    "# 2020-01-15 Probabilitas dan Statistika II\n",
    "\n",
    "Source: [Soal Latihan Probabilitas dan Statistika](https://docs.google.com/document/d/19eJuNJJvCIl_ssjAaNLyeflKTqytlTC5frsUzpVL41Q/edit#heading=h.lsjr3acufp6l)"
   ]
  },
  {
   "cell_type": "markdown",
   "metadata": {},
   "source": [
    "## Mudah"
   ]
  },
  {
   "cell_type": "markdown",
   "metadata": {},
   "source": [
    "### 1. Sebuah program memiliki kemungkinan menyebabkan komputer crash sebesar 0.2. Program tersebut dijalankan di 50 komputer. Berapa peluangnya semua komputer dapat bekerja dengan baik?"
   ]
  },
  {
   "cell_type": "code",
   "execution_count": 9,
   "metadata": {},
   "outputs": [
    {
     "name": "stdout",
     "output_type": "stream",
     "text": [
      "1.4272476927059638e-05\n"
     ]
    }
   ],
   "source": [
    "p_crash = 0.2\n",
    "n = 50\n",
    "\n",
    "p_not_crash = 1 - p_crash\n",
    "p_all_not_crash = np.power(p_not_crash, n)\n",
    "\n",
    "print(p_all_not_crash)"
   ]
  },
  {
   "cell_type": "code",
   "execution_count": 19,
   "metadata": {},
   "outputs": [
    {
     "data": {
      "text/plain": [
       "1.4272476927059638e-05"
      ]
     },
     "execution_count": 19,
     "metadata": {},
     "output_type": "execute_result"
    }
   ],
   "source": [
    "from scipy.stats import binom\n",
    "\n",
    "binom(n=50, p=.2).cdf(0)"
   ]
  },
  {
   "cell_type": "code",
   "execution_count": 20,
   "metadata": {},
   "outputs": [
    {
     "data": {
      "text/plain": [
       "1.4272476927059582e-05"
      ]
     },
     "execution_count": 20,
     "metadata": {},
     "output_type": "execute_result"
    }
   ],
   "source": [
    "binom(n=50, p=.2).pmf(0)"
   ]
  },
  {
   "cell_type": "markdown",
   "metadata": {},
   "source": [
    "### 2. Sebuah cuitan di Twitter ditunjukkan ke 100 orang berbeda. Asumsikan bahwa peluang cuitan tersebut akan di-RT oleh sembarang orang adalah 0.7. Berapa ekspektasi jumlah RT yang didapat?"
   ]
  },
  {
   "cell_type": "code",
   "execution_count": 11,
   "metadata": {},
   "outputs": [
    {
     "name": "stdout",
     "output_type": "stream",
     "text": [
      "70.0\n"
     ]
    }
   ],
   "source": [
    "p_retweet = 0.7\n",
    "n = 100\n",
    "expected_value = n*p_retweet\n",
    "\n",
    "print(expected_value)"
   ]
  },
  {
   "cell_type": "code",
   "execution_count": 104,
   "metadata": {},
   "outputs": [
    {
     "data": {
      "image/png": "[encoded data removed]",
      "text/plain": [
       "<Figure size 576x288 with 1 Axes>"
      ]
     },
     "metadata": {
      "needs_background": "light"
     },
     "output_type": "display_data"
    }
   ],
   "source": [
    "## answer using simulation: Monte Carlo method\n",
    "\n",
    "n_trials = 1000\n",
    "p_retweet = 0.7\n",
    "x = []\n",
    "\n",
    "for i in range(n_trials):\n",
    "    x.append(\n",
    "        (np.random.rand(100) <= p_retweet).sum()\n",
    "    )\n",
    "\n",
    "f, ax = plt.subplots(figsize=(8,4))\n",
    "sns.distplot(x)\n",
    "plt.axvline(\n",
    "    x=np.mean(x),\n",
    "    linestyle='--',\n",
    "    color='orange'\n",
    ")\n",
    "\n",
    "plt.show();"
   ]
  },
  {
   "cell_type": "markdown",
   "metadata": {},
   "source": [
    "### 3. Dalam setahun, rata-rata ada 2.8 gempa bumi berskala besar yang terjadi di dunia. Berapa peluangnya ada > 1 gempa bumi berskala besar di tahun depan? (Sumber: Stanford CS109)"
   ]
  },
  {
   "cell_type": "code",
   "execution_count": 107,
   "metadata": {},
   "outputs": [
    {
     "data": {
      "text/plain": [
       "0.7689217620241717"
      ]
     },
     "execution_count": 107,
     "metadata": {},
     "output_type": "execute_result"
    }
   ],
   "source": [
    "from scipy.stats import poisson\n",
    "\n",
    "mu = 2.8\n",
    "\n",
    "1 - poisson.cdf(k=1, mu=mu).sum()"
   ]
  },
  {
   "cell_type": "code",
   "execution_count": 108,
   "metadata": {},
   "outputs": [
    {
     "data": {
      "text/plain": [
       "0.7689217620241717"
      ]
     },
     "execution_count": 108,
     "metadata": {},
     "output_type": "execute_result"
    }
   ],
   "source": [
    "1 - poisson(mu).cdf(1)"
   ]
  },
  {
   "cell_type": "code",
   "execution_count": 140,
   "metadata": {},
   "outputs": [
    {
     "data": {
      "text/plain": [
       "0.8118384086986155"
      ]
     },
     "execution_count": 140,
     "metadata": {},
     "output_type": "execute_result"
    }
   ],
   "source": [
    "## if we approximate it using normal distribution\n",
    "## mu = lambda, sigma squared = lambda\n",
    "from scipy.stats import norm\n",
    "\n",
    "p_0 = norm(mu, np.sqrt(mu)).cdf(0)\n",
    "p_1 = norm(mu, np.sqrt(mu)).cdf(1)\n",
    "\n",
    "1 - (p_0 + p_1)"
   ]
  },
  {
   "cell_type": "code",
   "execution_count": 141,
   "metadata": {},
   "outputs": [
    {
     "data": {
      "image/png": "[encoded data removed]",
      "text/plain": [
       "<Figure size 432x288 with 1 Axes>"
      ]
     },
     "metadata": {
      "needs_background": "light"
     },
     "output_type": "display_data"
    }
   ],
   "source": [
    "k = np.arange(10)\n",
    "x = np.linspace(0,10,1000)\n",
    "\n",
    "plt.bar(k, poisson(mu).pmf(k))\n",
    "plt.plot(\n",
    "    x,\n",
    "    norm(mu, np.sqrt(mu)).pdf(x),\n",
    "    linestyle='--',\n",
    "    color='orange'\n",
    ");"
   ]
  },
  {
   "cell_type": "markdown",
   "metadata": {},
   "source": [
    "### 4. Seorang pengemudi ojek online mendapatkan rata-rata 90 penumpang per minggu di suatu kota. Berapa peluangnya di minggu ini dia akan mendapatkan minimal 80 penumpang?"
   ]
  },
  {
   "cell_type": "code",
   "execution_count": 185,
   "metadata": {},
   "outputs": [
    {
     "data": {
      "text/plain": [
       "0.8668195027664695"
      ]
     },
     "execution_count": 185,
     "metadata": {},
     "output_type": "execute_result"
    }
   ],
   "source": [
    "mu = 90\n",
    "\n",
    "1 - poisson.cdf(k=79, mu=mu)"
   ]
  },
  {
   "cell_type": "code",
   "execution_count": 188,
   "metadata": {},
   "outputs": [
    {
     "data": {
      "text/plain": [
       "0.8768741501537365"
      ]
     },
     "execution_count": 188,
     "metadata": {},
     "output_type": "execute_result"
    }
   ],
   "source": [
    "## have similar result using normal distribution assumption\n",
    "1 - norm(mu, np.sqrt(mu)).cdf(79)"
   ]
  },
  {
   "cell_type": "markdown",
   "metadata": {},
   "source": [
    "### 5. Suatu konferensi machine learning top dunia punya rata-rata acceptance rate 25%. Jika di tahun ini mereka mendapatkan 2400 paper untuk diulas, berapa peluangnya jumlah paper yang diterima di tahun ini tidak sampai 500?"
   ]
  },
  {
   "cell_type": "code",
   "execution_count": 191,
   "metadata": {},
   "outputs": [
    {
     "data": {
      "text/plain": [
       "600.0"
      ]
     },
     "execution_count": 191,
     "metadata": {},
     "output_type": "execute_result"
    }
   ],
   "source": [
    "p_accept = 0.25\n",
    "n = 2400\n",
    "\n",
    "n*p_accept"
   ]
  },
  {
   "cell_type": "code",
   "execution_count": 193,
   "metadata": {},
   "outputs": [
    {
     "name": "stdout",
     "output_type": "stream",
     "text": [
      "P(x < 500) = 6.821028653817123e-07\n"
     ]
    },
    {
     "data": {
      "image/png": "[encoded data removed]",
      "text/plain": [
       "<Figure size 432x288 with 1 Axes>"
      ]
     },
     "metadata": {
      "needs_background": "light"
     },
     "output_type": "display_data"
    }
   ],
   "source": [
    "x = []\n",
    "for i in range(1000):\n",
    "    x.append(\n",
    "        binom(n, p_accept).rvs()\n",
    "    )\n",
    "    \n",
    "sns.distplot(x);\n",
    "\n",
    "p_lt_500 = binom(n, p_accept).cdf(499)\n",
    "\n",
    "plt.axvline(\n",
    "    x=500,\n",
    "    linestyle='--',\n",
    "    color='orange'\n",
    ");\n",
    "\n",
    "print(\"P(x < 500) = {}\".format(p_lt_500))"
   ]
  },
  {
   "cell_type": "code",
   "execution_count": 196,
   "metadata": {},
   "outputs": [
    {
     "data": {
      "text/plain": [
       "-14.198085361471056"
      ]
     },
     "execution_count": 196,
     "metadata": {},
     "output_type": "execute_result"
    }
   ],
   "source": [
    "binom(n, p_accept).logcdf(499)"
   ]
  },
  {
   "cell_type": "markdown",
   "metadata": {},
   "source": [
    "### 6. Rata-rata occupancy dari sebuah hotel di kota X pada hari Sabtu adalah 85%. Jika hotel tersebut memiliki 20 kamar, berapa peluangnya hotel tersebut akan terisi penuh di hari Sabtu yang akan datang?"
   ]
  },
  {
   "cell_type": "code",
   "execution_count": 201,
   "metadata": {},
   "outputs": [
    {
     "data": {
      "text/plain": [
       "0.03875953108451434"
      ]
     },
     "execution_count": 201,
     "metadata": {},
     "output_type": "execute_result"
    }
   ],
   "source": [
    "p_occupancy = 0.85\n",
    "n = 20\n",
    "\n",
    "binom(n, p_occupancy).pmf(20)"
   ]
  },
  {
   "cell_type": "code",
   "execution_count": 207,
   "metadata": {},
   "outputs": [
    {
     "data": {
      "text/plain": [
       "0.06915882695522822"
      ]
     },
     "execution_count": 207,
     "metadata": {},
     "output_type": "execute_result"
    }
   ],
   "source": [
    "## approximate using Poisson, but the result differs by ~3%\n",
    "poisson(n*p_occupancy).pmf(20)"
   ]
  },
  {
   "cell_type": "markdown",
   "metadata": {},
   "source": [
    "### 7. Ketika melempar koin, mana yang lebih mungkin: 51 atau lebih muncul “angka” dari 100 lemparan atau 510 atau lebih muncul “angka” dari 1000 lemparan?\n",
    "\n",
    "Newton-Pepys problem"
   ]
  },
  {
   "cell_type": "code",
   "execution_count": 212,
   "metadata": {},
   "outputs": [
    {
     "data": {
      "text/plain": [
       "0.4602053813064103"
      ]
     },
     "execution_count": 212,
     "metadata": {},
     "output_type": "execute_result"
    }
   ],
   "source": [
    "n = 100\n",
    "p = 0.5 ## fair coin assumption\n",
    "\n",
    "1 - binom(n, p).cdf(50)"
   ]
  },
  {
   "cell_type": "code",
   "execution_count": 213,
   "metadata": {},
   "outputs": [
    {
     "data": {
      "text/plain": [
       "0.2739863729620471"
      ]
     },
     "execution_count": 213,
     "metadata": {},
     "output_type": "execute_result"
    }
   ],
   "source": [
    "n = 1000\n",
    "p = 0.5\n",
    "\n",
    "1 - binom(n, p).cdf(509)"
   ]
  },
  {
   "cell_type": "markdown",
   "metadata": {},
   "source": [
    "## Sedang\n",
    "\n",
    "### 1. Di suatu pusat data dengan 100 server, tiap request dialokasikan ke tiap server secara acak dengan peluang yang sama. Berdasarkan catatan, setiap server akan mendapatkan rata-rata 2 requests per detik. Perusahaan yang menggunakan pusat data tersebut baru saja merilis kode ke semua server yang menyebabkan server akan crash jika mendapatkan lebih dari 6 requests per detik. Berapa peluangnya bahwa tidak ada server yang akan crash di detik berikutnya? (Sumber: Stanford CS109)"
   ]
  },
  {
   "cell_type": "code",
   "execution_count": 241,
   "metadata": {},
   "outputs": [],
   "source": [
    "from scipy.stats import poisson\n",
    "\n",
    "n_server = 100\n",
    "p_server_assigned = 1/100 ## this is not used\n",
    "rate = 2\n",
    "\n",
    "p_not_crash = poisson(rate).cdf(6)"
   ]
  },
  {
   "cell_type": "code",
   "execution_count": 244,
   "metadata": {},
   "outputs": [
    {
     "name": "stdout",
     "output_type": "stream",
     "text": [
      "P(not crash in one server) = 0.9954661944737512\n"
     ]
    }
   ],
   "source": [
    "print(\"P(not crash in one server) = {}\".format(p_not_crash))"
   ]
  },
  {
   "cell_type": "code",
   "execution_count": 248,
   "metadata": {},
   "outputs": [
    {
     "name": "stdout",
     "output_type": "stream",
     "text": [
      "P(not crash in all server) = 0.634821488981177\n"
     ]
    }
   ],
   "source": [
    "p_not_crash_in_all_server = np.power(p_not_crash, n_server)\n",
    "\n",
    "print(\"P(not crash in all server) = {}\".format(p_not_crash_in_all_server))"
   ]
  },
  {
   "cell_type": "markdown",
   "metadata": {},
   "source": [
    "## Sukar\n",
    "\n",
    "### 4. Seorang penikmat musik sedang shuffle play lagu soundtrack Charlie's Angels terbaru. Di albumnya ada 11 lagu, 6 di antaranya lagu Ariana Grande. Berapa peluangnya didapatkan lagu Ariana Grande tiga kali berturut-turut? (Sumber: Twitter)\n",
    "\n",
    "Assumptions: sampling without replacement"
   ]
  },
  {
   "cell_type": "code",
   "execution_count": 279,
   "metadata": {},
   "outputs": [
    {
     "name": "stdout",
     "output_type": "stream",
     "text": [
      "0.691\n"
     ]
    }
   ],
   "source": [
    "songs = [c for c in 'aaaaaaxxxxx']\n",
    "\n",
    "n_trials = 1000\n",
    "success = 0\n",
    "\n",
    "for _ in range(n_trials):\n",
    "    np.random.shuffle(songs)\n",
    "    if ''.join(songs).find('aaa') != -1:\n",
    "        success += 1\n",
    "        \n",
    "print(success / n_trials)"
   ]
  },
  {
   "cell_type": "code",
   "execution_count": 280,
   "metadata": {},
   "outputs": [],
   "source": [
    "# from itertools import permutations \n",
    "  \n",
    "# perm = permutations([1, 2, 3, 4, 5, 6, 7, 8, 9, 10, 11], 3) \n",
    "# x = 0\n",
    "# ariana_perm = []\n",
    "# all_perm = []\n",
    "\n",
    "# # Print the obtained permutations \n",
    "# for i in list(perm): \n",
    "#     if ((i[1] - i[0]) == 1) and (i[2] - i[1] == 1):\n",
    "#         x += 1\n",
    "#         ariana_perm.append(i)\n",
    "#     all_perm.append(i)\n",
    "    \n",
    "# print(x)"
   ]
  }
 ],
 "metadata": {
  "kernelspec": {
   "display_name": "Python 3",
   "language": "python",
   "name": "python3"
  },
  "language_info": {
   "codemirror_mode": {
    "name": "ipython",
    "version": 3
   },
   "file_extension": ".py",
   "mimetype": "text/x-python",
   "name": "python",
   "nbconvert_exporter": "python",
   "pygments_lexer": "ipython3",
   "version": "3.7.3"
  }
 },
 "nbformat": 4,
 "nbformat_minor": 2
}
