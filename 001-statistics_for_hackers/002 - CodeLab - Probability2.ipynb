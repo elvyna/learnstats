{
 "cells": [
  {
   "cell_type": "markdown",
   "metadata": {},
   "source": [
    "# Probability II\n",
    "\n",
    "We have determined whether a coin is fair or not. Now let's take a more real example.\n",
    "\n",
    "## The Case\n",
    "Let's assume you are a data analyst/scientist at one of travel e-commerce. You have a task to increase the user engagement on our platform. To simplify our problem let's also assume that we only have two pages: \n",
    "\n",
    "### Home Page\n",
    "![Home](img/002-01.png)\n",
    "\n",
    "### Search Result Page\n",
    "![srp](img/002-02.png)\n",
    "\n",
    "**First thing first**, as a quantitative analyst, you should ask yourself and your business people:\n",
    "\n",
    "> What does it mean by user engagement on our platform?\n",
    "\n",
    "One possible answer is **Tendency of users to use our platform functions**. How to measure such tendency then? Getting back to the home page, we have search function. \n",
    "\n",
    "We also know that one of the possible answers is to measure the usage of that button to move into the search result page. Of course, to quantify these measurements, we need some standard metrics.\n",
    "\n",
    "## Online Metric: Click Through Probability (CTP) and Click Through Rate (CTR)\n",
    "\n",
    "Here we have defined two popular metrics to measure the page/function effectiveness, CTP $^{[1]}$ and CTR $^{[2]}$. Their definitions are:\n",
    "\n",
    "$$\n",
    "CTR = \\frac{\\text{number of clicks in funnel 2}}{\\text{number of clicks in funnel 1}}\n",
    "$$\n",
    "\n",
    "$$\n",
    "CTP = \\frac{\\text{number of unique users in funnel 2}}{\\text{number of unique users in funnel 1}}\n",
    "$$\n",
    "\n",
    "\n",
    "for this case, \n",
    "\n",
    "$$\n",
    "CTR_{\\text{home_page}-\\text{search_result_page}} = \\frac{\\text{number of clicks on search_result_page}}{\\text{number of clicks on home_page}}\n",
    "$$\n",
    "\n",
    "$$\n",
    "CTP_{\\text{home_page}-\\text{search_result_page}} = \\frac{\\text{number of unique users on search_result_page}}{\\text{number of unique users on home_page}}\n",
    "$$\n",
    "\n"
   ]
  },
  {
   "cell_type": "code",
   "execution_count": 1,
   "metadata": {},
   "outputs": [],
   "source": [
    "%reload_ext autoreload\n",
    "%autoreload 2"
   ]
  },
  {
   "cell_type": "code",
   "execution_count": 2,
   "metadata": {},
   "outputs": [
    {
     "name": "stderr",
     "output_type": "stream",
     "text": [
      "/home/elvyna/miniconda3/envs/py36/lib/python3.6/importlib/_bootstrap.py:219: RuntimeWarning: numpy.dtype size changed, may indicate binary incompatibility. Expected 96, got 88\n",
      "  return f(*args, **kwds)\n"
     ]
    }
   ],
   "source": [
    "import numpy as np\n",
    "import seaborn as sns\n",
    "import scipy.stats as st\n",
    "from func import *"
   ]
  },
  {
   "cell_type": "markdown",
   "metadata": {},
   "source": [
    "## Assumptions in This Notebook\n",
    "\n",
    "1. On 1 day there are **100 users** visiting home page, uniformly distributed and unchanged throughout the week. \n",
    "2. Within each day, there are **1000 visits** to home page and **200** click through towards search result page.\n",
    "\n",
    "Implement these assumption in simulation and function to calculate CTP and CTR."
   ]
  },
  {
   "cell_type": "code",
   "execution_count": 177,
   "metadata": {},
   "outputs": [],
   "source": [
    "np.random.seed(310)\n",
    "# TODO generate random experiments\n",
    "users_activities_in_home_page = np.random.choice(100, size=1000)\n",
    "users_activities_in_srp = np.random.choice(100, size=200)"
   ]
  },
  {
   "cell_type": "code",
   "execution_count": 178,
   "metadata": {},
   "outputs": [],
   "source": [
    "def ctp(funnel_1_log, funnel_2_log):\n",
    "    \"\"\"\n",
    "    calculate the Click Through Probability between funnel 1 and funnel 2.\n",
    "    CTP should be 0 <= CTP <= 1\n",
    "    Args: \n",
    "    ----\n",
    "    funnel_1_log: list of int (user id)\n",
    "    funnel_2_log: list of int (user id)\n",
    "    \n",
    "    Output:\n",
    "    ----\n",
    "    ctp: float\n",
    "    \"\"\"\n",
    "    # TODO: code here\n",
    "    funnel_1_users = np.unique(funnel_1_log)\n",
    "    funnel_2_users = np.unique(funnel_2_log)\n",
    "    convert = np.intersect1d(funnel_1_users, funnel_2_users)\n",
    "    \n",
    "    ctp = np.size(convert) / np.size(funnel_1_users)\n",
    "    return ctp\n",
    "\n",
    "def ctr(funnel_1_log, funnel_2_log):\n",
    "    \"\"\"\n",
    "    calculate the Click Through Rate between funnel 1 and funnel 2. \n",
    "    CTR may be more than 1, the only constraint that it has is\n",
    "    CTR >= 0\n",
    "    Args: \n",
    "    ----\n",
    "    funnel_1_log: list of int (user id)\n",
    "    funnel_2_log: list of int (user id)\n",
    "    \n",
    "    Output:\n",
    "    ----\n",
    "    ctr: float\n",
    "    \"\"\"    \n",
    "    # TODO: code here\n",
    "    ctr = np.size(funnel_2_log) / np.size(funnel_1_log)\n",
    "    return ctr"
   ]
  },
  {
   "cell_type": "code",
   "execution_count": 179,
   "metadata": {},
   "outputs": [],
   "source": [
    "ctp_current = ctp(users_activities_in_home_page, users_activities_in_srp)\n",
    "ctr_current = ctr(users_activities_in_home_page, users_activities_in_srp)\n",
    "# test if your functions has been correctly implemented\n",
    "assert np.isclose(ctp_current, 0.92)\n",
    "assert np.isclose(ctr_current, 0.2)"
   ]
  },
  {
   "cell_type": "markdown",
   "metadata": {},
   "source": [
    "We are only interested in CTP right now. So now the question is:\n",
    "\n",
    "> given this number what is our probability to get this number? \n",
    "\n",
    "\n",
    "So with above assumptions and this question, we might have an idea that we should generate a simulation."
   ]
  },
  {
   "cell_type": "code",
   "execution_count": 180,
   "metadata": {},
   "outputs": [],
   "source": [
    "def simulate_ctp(\n",
    "    n_activities_home_page, n_activities_search_page, \n",
    "    n_users=100, n_simulations=500\n",
    "):\n",
    "    ctps = []\n",
    "    # TODO: code here\n",
    "    for i in range(n_simulations):\n",
    "        users_activities_home = np.random.choice(n_users, n_activities_home_page)\n",
    "        users_activities_srp = np.random.choice(n_users, n_activities_search_page)\n",
    "    \n",
    "        ctps.append(ctp(users_activities_home, users_activities_srp))\n",
    "    \n",
    "    return np.array(ctps)"
   ]
  },
  {
   "cell_type": "code",
   "execution_count": 181,
   "metadata": {},
   "outputs": [],
   "source": [
    "# DO NOT CHANGE THIS\n",
    "ctps = simulate_ctp(1000, 200)\n",
    "\n",
    "assert len(ctps) == 500"
   ]
  },
  {
   "cell_type": "code",
   "execution_count": 201,
   "metadata": {},
   "outputs": [
    {
     "data": {
      "text/plain": [
       "0.780000     1\n",
       "0.848485     1\n",
       "0.858586     1\n",
       "0.930000     6\n",
       "0.800000     6\n",
       "0.810000     8\n",
       "0.920000    16\n",
       "0.910000    17\n",
       "0.820000    17\n",
       "0.900000    36\n",
       "0.830000    36\n",
       "0.840000    46\n",
       "0.850000    51\n",
       "0.890000    58\n",
       "0.860000    64\n",
       "0.870000    67\n",
       "0.880000    69\n",
       "Name: x, dtype: int64"
      ]
     },
     "execution_count": 201,
     "metadata": {},
     "output_type": "execute_result"
    }
   ],
   "source": [
    "pd.DataFrame(ctps, columns=['x'])['x'].value_counts().sort_values()"
   ]
  },
  {
   "cell_type": "markdown",
   "metadata": {},
   "source": [
    "Now we have generated enough simulations to draw what is the frequency of each number to happen. But wait! There is a problem! If we group by the numbers of simulated CTPs, we might get all counts to zero! \n",
    "\n",
    "Why? Because it is a continuous number!\n",
    "\n",
    "Solution? I have to bin each CTP. Hint: \n",
    "- Use `np.linspace` to generate bins, with lower bound 0.7 and upper bound 1, nbins = 20\n",
    "- Use `np.digitize` to group ctps to each bin\n",
    "- Use `np.unique` to generate bin index and bin counts"
   ]
  },
  {
   "cell_type": "code",
   "execution_count": 183,
   "metadata": {},
   "outputs": [],
   "source": [
    "# TODO: code here\n",
    "bins = np.linspace(start=0.7, stop=1, num=20)\n",
    "ctp_bins = np.digitize(ctps, bins)\n",
    "ctp_bin_indexes, ctp_bin_counts = np.unique(ctp_bins, return_counts=True)\n",
    "\n",
    "ctp_current_bin = np.digitize(ctp_current, bins)"
   ]
  },
  {
   "cell_type": "code",
   "execution_count": 184,
   "metadata": {
    "scrolled": false
   },
   "outputs": [
    {
     "data": {
      "image/png": "[encoded data removed]",
      "text/plain": [
       "<Figure size 1440x504 with 2 Axes>"
      ]
     },
     "metadata": {},
     "output_type": "display_data"
    }
   ],
   "source": [
    "draw_ctp_happening_binned(\n",
    "    ctp_current, \n",
    "    bins, \n",
    "    ctp_bin_indexes, \n",
    "    ctp_bin_counts, \n",
    "    ctp_current_bin\n",
    ")"
   ]
  },
  {
   "cell_type": "markdown",
   "metadata": {},
   "source": [
    "*Congratulations!* You've just made a histogram."
   ]
  },
  {
   "cell_type": "markdown",
   "metadata": {},
   "source": [
    "### Bonus simulation\n",
    "\n",
    "Here's an interactive graph that tells how the frequencies and probabilities changed over when we do 20 - thousands of simulations."
   ]
  },
  {
   "cell_type": "code",
   "execution_count": 185,
   "metadata": {},
   "outputs": [
    {
     "data": {
      "application/vnd.plotly.v1+json": {
       "config": {
        "linkText": "Export to plot.ly",
        "plotlyServerURL": "https://plot.ly",
        "showLink": false
       },
       "data": [
        {
         "alignmentgroup": "True",
         "hovertemplate": "sim_index=0.0<br>ctp_bin_labels=%{x}<br>ctp_bin_counts=%{y}<extra></extra>",
         "legendgroup": "",
         "marker": {
          "color": "#636efa"
         },
         "name": "",
         "offsetgroup": "",
         "orientation": "v",
         "showlegend": false,
         "textposition": "auto",
         "type": "bar",
         "uid": "9e88ca5f-929c-4206-8647-4353d08a4ddd",
         "x": [
          0.8421052631578947,
          0.8578947368421053,
          0.8736842105263158,
          0.8894736842105263,
          0.9052631578947369
         ],
         "xaxis": "x",
         "y": [
          4,
          1,
          7,
          4,
          4
         ],
         "yaxis": "y"
        }
       ],
       "frames": [
        {
         "data": [
          {
           "alignmentgroup": "True",
           "hovertemplate": "sim_index=0.0<br>ctp_bin_labels=%{x}<br>ctp_bin_counts=%{y}<extra></extra>",
           "legendgroup": "",
           "marker": {
            "color": "#636efa"
           },
           "name": "",
           "offsetgroup": "",
           "orientation": "v",
           "showlegend": false,
           "textposition": "auto",
           "type": "bar",
           "x": [
            0.8421052631578947,
            0.8578947368421053,
            0.8736842105263158,
            0.8894736842105263,
            0.9052631578947369
           ],
           "xaxis": "x",
           "y": [
            4,
            1,
            7,
            4,
            4
           ],
           "yaxis": "y"
          }
         ],
         "name": "0.0"
        },
        {
         "data": [
          {
           "alignmentgroup": "True",
           "hovertemplate": "sim_index=1.0<br>ctp_bin_labels=%{x}<br>ctp_bin_counts=%{y}<extra></extra>",
           "legendgroup": "",
           "marker": {
            "color": "#636efa"
           },
           "name": "",
           "offsetgroup": "",
           "orientation": "v",
           "showlegend": false,
           "textposition": "auto",
           "type": "bar",
           "x": [
            0.7947368421052632,
            0.8105263157894737,
            0.8263157894736842,
            0.8421052631578947,
            0.8578947368421053,
            0.8736842105263158,
            0.8894736842105263,
            0.9052631578947369,
            0.9210526315789473,
            0.9526315789473685
           ],
           "xaxis": "x",
           "y": [
            1,
            2,
            4,
            8,
            2,
            15,
            4,
            12,
            1,
            1
           ],
           "yaxis": "y"
          }
         ],
         "name": "1.0"
        },
        {
         "data": [
          {
           "alignmentgroup": "True",
           "hovertemplate": "sim_index=2.0<br>ctp_bin_labels=%{x}<br>ctp_bin_counts=%{y}<extra></extra>",
           "legendgroup": "",
           "marker": {
            "color": "#636efa"
           },
           "name": "",
           "offsetgroup": "",
           "orientation": "v",
           "showlegend": false,
           "textposition": "auto",
           "type": "bar",
           "x": [
            0.7947368421052632,
            0.8105263157894737,
            0.8263157894736842,
            0.8421052631578947,
            0.8578947368421053,
            0.8736842105263158,
            0.8894736842105263,
            0.9052631578947369,
            0.9210526315789473,
            0.9368421052631579
           ],
           "xaxis": "x",
           "y": [
            1,
            3,
            4,
            14,
            5,
            26,
            16,
            19,
            9,
            3
           ],
           "yaxis": "y"
          }
         ],
         "name": "2.0"
        },
        {
         "data": [
          {
           "alignmentgroup": "True",
           "hovertemplate": "sim_index=3.0<br>ctp_bin_labels=%{x}<br>ctp_bin_counts=%{y}<extra></extra>",
           "legendgroup": "",
           "marker": {
            "color": "#636efa"
           },
           "name": "",
           "offsetgroup": "",
           "orientation": "v",
           "showlegend": false,
           "textposition": "auto",
           "type": "bar",
           "x": [
            0.8105263157894737,
            0.8263157894736842,
            0.8421052631578947,
            0.8578947368421053,
            0.8736842105263158,
            0.8894736842105263,
            0.9052631578947369,
            0.9210526315789473,
            0.9368421052631579,
            0.9526315789473685
           ],
           "xaxis": "x",
           "y": [
            14,
            13,
            28,
            39,
            72,
            22,
            43,
            17,
            1,
            1
           ],
           "yaxis": "y"
          }
         ],
         "name": "3.0"
        },
        {
         "data": [
          {
           "alignmentgroup": "True",
           "hovertemplate": "sim_index=4.0<br>ctp_bin_labels=%{x}<br>ctp_bin_counts=%{y}<extra></extra>",
           "legendgroup": "",
           "marker": {
            "color": "#636efa"
           },
           "name": "",
           "offsetgroup": "",
           "orientation": "v",
           "showlegend": false,
           "textposition": "auto",
           "type": "bar",
           "x": [
            0.7947368421052632,
            0.8105263157894737,
            0.8263157894736842,
            0.8421052631578947,
            0.8578947368421053,
            0.8736842105263158,
            0.8894736842105263,
            0.9052631578947369,
            0.9210526315789473,
            0.9368421052631579,
            0.9526315789473685
           ],
           "xaxis": "x",
           "y": [
            1,
            15,
            26,
            77,
            51,
            146,
            60,
            82,
            35,
            3,
            4
           ],
           "yaxis": "y"
          }
         ],
         "name": "4.0"
        },
        {
         "data": [
          {
           "alignmentgroup": "True",
           "hovertemplate": "sim_index=5.0<br>ctp_bin_labels=%{x}<br>ctp_bin_counts=%{y}<extra></extra>",
           "legendgroup": "",
           "marker": {
            "color": "#636efa"
           },
           "name": "",
           "offsetgroup": "",
           "orientation": "v",
           "showlegend": false,
           "textposition": "auto",
           "type": "bar",
           "x": [
            0.7789473684210526,
            0.7947368421052632,
            0.8105263157894737,
            0.8263157894736842,
            0.8421052631578947,
            0.8578947368421053,
            0.8736842105263158,
            0.8894736842105263,
            0.9052631578947369,
            0.9210526315789473,
            0.9368421052631579,
            0.9526315789473685,
            0.968421052631579
           ],
           "xaxis": "x",
           "y": [
            2,
            7,
            26,
            43,
            142,
            102,
            272,
            145,
            160,
            86,
            7,
            6,
            2
           ],
           "yaxis": "y"
          }
         ],
         "name": "5.0"
        },
        {
         "data": [
          {
           "alignmentgroup": "True",
           "hovertemplate": "sim_index=6.0<br>ctp_bin_labels=%{x}<br>ctp_bin_counts=%{y}<extra></extra>",
           "legendgroup": "",
           "marker": {
            "color": "#636efa"
           },
           "name": "",
           "offsetgroup": "",
           "orientation": "v",
           "showlegend": false,
           "textposition": "auto",
           "type": "bar",
           "x": [
            0.7789473684210526,
            0.7947368421052632,
            0.8105263157894737,
            0.8263157894736842,
            0.8421052631578947,
            0.8578947368421053,
            0.8736842105263158,
            0.8894736842105263,
            0.9052631578947369,
            0.9210526315789473,
            0.9368421052631579,
            0.9526315789473685
           ],
           "xaxis": "x",
           "y": [
            2,
            9,
            59,
            69,
            327,
            220,
            584,
            247,
            342,
            114,
            17,
            10
           ],
           "yaxis": "y"
          }
         ],
         "name": "6.0"
        },
        {
         "data": [
          {
           "alignmentgroup": "True",
           "hovertemplate": "sim_index=7.0<br>ctp_bin_labels=%{x}<br>ctp_bin_counts=%{y}<extra></extra>",
           "legendgroup": "",
           "marker": {
            "color": "#636efa"
           },
           "name": "",
           "offsetgroup": "",
           "orientation": "v",
           "showlegend": false,
           "textposition": "auto",
           "type": "bar",
           "x": [
            0.7789473684210526,
            0.7947368421052632,
            0.8105263157894737,
            0.8263157894736842,
            0.8421052631578947,
            0.8578947368421053,
            0.8736842105263158,
            0.8894736842105263,
            0.9052631578947369,
            0.9210526315789473,
            0.9368421052631579,
            0.9526315789473685,
            0.9842105263157894
           ],
           "xaxis": "x",
           "y": [
            3,
            18,
            107,
            101,
            449,
            334,
            823,
            420,
            525,
            183,
            29,
            7,
            1
           ],
           "yaxis": "y"
          }
         ],
         "name": "7.0"
        }
       ],
       "layout": {
        "barmode": "relative",
        "grid": {
         "xaxes": [
          "x"
         ],
         "xgap": 0.1,
         "xside": "bottom",
         "yaxes": [
          "y"
         ],
         "ygap": 0.1,
         "yside": "left"
        },
        "height": 600,
        "legend": {
         "tracegroupgap": 0
        },
        "margin": {
         "t": 60
        },
        "sliders": [
         {
          "active": 0,
          "currentvalue": {
           "prefix": "sim_index="
          },
          "len": 0.9,
          "pad": {
           "b": 10,
           "t": 60
          },
          "steps": [
           {
            "args": [
             [
              "0.0"
             ],
             {
              "frame": {
               "duration": 0,
               "redraw": true
              },
              "fromcurrent": true,
              "mode": "immediate",
              "transition": {
               "duration": 0,
               "easing": "linear"
              }
             }
            ],
            "label": "0.0",
            "method": "animate"
           },
           {
            "args": [
             [
              "1.0"
             ],
             {
              "frame": {
               "duration": 0,
               "redraw": true
              },
              "fromcurrent": true,
              "mode": "immediate",
              "transition": {
               "duration": 0,
               "easing": "linear"
              }
             }
            ],
            "label": "1.0",
            "method": "animate"
           },
           {
            "args": [
             [
              "2.0"
             ],
             {
              "frame": {
               "duration": 0,
               "redraw": true
              },
              "fromcurrent": true,
              "mode": "immediate",
              "transition": {
               "duration": 0,
               "easing": "linear"
              }
             }
            ],
            "label": "2.0",
            "method": "animate"
           },
           {
            "args": [
             [
              "3.0"
             ],
             {
              "frame": {
               "duration": 0,
               "redraw": true
              },
              "fromcurrent": true,
              "mode": "immediate",
              "transition": {
               "duration": 0,
               "easing": "linear"
              }
             }
            ],
            "label": "3.0",
            "method": "animate"
           },
           {
            "args": [
             [
              "4.0"
             ],
             {
              "frame": {
               "duration": 0,
               "redraw": true
              },
              "fromcurrent": true,
              "mode": "immediate",
              "transition": {
               "duration": 0,
               "easing": "linear"
              }
             }
            ],
            "label": "4.0",
            "method": "animate"
           },
           {
            "args": [
             [
              "5.0"
             ],
             {
              "frame": {
               "duration": 0,
               "redraw": true
              },
              "fromcurrent": true,
              "mode": "immediate",
              "transition": {
               "duration": 0,
               "easing": "linear"
              }
             }
            ],
            "label": "5.0",
            "method": "animate"
           },
           {
            "args": [
             [
              "6.0"
             ],
             {
              "frame": {
               "duration": 0,
               "redraw": true
              },
              "fromcurrent": true,
              "mode": "immediate",
              "transition": {
               "duration": 0,
               "easing": "linear"
              }
             }
            ],
            "label": "6.0",
            "method": "animate"
           },
           {
            "args": [
             [
              "7.0"
             ],
             {
              "frame": {
               "duration": 0,
               "redraw": true
              },
              "fromcurrent": true,
              "mode": "immediate",
              "transition": {
               "duration": 0,
               "easing": "linear"
              }
             }
            ],
            "label": "7.0",
            "method": "animate"
           }
          ],
          "x": 0.1,
          "xanchor": "left",
          "y": 0,
          "yanchor": "top"
         }
        ],
        "template": {
         "data": {
          "bar": [
           {
            "marker": {
             "line": {
              "color": "#E5ECF6",
              "width": 0.5
             }
            },
            "type": "bar"
           }
          ],
          "barpolar": [
           {
            "marker": {
             "line": {
              "color": "#E5ECF6",
              "width": 0.5
             }
            },
            "type": "barpolar"
           }
          ],
          "carpet": [
           {
            "aaxis": {
             "endlinecolor": "#2a3f5f",
             "gridcolor": "white",
             "linecolor": "white",
             "minorgridcolor": "white",
             "startlinecolor": "#2a3f5f"
            },
            "baxis": {
             "endlinecolor": "#2a3f5f",
             "gridcolor": "white",
             "linecolor": "white",
             "minorgridcolor": "white",
             "startlinecolor": "#2a3f5f"
            },
            "type": "carpet"
           }
          ],
          "choropleth": [
           {
            "colorbar": {
             "outlinewidth": 0,
             "ticks": ""
            },
            "type": "choropleth"
           }
          ],
          "contour": [
           {
            "autocolorscale": true,
            "colorbar": {
             "outlinewidth": 0,
             "ticks": ""
            },
            "type": "contour"
           }
          ],
          "contourcarpet": [
           {
            "colorbar": {
             "outlinewidth": 0,
             "ticks": ""
            },
            "type": "contourcarpet"
           }
          ],
          "heatmap": [
           {
            "autocolorscale": true,
            "colorbar": {
             "outlinewidth": 0,
             "ticks": ""
            },
            "type": "heatmap"
           }
          ],
          "heatmapgl": [
           {
            "colorbar": {
             "outlinewidth": 0,
             "ticks": ""
            },
            "type": "heatmapgl"
           }
          ],
          "histogram": [
           {
            "marker": {
             "colorbar": {
              "outlinewidth": 0,
              "ticks": ""
             }
            },
            "type": "histogram"
           }
          ],
          "histogram2d": [
           {
            "autocolorscale": true,
            "colorbar": {
             "outlinewidth": 0,
             "ticks": ""
            },
            "type": "histogram2d"
           }
          ],
          "histogram2dcontour": [
           {
            "autocolorscale": true,
            "colorbar": {
             "outlinewidth": 0,
             "ticks": ""
            },
            "type": "histogram2dcontour"
           }
          ],
          "mesh3d": [
           {
            "colorbar": {
             "outlinewidth": 0,
             "ticks": ""
            },
            "type": "mesh3d"
           }
          ],
          "parcoords": [
           {
            "line": {
             "colorbar": {
              "outlinewidth": 0,
              "ticks": ""
             }
            },
            "type": "parcoords"
           }
          ],
          "scatter": [
           {
            "marker": {
             "colorbar": {
              "outlinewidth": 0,
              "ticks": ""
             }
            },
            "type": "scatter"
           }
          ],
          "scatter3d": [
           {
            "marker": {
             "colorbar": {
              "outlinewidth": 0,
              "ticks": ""
             }
            },
            "type": "scatter3d"
           }
          ],
          "scattercarpet": [
           {
            "marker": {
             "colorbar": {
              "outlinewidth": 0,
              "ticks": ""
             }
            },
            "type": "scattercarpet"
           }
          ],
          "scattergeo": [
           {
            "marker": {
             "colorbar": {
              "outlinewidth": 0,
              "ticks": ""
             }
            },
            "type": "scattergeo"
           }
          ],
          "scattergl": [
           {
            "marker": {
             "colorbar": {
              "outlinewidth": 0,
              "ticks": ""
             }
            },
            "type": "scattergl"
           }
          ],
          "scattermapbox": [
           {
            "marker": {
             "colorbar": {
              "outlinewidth": 0,
              "ticks": ""
             }
            },
            "type": "scattermapbox"
           }
          ],
          "scatterpolar": [
           {
            "marker": {
             "colorbar": {
              "outlinewidth": 0,
              "ticks": ""
             }
            },
            "type": "scatterpolar"
           }
          ],
          "scatterpolargl": [
           {
            "marker": {
             "colorbar": {
              "outlinewidth": 0,
              "ticks": ""
             }
            },
            "type": "scatterpolargl"
           }
          ],
          "scatterternary": [
           {
            "marker": {
             "colorbar": {
              "outlinewidth": 0,
              "ticks": ""
             }
            },
            "type": "scatterternary"
           }
          ],
          "surface": [
           {
            "colorbar": {
             "outlinewidth": 0,
             "ticks": ""
            },
            "type": "surface"
           }
          ],
          "table": [
           {
            "cells": {
             "fill": {
              "color": "#EBF0F8"
             },
             "line": {
              "color": "white"
             }
            },
            "header": {
             "fill": {
              "color": "#C8D4E3"
             },
             "line": {
              "color": "white"
             }
            },
            "type": "table"
           }
          ]
         },
         "layout": {
          "annotationdefaults": {
           "arrowcolor": "#506784",
           "arrowhead": 0,
           "arrowwidth": 1
          },
          "colorscale": {
           "diverging": [
            [
             0,
             "#8e0152"
            ],
            [
             0.1,
             "#c51b7d"
            ],
            [
             0.2,
             "#de77ae"
            ],
            [
             0.3,
             "#f1b6da"
            ],
            [
             0.4,
             "#fde0ef"
            ],
            [
             0.5,
             "#f7f7f7"
            ],
            [
             0.6,
             "#e6f5d0"
            ],
            [
             0.7,
             "#b8e186"
            ],
            [
             0.8,
             "#7fbc41"
            ],
            [
             0.9,
             "#4d9221"
            ],
            [
             1,
             "#276419"
            ]
           ],
           "sequential": [
            [
             0,
             "#0508b8"
            ],
            [
             0.0893854748603352,
             "#1910d8"
            ],
            [
             0.1787709497206704,
             "#3c19f0"
            ],
            [
             0.2681564245810056,
             "#6b1cfb"
            ],
            [
             0.3575418994413408,
             "#981cfd"
            ],
            [
             0.44692737430167595,
             "#bf1cfd"
            ],
            [
             0.5363128491620112,
             "#dd2bfd"
            ],
            [
             0.6256983240223464,
             "#f246fe"
            ],
            [
             0.7150837988826816,
             "#fc67fd"
            ],
            [
             0.8044692737430168,
             "#fe88fc"
            ],
            [
             0.8938547486033519,
             "#fea5fd"
            ],
            [
             0.9832402234636871,
             "#febefe"
            ],
            [
             1,
             "#fec3fe"
            ]
           ],
           "sequentialminus": [
            [
             0,
             "#0508b8"
            ],
            [
             0.0893854748603352,
             "#1910d8"
            ],
            [
             0.1787709497206704,
             "#3c19f0"
            ],
            [
             0.2681564245810056,
             "#6b1cfb"
            ],
            [
             0.3575418994413408,
             "#981cfd"
            ],
            [
             0.44692737430167595,
             "#bf1cfd"
            ],
            [
             0.5363128491620112,
             "#dd2bfd"
            ],
            [
             0.6256983240223464,
             "#f246fe"
            ],
            [
             0.7150837988826816,
             "#fc67fd"
            ],
            [
             0.8044692737430168,
             "#fe88fc"
            ],
            [
             0.8938547486033519,
             "#fea5fd"
            ],
            [
             0.9832402234636871,
             "#febefe"
            ],
            [
             1,
             "#fec3fe"
            ]
           ]
          },
          "colorway": [
           "#636efa",
           "#EF553B",
           "#00cc96",
           "#ab63fa",
           "#19d3f3",
           "#e763fa",
           "#FECB52",
           "#FFA15A",
           "#FF6692",
           "#B6E880"
          ],
          "font": {
           "color": "#2a3f5f"
          },
          "geo": {
           "bgcolor": "white",
           "lakecolor": "white",
           "landcolor": "#E5ECF6",
           "showlakes": true,
           "showland": true,
           "subunitcolor": "white"
          },
          "hovermode": "closest",
          "mapbox": {
           "style": "light"
          },
          "paper_bgcolor": "white",
          "plot_bgcolor": "#E5ECF6",
          "polar": {
           "angularaxis": {
            "gridcolor": "white",
            "linecolor": "white",
            "ticks": ""
           },
           "bgcolor": "#E5ECF6",
           "radialaxis": {
            "gridcolor": "white",
            "linecolor": "white",
            "ticks": ""
           }
          },
          "scene": {
           "xaxis": {
            "backgroundcolor": "#E5ECF6",
            "gridcolor": "white",
            "gridwidth": 2,
            "linecolor": "white",
            "showbackground": true,
            "ticks": "",
            "zerolinecolor": "white"
           },
           "yaxis": {
            "backgroundcolor": "#E5ECF6",
            "gridcolor": "white",
            "gridwidth": 2,
            "linecolor": "white",
            "showbackground": true,
            "ticks": "",
            "zerolinecolor": "white"
           },
           "zaxis": {
            "backgroundcolor": "#E5ECF6",
            "gridcolor": "white",
            "gridwidth": 2,
            "linecolor": "white",
            "showbackground": true,
            "ticks": "",
            "zerolinecolor": "white"
           }
          },
          "shapedefaults": {
           "fillcolor": "#506784",
           "line": {
            "width": 0
           },
           "opacity": 0.4
          },
          "ternary": {
           "aaxis": {
            "gridcolor": "white",
            "linecolor": "white",
            "ticks": ""
           },
           "baxis": {
            "gridcolor": "white",
            "linecolor": "white",
            "ticks": ""
           },
           "bgcolor": "#E5ECF6",
           "caxis": {
            "gridcolor": "white",
            "linecolor": "white",
            "ticks": ""
           }
          },
          "title": {
           "x": 0.05
          },
          "xaxis": {
           "automargin": true,
           "gridcolor": "white",
           "linecolor": "white",
           "ticks": "",
           "zerolinecolor": "white",
           "zerolinewidth": 2
          },
          "yaxis": {
           "automargin": true,
           "gridcolor": "white",
           "linecolor": "white",
           "ticks": "",
           "zerolinecolor": "white",
           "zerolinewidth": 2
          }
         }
        },
        "updatemenus": [
         {
          "buttons": [
           {
            "args": [
             null,
             {
              "frame": {
               "duration": 500,
               "redraw": true
              },
              "fromcurrent": true,
              "mode": "immediate",
              "transition": {
               "duration": 500,
               "easing": "linear"
              }
             }
            ],
            "label": "&#9654;",
            "method": "animate"
           },
           {
            "args": [
             [
              null
             ],
             {
              "frame": {
               "duration": 0,
               "redraw": true
              },
              "fromcurrent": true,
              "mode": "immediate",
              "transition": {
               "duration": 0,
               "easing": "linear"
              }
             }
            ],
            "label": "&#9724;",
            "method": "animate"
           }
          ],
          "direction": "left",
          "pad": {
           "r": 10,
           "t": 70
          },
          "showactive": false,
          "type": "buttons",
          "x": 0.1,
          "xanchor": "right",
          "y": 0,
          "yanchor": "top"
         }
        ],
        "xaxis": {
         "title": {
          "text": "ctp_bin_labels"
         }
        },
        "yaxis": {
         "range": [
          0,
          1300
         ],
         "title": {
          "text": "ctp_bin_counts"
         }
        }
       }
      },
      "text/html": [
       "<div id=\"5049535f-2ed0-46f8-b908-ff1813bb5b77\" style=\"height: 600px; width: 100%;\" class=\"plotly-graph-div\"></div><script type=\"text/javascript\">require([\"plotly\"], function(Plotly) { window.PLOTLYENV=window.PLOTLYENV || {};window.PLOTLYENV.BASE_URL=\"https://plot.ly\";\n",
       "    if (document.getElementById(\"5049535f-2ed0-46f8-b908-ff1813bb5b77\")) {\n",
       "        Plotly.plot(\n",
       "            '5049535f-2ed0-46f8-b908-ff1813bb5b77',\n",
       "            [{\"alignmentgroup\": \"True\", \"hovertemplate\": \"sim_index=0.0<br>ctp_bin_labels=%{x}<br>ctp_bin_counts=%{y}<extra></extra>\", \"legendgroup\": \"\", \"marker\": {\"color\": \"#636efa\"}, \"name\": \"\", \"offsetgroup\": \"\", \"orientation\": \"v\", \"showlegend\": false, \"textposition\": \"auto\", \"x\": [0.8421052631578947, 0.8578947368421053, 0.8736842105263158, 0.8894736842105263, 0.9052631578947369], \"xaxis\": \"x\", \"y\": [4.0, 1.0, 7.0, 4.0, 4.0], \"yaxis\": \"y\", \"type\": \"bar\", \"uid\": \"9e88ca5f-929c-4206-8647-4353d08a4ddd\"}],\n",
       "            {\"barmode\": \"relative\", \"height\": 600, \"legend\": {\"tracegroupgap\": 0}, \"margin\": {\"t\": 60}, \"template\": {\"data\": {\"barpolar\": [{\"marker\": {\"line\": {\"color\": \"#E5ECF6\", \"width\": 0.5}}, \"type\": \"barpolar\"}], \"bar\": [{\"marker\": {\"line\": {\"color\": \"#E5ECF6\", \"width\": 0.5}}, \"type\": \"bar\"}], \"carpet\": [{\"aaxis\": {\"endlinecolor\": \"#2a3f5f\", \"gridcolor\": \"white\", \"linecolor\": \"white\", \"minorgridcolor\": \"white\", \"startlinecolor\": \"#2a3f5f\"}, \"baxis\": {\"endlinecolor\": \"#2a3f5f\", \"gridcolor\": \"white\", \"linecolor\": \"white\", \"minorgridcolor\": \"white\", \"startlinecolor\": \"#2a3f5f\"}, \"type\": \"carpet\"}], \"choropleth\": [{\"colorbar\": {\"outlinewidth\": 0, \"ticks\": \"\"}, \"type\": \"choropleth\"}], \"contourcarpet\": [{\"colorbar\": {\"outlinewidth\": 0, \"ticks\": \"\"}, \"type\": \"contourcarpet\"}], \"contour\": [{\"autocolorscale\": true, \"colorbar\": {\"outlinewidth\": 0, \"ticks\": \"\"}, \"type\": \"contour\"}], \"heatmapgl\": [{\"colorbar\": {\"outlinewidth\": 0, \"ticks\": \"\"}, \"type\": \"heatmapgl\"}], \"heatmap\": [{\"autocolorscale\": true, \"colorbar\": {\"outlinewidth\": 0, \"ticks\": \"\"}, \"type\": \"heatmap\"}], \"histogram2dcontour\": [{\"autocolorscale\": true, \"colorbar\": {\"outlinewidth\": 0, \"ticks\": \"\"}, \"type\": \"histogram2dcontour\"}], \"histogram2d\": [{\"autocolorscale\": true, \"colorbar\": {\"outlinewidth\": 0, \"ticks\": \"\"}, \"type\": \"histogram2d\"}], \"histogram\": [{\"marker\": {\"colorbar\": {\"outlinewidth\": 0, \"ticks\": \"\"}}, \"type\": \"histogram\"}], \"mesh3d\": [{\"colorbar\": {\"outlinewidth\": 0, \"ticks\": \"\"}, \"type\": \"mesh3d\"}], \"parcoords\": [{\"line\": {\"colorbar\": {\"outlinewidth\": 0, \"ticks\": \"\"}}, \"type\": \"parcoords\"}], \"scatter3d\": [{\"marker\": {\"colorbar\": {\"outlinewidth\": 0, \"ticks\": \"\"}}, \"type\": \"scatter3d\"}], \"scattercarpet\": [{\"marker\": {\"colorbar\": {\"outlinewidth\": 0, \"ticks\": \"\"}}, \"type\": \"scattercarpet\"}], \"scattergeo\": [{\"marker\": {\"colorbar\": {\"outlinewidth\": 0, \"ticks\": \"\"}}, \"type\": \"scattergeo\"}], \"scattergl\": [{\"marker\": {\"colorbar\": {\"outlinewidth\": 0, \"ticks\": \"\"}}, \"type\": \"scattergl\"}], \"scattermapbox\": [{\"marker\": {\"colorbar\": {\"outlinewidth\": 0, \"ticks\": \"\"}}, \"type\": \"scattermapbox\"}], \"scatterpolargl\": [{\"marker\": {\"colorbar\": {\"outlinewidth\": 0, \"ticks\": \"\"}}, \"type\": \"scatterpolargl\"}], \"scatterpolar\": [{\"marker\": {\"colorbar\": {\"outlinewidth\": 0, \"ticks\": \"\"}}, \"type\": \"scatterpolar\"}], \"scatter\": [{\"marker\": {\"colorbar\": {\"outlinewidth\": 0, \"ticks\": \"\"}}, \"type\": \"scatter\"}], \"scatterternary\": [{\"marker\": {\"colorbar\": {\"outlinewidth\": 0, \"ticks\": \"\"}}, \"type\": \"scatterternary\"}], \"surface\": [{\"colorbar\": {\"outlinewidth\": 0, \"ticks\": \"\"}, \"type\": \"surface\"}], \"table\": [{\"cells\": {\"fill\": {\"color\": \"#EBF0F8\"}, \"line\": {\"color\": \"white\"}}, \"header\": {\"fill\": {\"color\": \"#C8D4E3\"}, \"line\": {\"color\": \"white\"}}, \"type\": \"table\"}]}, \"layout\": {\"annotationdefaults\": {\"arrowcolor\": \"#506784\", \"arrowhead\": 0, \"arrowwidth\": 1}, \"colorscale\": {\"diverging\": [[0, \"#8e0152\"], [0.1, \"#c51b7d\"], [0.2, \"#de77ae\"], [0.3, \"#f1b6da\"], [0.4, \"#fde0ef\"], [0.5, \"#f7f7f7\"], [0.6, \"#e6f5d0\"], [0.7, \"#b8e186\"], [0.8, \"#7fbc41\"], [0.9, \"#4d9221\"], [1, \"#276419\"]], \"sequential\": [[0.0, \"#0508b8\"], [0.0893854748603352, \"#1910d8\"], [0.1787709497206704, \"#3c19f0\"], [0.2681564245810056, \"#6b1cfb\"], [0.3575418994413408, \"#981cfd\"], [0.44692737430167595, \"#bf1cfd\"], [0.5363128491620112, \"#dd2bfd\"], [0.6256983240223464, \"#f246fe\"], [0.7150837988826816, \"#fc67fd\"], [0.8044692737430168, \"#fe88fc\"], [0.8938547486033519, \"#fea5fd\"], [0.9832402234636871, \"#febefe\"], [1.0, \"#fec3fe\"]], \"sequentialminus\": [[0.0, \"#0508b8\"], [0.0893854748603352, \"#1910d8\"], [0.1787709497206704, \"#3c19f0\"], [0.2681564245810056, \"#6b1cfb\"], [0.3575418994413408, \"#981cfd\"], [0.44692737430167595, \"#bf1cfd\"], [0.5363128491620112, \"#dd2bfd\"], [0.6256983240223464, \"#f246fe\"], [0.7150837988826816, \"#fc67fd\"], [0.8044692737430168, \"#fe88fc\"], [0.8938547486033519, \"#fea5fd\"], [0.9832402234636871, \"#febefe\"], [1.0, \"#fec3fe\"]]}, \"colorway\": [\"#636efa\", \"#EF553B\", \"#00cc96\", \"#ab63fa\", \"#19d3f3\", \"#e763fa\", \"#FECB52\", \"#FFA15A\", \"#FF6692\", \"#B6E880\"], \"font\": {\"color\": \"#2a3f5f\"}, \"geo\": {\"bgcolor\": \"white\", \"lakecolor\": \"white\", \"landcolor\": \"#E5ECF6\", \"showlakes\": true, \"showland\": true, \"subunitcolor\": \"white\"}, \"hovermode\": \"closest\", \"mapbox\": {\"style\": \"light\"}, \"paper_bgcolor\": \"white\", \"plot_bgcolor\": \"#E5ECF6\", \"polar\": {\"angularaxis\": {\"gridcolor\": \"white\", \"linecolor\": \"white\", \"ticks\": \"\"}, \"bgcolor\": \"#E5ECF6\", \"radialaxis\": {\"gridcolor\": \"white\", \"linecolor\": \"white\", \"ticks\": \"\"}}, \"scene\": {\"xaxis\": {\"backgroundcolor\": \"#E5ECF6\", \"gridcolor\": \"white\", \"gridwidth\": 2, \"linecolor\": \"white\", \"showbackground\": true, \"ticks\": \"\", \"zerolinecolor\": \"white\"}, \"yaxis\": {\"backgroundcolor\": \"#E5ECF6\", \"gridcolor\": \"white\", \"gridwidth\": 2, \"linecolor\": \"white\", \"showbackground\": true, \"ticks\": \"\", \"zerolinecolor\": \"white\"}, \"zaxis\": {\"backgroundcolor\": \"#E5ECF6\", \"gridcolor\": \"white\", \"gridwidth\": 2, \"linecolor\": \"white\", \"showbackground\": true, \"ticks\": \"\", \"zerolinecolor\": \"white\"}}, \"shapedefaults\": {\"fillcolor\": \"#506784\", \"line\": {\"width\": 0}, \"opacity\": 0.4}, \"ternary\": {\"aaxis\": {\"gridcolor\": \"white\", \"linecolor\": \"white\", \"ticks\": \"\"}, \"baxis\": {\"gridcolor\": \"white\", \"linecolor\": \"white\", \"ticks\": \"\"}, \"bgcolor\": \"#E5ECF6\", \"caxis\": {\"gridcolor\": \"white\", \"linecolor\": \"white\", \"ticks\": \"\"}}, \"title\": {\"x\": 0.05}, \"xaxis\": {\"automargin\": true, \"gridcolor\": \"white\", \"linecolor\": \"white\", \"ticks\": \"\", \"zerolinecolor\": \"white\", \"zerolinewidth\": 2}, \"yaxis\": {\"automargin\": true, \"gridcolor\": \"white\", \"linecolor\": \"white\", \"ticks\": \"\", \"zerolinecolor\": \"white\", \"zerolinewidth\": 2}}}, \"grid\": {\"xaxes\": [\"x\"], \"yaxes\": [\"y\"], \"xgap\": 0.1, \"ygap\": 0.1, \"xside\": \"bottom\", \"yside\": \"left\"}, \"yaxis\": {\"title\": {\"text\": \"ctp_bin_counts\"}, \"range\": [0, 1300]}, \"xaxis\": {\"title\": {\"text\": \"ctp_bin_labels\"}}, \"updatemenus\": [{\"buttons\": [{\"args\": [null, {\"frame\": {\"duration\": 500, \"redraw\": true}, \"mode\": \"immediate\", \"fromcurrent\": true, \"transition\": {\"duration\": 500, \"easing\": \"linear\"}}], \"label\": \"&#9654;\", \"method\": \"animate\"}, {\"args\": [[null], {\"frame\": {\"duration\": 0, \"redraw\": true}, \"mode\": \"immediate\", \"fromcurrent\": true, \"transition\": {\"duration\": 0, \"easing\": \"linear\"}}], \"label\": \"&#9724;\", \"method\": \"animate\"}], \"direction\": \"left\", \"pad\": {\"r\": 10, \"t\": 70}, \"showactive\": false, \"type\": \"buttons\", \"x\": 0.1, \"xanchor\": \"right\", \"y\": 0, \"yanchor\": \"top\"}], \"sliders\": [{\"active\": 0, \"currentvalue\": {\"prefix\": \"sim_index=\"}, \"len\": 0.9, \"pad\": {\"b\": 10, \"t\": 60}, \"steps\": [{\"args\": [[\"0.0\"], {\"frame\": {\"duration\": 0, \"redraw\": true}, \"mode\": \"immediate\", \"fromcurrent\": true, \"transition\": {\"duration\": 0, \"easing\": \"linear\"}}], \"label\": \"0.0\", \"method\": \"animate\"}, {\"args\": [[\"1.0\"], {\"frame\": {\"duration\": 0, \"redraw\": true}, \"mode\": \"immediate\", \"fromcurrent\": true, \"transition\": {\"duration\": 0, \"easing\": \"linear\"}}], \"label\": \"1.0\", \"method\": \"animate\"}, {\"args\": [[\"2.0\"], {\"frame\": {\"duration\": 0, \"redraw\": true}, \"mode\": \"immediate\", \"fromcurrent\": true, \"transition\": {\"duration\": 0, \"easing\": \"linear\"}}], \"label\": \"2.0\", \"method\": \"animate\"}, {\"args\": [[\"3.0\"], {\"frame\": {\"duration\": 0, \"redraw\": true}, \"mode\": \"immediate\", \"fromcurrent\": true, \"transition\": {\"duration\": 0, \"easing\": \"linear\"}}], \"label\": \"3.0\", \"method\": \"animate\"}, {\"args\": [[\"4.0\"], {\"frame\": {\"duration\": 0, \"redraw\": true}, \"mode\": \"immediate\", \"fromcurrent\": true, \"transition\": {\"duration\": 0, \"easing\": \"linear\"}}], \"label\": \"4.0\", \"method\": \"animate\"}, {\"args\": [[\"5.0\"], {\"frame\": {\"duration\": 0, \"redraw\": true}, \"mode\": \"immediate\", \"fromcurrent\": true, \"transition\": {\"duration\": 0, \"easing\": \"linear\"}}], \"label\": \"5.0\", \"method\": \"animate\"}, {\"args\": [[\"6.0\"], {\"frame\": {\"duration\": 0, \"redraw\": true}, \"mode\": \"immediate\", \"fromcurrent\": true, \"transition\": {\"duration\": 0, \"easing\": \"linear\"}}], \"label\": \"6.0\", \"method\": \"animate\"}, {\"args\": [[\"7.0\"], {\"frame\": {\"duration\": 0, \"redraw\": true}, \"mode\": \"immediate\", \"fromcurrent\": true, \"transition\": {\"duration\": 0, \"easing\": \"linear\"}}], \"label\": \"7.0\", \"method\": \"animate\"}], \"x\": 0.1, \"xanchor\": \"left\", \"y\": 0, \"yanchor\": \"top\"}]},\n",
       "            {\"showLink\": false, \"linkText\": \"Export to plot.ly\", \"plotlyServerURL\": \"https://plot.ly\"}\n",
       "        ).then(function () {return Plotly.addFrames('5049535f-2ed0-46f8-b908-ff1813bb5b77',[{\"data\": [{\"alignmentgroup\": \"True\", \"hovertemplate\": \"sim_index=0.0<br>ctp_bin_labels=%{x}<br>ctp_bin_counts=%{y}<extra></extra>\", \"legendgroup\": \"\", \"marker\": {\"color\": \"#636efa\"}, \"name\": \"\", \"offsetgroup\": \"\", \"orientation\": \"v\", \"showlegend\": false, \"textposition\": \"auto\", \"x\": [0.8421052631578947, 0.8578947368421053, 0.8736842105263158, 0.8894736842105263, 0.9052631578947369], \"xaxis\": \"x\", \"y\": [4.0, 1.0, 7.0, 4.0, 4.0], \"yaxis\": \"y\", \"type\": \"bar\"}], \"name\": \"0.0\"}, {\"data\": [{\"alignmentgroup\": \"True\", \"hovertemplate\": \"sim_index=1.0<br>ctp_bin_labels=%{x}<br>ctp_bin_counts=%{y}<extra></extra>\", \"legendgroup\": \"\", \"marker\": {\"color\": \"#636efa\"}, \"name\": \"\", \"offsetgroup\": \"\", \"orientation\": \"v\", \"showlegend\": false, \"textposition\": \"auto\", \"x\": [0.7947368421052632, 0.8105263157894737, 0.8263157894736842, 0.8421052631578947, 0.8578947368421053, 0.8736842105263158, 0.8894736842105263, 0.9052631578947369, 0.9210526315789473, 0.9526315789473685], \"xaxis\": \"x\", \"y\": [1.0, 2.0, 4.0, 8.0, 2.0, 15.0, 4.0, 12.0, 1.0, 1.0], \"yaxis\": \"y\", \"type\": \"bar\"}], \"name\": \"1.0\"}, {\"data\": [{\"alignmentgroup\": \"True\", \"hovertemplate\": \"sim_index=2.0<br>ctp_bin_labels=%{x}<br>ctp_bin_counts=%{y}<extra></extra>\", \"legendgroup\": \"\", \"marker\": {\"color\": \"#636efa\"}, \"name\": \"\", \"offsetgroup\": \"\", \"orientation\": \"v\", \"showlegend\": false, \"textposition\": \"auto\", \"x\": [0.7947368421052632, 0.8105263157894737, 0.8263157894736842, 0.8421052631578947, 0.8578947368421053, 0.8736842105263158, 0.8894736842105263, 0.9052631578947369, 0.9210526315789473, 0.9368421052631579], \"xaxis\": \"x\", \"y\": [1.0, 3.0, 4.0, 14.0, 5.0, 26.0, 16.0, 19.0, 9.0, 3.0], \"yaxis\": \"y\", \"type\": \"bar\"}], \"name\": \"2.0\"}, {\"data\": [{\"alignmentgroup\": \"True\", \"hovertemplate\": \"sim_index=3.0<br>ctp_bin_labels=%{x}<br>ctp_bin_counts=%{y}<extra></extra>\", \"legendgroup\": \"\", \"marker\": {\"color\": \"#636efa\"}, \"name\": \"\", \"offsetgroup\": \"\", \"orientation\": \"v\", \"showlegend\": false, \"textposition\": \"auto\", \"x\": [0.8105263157894737, 0.8263157894736842, 0.8421052631578947, 0.8578947368421053, 0.8736842105263158, 0.8894736842105263, 0.9052631578947369, 0.9210526315789473, 0.9368421052631579, 0.9526315789473685], \"xaxis\": \"x\", \"y\": [14.0, 13.0, 28.0, 39.0, 72.0, 22.0, 43.0, 17.0, 1.0, 1.0], \"yaxis\": \"y\", \"type\": \"bar\"}], \"name\": \"3.0\"}, {\"data\": [{\"alignmentgroup\": \"True\", \"hovertemplate\": \"sim_index=4.0<br>ctp_bin_labels=%{x}<br>ctp_bin_counts=%{y}<extra></extra>\", \"legendgroup\": \"\", \"marker\": {\"color\": \"#636efa\"}, \"name\": \"\", \"offsetgroup\": \"\", \"orientation\": \"v\", \"showlegend\": false, \"textposition\": \"auto\", \"x\": [0.7947368421052632, 0.8105263157894737, 0.8263157894736842, 0.8421052631578947, 0.8578947368421053, 0.8736842105263158, 0.8894736842105263, 0.9052631578947369, 0.9210526315789473, 0.9368421052631579, 0.9526315789473685], \"xaxis\": \"x\", \"y\": [1.0, 15.0, 26.0, 77.0, 51.0, 146.0, 60.0, 82.0, 35.0, 3.0, 4.0], \"yaxis\": \"y\", \"type\": \"bar\"}], \"name\": \"4.0\"}, {\"data\": [{\"alignmentgroup\": \"True\", \"hovertemplate\": \"sim_index=5.0<br>ctp_bin_labels=%{x}<br>ctp_bin_counts=%{y}<extra></extra>\", \"legendgroup\": \"\", \"marker\": {\"color\": \"#636efa\"}, \"name\": \"\", \"offsetgroup\": \"\", \"orientation\": \"v\", \"showlegend\": false, \"textposition\": \"auto\", \"x\": [0.7789473684210526, 0.7947368421052632, 0.8105263157894737, 0.8263157894736842, 0.8421052631578947, 0.8578947368421053, 0.8736842105263158, 0.8894736842105263, 0.9052631578947369, 0.9210526315789473, 0.9368421052631579, 0.9526315789473685, 0.968421052631579], \"xaxis\": \"x\", \"y\": [2.0, 7.0, 26.0, 43.0, 142.0, 102.0, 272.0, 145.0, 160.0, 86.0, 7.0, 6.0, 2.0], \"yaxis\": \"y\", \"type\": \"bar\"}], \"name\": \"5.0\"}, {\"data\": [{\"alignmentgroup\": \"True\", \"hovertemplate\": \"sim_index=6.0<br>ctp_bin_labels=%{x}<br>ctp_bin_counts=%{y}<extra></extra>\", \"legendgroup\": \"\", \"marker\": {\"color\": \"#636efa\"}, \"name\": \"\", \"offsetgroup\": \"\", \"orientation\": \"v\", \"showlegend\": false, \"textposition\": \"auto\", \"x\": [0.7789473684210526, 0.7947368421052632, 0.8105263157894737, 0.8263157894736842, 0.8421052631578947, 0.8578947368421053, 0.8736842105263158, 0.8894736842105263, 0.9052631578947369, 0.9210526315789473, 0.9368421052631579, 0.9526315789473685], \"xaxis\": \"x\", \"y\": [2.0, 9.0, 59.0, 69.0, 327.0, 220.0, 584.0, 247.0, 342.0, 114.0, 17.0, 10.0], \"yaxis\": \"y\", \"type\": \"bar\"}], \"name\": \"6.0\"}, {\"data\": [{\"alignmentgroup\": \"True\", \"hovertemplate\": \"sim_index=7.0<br>ctp_bin_labels=%{x}<br>ctp_bin_counts=%{y}<extra></extra>\", \"legendgroup\": \"\", \"marker\": {\"color\": \"#636efa\"}, \"name\": \"\", \"offsetgroup\": \"\", \"orientation\": \"v\", \"showlegend\": false, \"textposition\": \"auto\", \"x\": [0.7789473684210526, 0.7947368421052632, 0.8105263157894737, 0.8263157894736842, 0.8421052631578947, 0.8578947368421053, 0.8736842105263158, 0.8894736842105263, 0.9052631578947369, 0.9210526315789473, 0.9368421052631579, 0.9526315789473685, 0.9842105263157894], \"xaxis\": \"x\", \"y\": [3.0, 18.0, 107.0, 101.0, 449.0, 334.0, 823.0, 420.0, 525.0, 183.0, 29.0, 7.0, 1.0], \"yaxis\": \"y\", \"type\": \"bar\"}], \"name\": \"7.0\"}]);})\n",
       "    }\n",
       "        });</script><script type=\"text/javascript\">window.addEventListener(\"resize\", function(){if (document.getElementById(\"5049535f-2ed0-46f8-b908-ff1813bb5b77\")) {window._Plotly.Plots.resize(document.getElementById(\"5049535f-2ed0-46f8-b908-ff1813bb5b77\"));};})</script>"
      ],
      "text/vnd.plotly.v1+html": [
       "<div id=\"5049535f-2ed0-46f8-b908-ff1813bb5b77\" style=\"height: 600px; width: 100%;\" class=\"plotly-graph-div\"></div><script type=\"text/javascript\">require([\"plotly\"], function(Plotly) { window.PLOTLYENV=window.PLOTLYENV || {};window.PLOTLYENV.BASE_URL=\"https://plot.ly\";\n",
       "    if (document.getElementById(\"5049535f-2ed0-46f8-b908-ff1813bb5b77\")) {\n",
       "        Plotly.plot(\n",
       "            '5049535f-2ed0-46f8-b908-ff1813bb5b77',\n",
       "            [{\"alignmentgroup\": \"True\", \"hovertemplate\": \"sim_index=0.0<br>ctp_bin_labels=%{x}<br>ctp_bin_counts=%{y}<extra></extra>\", \"legendgroup\": \"\", \"marker\": {\"color\": \"#636efa\"}, \"name\": \"\", \"offsetgroup\": \"\", \"orientation\": \"v\", \"showlegend\": false, \"textposition\": \"auto\", \"x\": [0.8421052631578947, 0.8578947368421053, 0.8736842105263158, 0.8894736842105263, 0.9052631578947369], \"xaxis\": \"x\", \"y\": [4.0, 1.0, 7.0, 4.0, 4.0], \"yaxis\": \"y\", \"type\": \"bar\", \"uid\": \"9e88ca5f-929c-4206-8647-4353d08a4ddd\"}],\n",
       "            {\"barmode\": \"relative\", \"height\": 600, \"legend\": {\"tracegroupgap\": 0}, \"margin\": {\"t\": 60}, \"template\": {\"data\": {\"barpolar\": [{\"marker\": {\"line\": {\"color\": \"#E5ECF6\", \"width\": 0.5}}, \"type\": \"barpolar\"}], \"bar\": [{\"marker\": {\"line\": {\"color\": \"#E5ECF6\", \"width\": 0.5}}, \"type\": \"bar\"}], \"carpet\": [{\"aaxis\": {\"endlinecolor\": \"#2a3f5f\", \"gridcolor\": \"white\", \"linecolor\": \"white\", \"minorgridcolor\": \"white\", \"startlinecolor\": \"#2a3f5f\"}, \"baxis\": {\"endlinecolor\": \"#2a3f5f\", \"gridcolor\": \"white\", \"linecolor\": \"white\", \"minorgridcolor\": \"white\", \"startlinecolor\": \"#2a3f5f\"}, \"type\": \"carpet\"}], \"choropleth\": [{\"colorbar\": {\"outlinewidth\": 0, \"ticks\": \"\"}, \"type\": \"choropleth\"}], \"contourcarpet\": [{\"colorbar\": {\"outlinewidth\": 0, \"ticks\": \"\"}, \"type\": \"contourcarpet\"}], \"contour\": [{\"autocolorscale\": true, \"colorbar\": {\"outlinewidth\": 0, \"ticks\": \"\"}, \"type\": \"contour\"}], \"heatmapgl\": [{\"colorbar\": {\"outlinewidth\": 0, \"ticks\": \"\"}, \"type\": \"heatmapgl\"}], \"heatmap\": [{\"autocolorscale\": true, \"colorbar\": {\"outlinewidth\": 0, \"ticks\": \"\"}, \"type\": \"heatmap\"}], \"histogram2dcontour\": [{\"autocolorscale\": true, \"colorbar\": {\"outlinewidth\": 0, \"ticks\": \"\"}, \"type\": \"histogram2dcontour\"}], \"histogram2d\": [{\"autocolorscale\": true, \"colorbar\": {\"outlinewidth\": 0, \"ticks\": \"\"}, \"type\": \"histogram2d\"}], \"histogram\": [{\"marker\": {\"colorbar\": {\"outlinewidth\": 0, \"ticks\": \"\"}}, \"type\": \"histogram\"}], \"mesh3d\": [{\"colorbar\": {\"outlinewidth\": 0, \"ticks\": \"\"}, \"type\": \"mesh3d\"}], \"parcoords\": [{\"line\": {\"colorbar\": {\"outlinewidth\": 0, \"ticks\": \"\"}}, \"type\": \"parcoords\"}], \"scatter3d\": [{\"marker\": {\"colorbar\": {\"outlinewidth\": 0, \"ticks\": \"\"}}, \"type\": \"scatter3d\"}], \"scattercarpet\": [{\"marker\": {\"colorbar\": {\"outlinewidth\": 0, \"ticks\": \"\"}}, \"type\": \"scattercarpet\"}], \"scattergeo\": [{\"marker\": {\"colorbar\": {\"outlinewidth\": 0, \"ticks\": \"\"}}, \"type\": \"scattergeo\"}], \"scattergl\": [{\"marker\": {\"colorbar\": {\"outlinewidth\": 0, \"ticks\": \"\"}}, \"type\": \"scattergl\"}], \"scattermapbox\": [{\"marker\": {\"colorbar\": {\"outlinewidth\": 0, \"ticks\": \"\"}}, \"type\": \"scattermapbox\"}], \"scatterpolargl\": [{\"marker\": {\"colorbar\": {\"outlinewidth\": 0, \"ticks\": \"\"}}, \"type\": \"scatterpolargl\"}], \"scatterpolar\": [{\"marker\": {\"colorbar\": {\"outlinewidth\": 0, \"ticks\": \"\"}}, \"type\": \"scatterpolar\"}], \"scatter\": [{\"marker\": {\"colorbar\": {\"outlinewidth\": 0, \"ticks\": \"\"}}, \"type\": \"scatter\"}], \"scatterternary\": [{\"marker\": {\"colorbar\": {\"outlinewidth\": 0, \"ticks\": \"\"}}, \"type\": \"scatterternary\"}], \"surface\": [{\"colorbar\": {\"outlinewidth\": 0, \"ticks\": \"\"}, \"type\": \"surface\"}], \"table\": [{\"cells\": {\"fill\": {\"color\": \"#EBF0F8\"}, \"line\": {\"color\": \"white\"}}, \"header\": {\"fill\": {\"color\": \"#C8D4E3\"}, \"line\": {\"color\": \"white\"}}, \"type\": \"table\"}]}, \"layout\": {\"annotationdefaults\": {\"arrowcolor\": \"#506784\", \"arrowhead\": 0, \"arrowwidth\": 1}, \"colorscale\": {\"diverging\": [[0, \"#8e0152\"], [0.1, \"#c51b7d\"], [0.2, \"#de77ae\"], [0.3, \"#f1b6da\"], [0.4, \"#fde0ef\"], [0.5, \"#f7f7f7\"], [0.6, \"#e6f5d0\"], [0.7, \"#b8e186\"], [0.8, \"#7fbc41\"], [0.9, \"#4d9221\"], [1, \"#276419\"]], \"sequential\": [[0.0, \"#0508b8\"], [0.0893854748603352, \"#1910d8\"], [0.1787709497206704, \"#3c19f0\"], [0.2681564245810056, \"#6b1cfb\"], [0.3575418994413408, \"#981cfd\"], [0.44692737430167595, \"#bf1cfd\"], [0.5363128491620112, \"#dd2bfd\"], [0.6256983240223464, \"#f246fe\"], [0.7150837988826816, \"#fc67fd\"], [0.8044692737430168, \"#fe88fc\"], [0.8938547486033519, \"#fea5fd\"], [0.9832402234636871, \"#febefe\"], [1.0, \"#fec3fe\"]], \"sequentialminus\": [[0.0, \"#0508b8\"], [0.0893854748603352, \"#1910d8\"], [0.1787709497206704, \"#3c19f0\"], [0.2681564245810056, \"#6b1cfb\"], [0.3575418994413408, \"#981cfd\"], [0.44692737430167595, \"#bf1cfd\"], [0.5363128491620112, \"#dd2bfd\"], [0.6256983240223464, \"#f246fe\"], [0.7150837988826816, \"#fc67fd\"], [0.8044692737430168, \"#fe88fc\"], [0.8938547486033519, \"#fea5fd\"], [0.9832402234636871, \"#febefe\"], [1.0, \"#fec3fe\"]]}, \"colorway\": [\"#636efa\", \"#EF553B\", \"#00cc96\", \"#ab63fa\", \"#19d3f3\", \"#e763fa\", \"#FECB52\", \"#FFA15A\", \"#FF6692\", \"#B6E880\"], \"font\": {\"color\": \"#2a3f5f\"}, \"geo\": {\"bgcolor\": \"white\", \"lakecolor\": \"white\", \"landcolor\": \"#E5ECF6\", \"showlakes\": true, \"showland\": true, \"subunitcolor\": \"white\"}, \"hovermode\": \"closest\", \"mapbox\": {\"style\": \"light\"}, \"paper_bgcolor\": \"white\", \"plot_bgcolor\": \"#E5ECF6\", \"polar\": {\"angularaxis\": {\"gridcolor\": \"white\", \"linecolor\": \"white\", \"ticks\": \"\"}, \"bgcolor\": \"#E5ECF6\", \"radialaxis\": {\"gridcolor\": \"white\", \"linecolor\": \"white\", \"ticks\": \"\"}}, \"scene\": {\"xaxis\": {\"backgroundcolor\": \"#E5ECF6\", \"gridcolor\": \"white\", \"gridwidth\": 2, \"linecolor\": \"white\", \"showbackground\": true, \"ticks\": \"\", \"zerolinecolor\": \"white\"}, \"yaxis\": {\"backgroundcolor\": \"#E5ECF6\", \"gridcolor\": \"white\", \"gridwidth\": 2, \"linecolor\": \"white\", \"showbackground\": true, \"ticks\": \"\", \"zerolinecolor\": \"white\"}, \"zaxis\": {\"backgroundcolor\": \"#E5ECF6\", \"gridcolor\": \"white\", \"gridwidth\": 2, \"linecolor\": \"white\", \"showbackground\": true, \"ticks\": \"\", \"zerolinecolor\": \"white\"}}, \"shapedefaults\": {\"fillcolor\": \"#506784\", \"line\": {\"width\": 0}, \"opacity\": 0.4}, \"ternary\": {\"aaxis\": {\"gridcolor\": \"white\", \"linecolor\": \"white\", \"ticks\": \"\"}, \"baxis\": {\"gridcolor\": \"white\", \"linecolor\": \"white\", \"ticks\": \"\"}, \"bgcolor\": \"#E5ECF6\", \"caxis\": {\"gridcolor\": \"white\", \"linecolor\": \"white\", \"ticks\": \"\"}}, \"title\": {\"x\": 0.05}, \"xaxis\": {\"automargin\": true, \"gridcolor\": \"white\", \"linecolor\": \"white\", \"ticks\": \"\", \"zerolinecolor\": \"white\", \"zerolinewidth\": 2}, \"yaxis\": {\"automargin\": true, \"gridcolor\": \"white\", \"linecolor\": \"white\", \"ticks\": \"\", \"zerolinecolor\": \"white\", \"zerolinewidth\": 2}}}, \"grid\": {\"xaxes\": [\"x\"], \"yaxes\": [\"y\"], \"xgap\": 0.1, \"ygap\": 0.1, \"xside\": \"bottom\", \"yside\": \"left\"}, \"yaxis\": {\"title\": {\"text\": \"ctp_bin_counts\"}, \"range\": [0, 1300]}, \"xaxis\": {\"title\": {\"text\": \"ctp_bin_labels\"}}, \"updatemenus\": [{\"buttons\": [{\"args\": [null, {\"frame\": {\"duration\": 500, \"redraw\": true}, \"mode\": \"immediate\", \"fromcurrent\": true, \"transition\": {\"duration\": 500, \"easing\": \"linear\"}}], \"label\": \"&#9654;\", \"method\": \"animate\"}, {\"args\": [[null], {\"frame\": {\"duration\": 0, \"redraw\": true}, \"mode\": \"immediate\", \"fromcurrent\": true, \"transition\": {\"duration\": 0, \"easing\": \"linear\"}}], \"label\": \"&#9724;\", \"method\": \"animate\"}], \"direction\": \"left\", \"pad\": {\"r\": 10, \"t\": 70}, \"showactive\": false, \"type\": \"buttons\", \"x\": 0.1, \"xanchor\": \"right\", \"y\": 0, \"yanchor\": \"top\"}], \"sliders\": [{\"active\": 0, \"currentvalue\": {\"prefix\": \"sim_index=\"}, \"len\": 0.9, \"pad\": {\"b\": 10, \"t\": 60}, \"steps\": [{\"args\": [[\"0.0\"], {\"frame\": {\"duration\": 0, \"redraw\": true}, \"mode\": \"immediate\", \"fromcurrent\": true, \"transition\": {\"duration\": 0, \"easing\": \"linear\"}}], \"label\": \"0.0\", \"method\": \"animate\"}, {\"args\": [[\"1.0\"], {\"frame\": {\"duration\": 0, \"redraw\": true}, \"mode\": \"immediate\", \"fromcurrent\": true, \"transition\": {\"duration\": 0, \"easing\": \"linear\"}}], \"label\": \"1.0\", \"method\": \"animate\"}, {\"args\": [[\"2.0\"], {\"frame\": {\"duration\": 0, \"redraw\": true}, \"mode\": \"immediate\", \"fromcurrent\": true, \"transition\": {\"duration\": 0, \"easing\": \"linear\"}}], \"label\": \"2.0\", \"method\": \"animate\"}, {\"args\": [[\"3.0\"], {\"frame\": {\"duration\": 0, \"redraw\": true}, \"mode\": \"immediate\", \"fromcurrent\": true, \"transition\": {\"duration\": 0, \"easing\": \"linear\"}}], \"label\": \"3.0\", \"method\": \"animate\"}, {\"args\": [[\"4.0\"], {\"frame\": {\"duration\": 0, \"redraw\": true}, \"mode\": \"immediate\", \"fromcurrent\": true, \"transition\": {\"duration\": 0, \"easing\": \"linear\"}}], \"label\": \"4.0\", \"method\": \"animate\"}, {\"args\": [[\"5.0\"], {\"frame\": {\"duration\": 0, \"redraw\": true}, \"mode\": \"immediate\", \"fromcurrent\": true, \"transition\": {\"duration\": 0, \"easing\": \"linear\"}}], \"label\": \"5.0\", \"method\": \"animate\"}, {\"args\": [[\"6.0\"], {\"frame\": {\"duration\": 0, \"redraw\": true}, \"mode\": \"immediate\", \"fromcurrent\": true, \"transition\": {\"duration\": 0, \"easing\": \"linear\"}}], \"label\": \"6.0\", \"method\": \"animate\"}, {\"args\": [[\"7.0\"], {\"frame\": {\"duration\": 0, \"redraw\": true}, \"mode\": \"immediate\", \"fromcurrent\": true, \"transition\": {\"duration\": 0, \"easing\": \"linear\"}}], \"label\": \"7.0\", \"method\": \"animate\"}], \"x\": 0.1, \"xanchor\": \"left\", \"y\": 0, \"yanchor\": \"top\"}]},\n",
       "            {\"showLink\": false, \"linkText\": \"Export to plot.ly\", \"plotlyServerURL\": \"https://plot.ly\"}\n",
       "        ).then(function () {return Plotly.addFrames('5049535f-2ed0-46f8-b908-ff1813bb5b77',[{\"data\": [{\"alignmentgroup\": \"True\", \"hovertemplate\": \"sim_index=0.0<br>ctp_bin_labels=%{x}<br>ctp_bin_counts=%{y}<extra></extra>\", \"legendgroup\": \"\", \"marker\": {\"color\": \"#636efa\"}, \"name\": \"\", \"offsetgroup\": \"\", \"orientation\": \"v\", \"showlegend\": false, \"textposition\": \"auto\", \"x\": [0.8421052631578947, 0.8578947368421053, 0.8736842105263158, 0.8894736842105263, 0.9052631578947369], \"xaxis\": \"x\", \"y\": [4.0, 1.0, 7.0, 4.0, 4.0], \"yaxis\": \"y\", \"type\": \"bar\"}], \"name\": \"0.0\"}, {\"data\": [{\"alignmentgroup\": \"True\", \"hovertemplate\": \"sim_index=1.0<br>ctp_bin_labels=%{x}<br>ctp_bin_counts=%{y}<extra></extra>\", \"legendgroup\": \"\", \"marker\": {\"color\": \"#636efa\"}, \"name\": \"\", \"offsetgroup\": \"\", \"orientation\": \"v\", \"showlegend\": false, \"textposition\": \"auto\", \"x\": [0.7947368421052632, 0.8105263157894737, 0.8263157894736842, 0.8421052631578947, 0.8578947368421053, 0.8736842105263158, 0.8894736842105263, 0.9052631578947369, 0.9210526315789473, 0.9526315789473685], \"xaxis\": \"x\", \"y\": [1.0, 2.0, 4.0, 8.0, 2.0, 15.0, 4.0, 12.0, 1.0, 1.0], \"yaxis\": \"y\", \"type\": \"bar\"}], \"name\": \"1.0\"}, {\"data\": [{\"alignmentgroup\": \"True\", \"hovertemplate\": \"sim_index=2.0<br>ctp_bin_labels=%{x}<br>ctp_bin_counts=%{y}<extra></extra>\", \"legendgroup\": \"\", \"marker\": {\"color\": \"#636efa\"}, \"name\": \"\", \"offsetgroup\": \"\", \"orientation\": \"v\", \"showlegend\": false, \"textposition\": \"auto\", \"x\": [0.7947368421052632, 0.8105263157894737, 0.8263157894736842, 0.8421052631578947, 0.8578947368421053, 0.8736842105263158, 0.8894736842105263, 0.9052631578947369, 0.9210526315789473, 0.9368421052631579], \"xaxis\": \"x\", \"y\": [1.0, 3.0, 4.0, 14.0, 5.0, 26.0, 16.0, 19.0, 9.0, 3.0], \"yaxis\": \"y\", \"type\": \"bar\"}], \"name\": \"2.0\"}, {\"data\": [{\"alignmentgroup\": \"True\", \"hovertemplate\": \"sim_index=3.0<br>ctp_bin_labels=%{x}<br>ctp_bin_counts=%{y}<extra></extra>\", \"legendgroup\": \"\", \"marker\": {\"color\": \"#636efa\"}, \"name\": \"\", \"offsetgroup\": \"\", \"orientation\": \"v\", \"showlegend\": false, \"textposition\": \"auto\", \"x\": [0.8105263157894737, 0.8263157894736842, 0.8421052631578947, 0.8578947368421053, 0.8736842105263158, 0.8894736842105263, 0.9052631578947369, 0.9210526315789473, 0.9368421052631579, 0.9526315789473685], \"xaxis\": \"x\", \"y\": [14.0, 13.0, 28.0, 39.0, 72.0, 22.0, 43.0, 17.0, 1.0, 1.0], \"yaxis\": \"y\", \"type\": \"bar\"}], \"name\": \"3.0\"}, {\"data\": [{\"alignmentgroup\": \"True\", \"hovertemplate\": \"sim_index=4.0<br>ctp_bin_labels=%{x}<br>ctp_bin_counts=%{y}<extra></extra>\", \"legendgroup\": \"\", \"marker\": {\"color\": \"#636efa\"}, \"name\": \"\", \"offsetgroup\": \"\", \"orientation\": \"v\", \"showlegend\": false, \"textposition\": \"auto\", \"x\": [0.7947368421052632, 0.8105263157894737, 0.8263157894736842, 0.8421052631578947, 0.8578947368421053, 0.8736842105263158, 0.8894736842105263, 0.9052631578947369, 0.9210526315789473, 0.9368421052631579, 0.9526315789473685], \"xaxis\": \"x\", \"y\": [1.0, 15.0, 26.0, 77.0, 51.0, 146.0, 60.0, 82.0, 35.0, 3.0, 4.0], \"yaxis\": \"y\", \"type\": \"bar\"}], \"name\": \"4.0\"}, {\"data\": [{\"alignmentgroup\": \"True\", \"hovertemplate\": \"sim_index=5.0<br>ctp_bin_labels=%{x}<br>ctp_bin_counts=%{y}<extra></extra>\", \"legendgroup\": \"\", \"marker\": {\"color\": \"#636efa\"}, \"name\": \"\", \"offsetgroup\": \"\", \"orientation\": \"v\", \"showlegend\": false, \"textposition\": \"auto\", \"x\": [0.7789473684210526, 0.7947368421052632, 0.8105263157894737, 0.8263157894736842, 0.8421052631578947, 0.8578947368421053, 0.8736842105263158, 0.8894736842105263, 0.9052631578947369, 0.9210526315789473, 0.9368421052631579, 0.9526315789473685, 0.968421052631579], \"xaxis\": \"x\", \"y\": [2.0, 7.0, 26.0, 43.0, 142.0, 102.0, 272.0, 145.0, 160.0, 86.0, 7.0, 6.0, 2.0], \"yaxis\": \"y\", \"type\": \"bar\"}], \"name\": \"5.0\"}, {\"data\": [{\"alignmentgroup\": \"True\", \"hovertemplate\": \"sim_index=6.0<br>ctp_bin_labels=%{x}<br>ctp_bin_counts=%{y}<extra></extra>\", \"legendgroup\": \"\", \"marker\": {\"color\": \"#636efa\"}, \"name\": \"\", \"offsetgroup\": \"\", \"orientation\": \"v\", \"showlegend\": false, \"textposition\": \"auto\", \"x\": [0.7789473684210526, 0.7947368421052632, 0.8105263157894737, 0.8263157894736842, 0.8421052631578947, 0.8578947368421053, 0.8736842105263158, 0.8894736842105263, 0.9052631578947369, 0.9210526315789473, 0.9368421052631579, 0.9526315789473685], \"xaxis\": \"x\", \"y\": [2.0, 9.0, 59.0, 69.0, 327.0, 220.0, 584.0, 247.0, 342.0, 114.0, 17.0, 10.0], \"yaxis\": \"y\", \"type\": \"bar\"}], \"name\": \"6.0\"}, {\"data\": [{\"alignmentgroup\": \"True\", \"hovertemplate\": \"sim_index=7.0<br>ctp_bin_labels=%{x}<br>ctp_bin_counts=%{y}<extra></extra>\", \"legendgroup\": \"\", \"marker\": {\"color\": \"#636efa\"}, \"name\": \"\", \"offsetgroup\": \"\", \"orientation\": \"v\", \"showlegend\": false, \"textposition\": \"auto\", \"x\": [0.7789473684210526, 0.7947368421052632, 0.8105263157894737, 0.8263157894736842, 0.8421052631578947, 0.8578947368421053, 0.8736842105263158, 0.8894736842105263, 0.9052631578947369, 0.9210526315789473, 0.9368421052631579, 0.9526315789473685, 0.9842105263157894], \"xaxis\": \"x\", \"y\": [3.0, 18.0, 107.0, 101.0, 449.0, 334.0, 823.0, 420.0, 525.0, 183.0, 29.0, 7.0, 1.0], \"yaxis\": \"y\", \"type\": \"bar\"}], \"name\": \"7.0\"}]);})\n",
       "    }\n",
       "        });</script><script type=\"text/javascript\">window.addEventListener(\"resize\", function(){if (document.getElementById(\"5049535f-2ed0-46f8-b908-ff1813bb5b77\")) {window._Plotly.Plots.resize(document.getElementById(\"5049535f-2ed0-46f8-b908-ff1813bb5b77\"));};})</script>"
      ]
     },
     "metadata": {},
     "output_type": "display_data"
    }
   ],
   "source": [
    "draw_interactive_bar_plot_for_simulations(\n",
    "    make_df_for_simulations(simulate_ctp)\n",
    ")"
   ]
  },
  {
   "cell_type": "code",
   "execution_count": 186,
   "metadata": {},
   "outputs": [
    {
     "data": {
      "application/vnd.plotly.v1+json": {
       "config": {
        "linkText": "Export to plot.ly",
        "plotlyServerURL": "https://plot.ly",
        "showLink": false
       },
       "data": [
        {
         "alignmentgroup": "True",
         "hovertemplate": "sim_index=0.0<br>ctp_bin_labels=%{x}<br>ctp_bin_prob=%{y}<extra></extra>",
         "legendgroup": "",
         "marker": {
          "color": "#636efa"
         },
         "name": "",
         "offsetgroup": "",
         "orientation": "v",
         "showlegend": false,
         "textposition": "auto",
         "type": "bar",
         "uid": "ecc46ee0-4c71-4d47-bc9c-5d1de25e0047",
         "x": [
          0.8105263157894737,
          0.8263157894736842,
          0.8421052631578947,
          0.8578947368421053,
          0.8736842105263158,
          0.8894736842105263,
          0.9052631578947369,
          0.9210526315789473
         ],
         "xaxis": "x",
         "y": [
          0.1,
          0.05,
          0.1,
          0.1,
          0.15,
          0.1,
          0.35,
          0.05
         ],
         "yaxis": "y"
        }
       ],
       "frames": [
        {
         "data": [
          {
           "alignmentgroup": "True",
           "hovertemplate": "sim_index=0.0<br>ctp_bin_labels=%{x}<br>ctp_bin_prob=%{y}<extra></extra>",
           "legendgroup": "",
           "marker": {
            "color": "#636efa"
           },
           "name": "",
           "offsetgroup": "",
           "orientation": "v",
           "showlegend": false,
           "textposition": "auto",
           "type": "bar",
           "x": [
            0.8105263157894737,
            0.8263157894736842,
            0.8421052631578947,
            0.8578947368421053,
            0.8736842105263158,
            0.8894736842105263,
            0.9052631578947369,
            0.9210526315789473
           ],
           "xaxis": "x",
           "y": [
            0.1,
            0.05,
            0.1,
            0.1,
            0.15,
            0.1,
            0.35,
            0.05
           ],
           "yaxis": "y"
          }
         ],
         "name": "0.0"
        },
        {
         "data": [
          {
           "alignmentgroup": "True",
           "hovertemplate": "sim_index=1.0<br>ctp_bin_labels=%{x}<br>ctp_bin_prob=%{y}<extra></extra>",
           "legendgroup": "",
           "marker": {
            "color": "#636efa"
           },
           "name": "",
           "offsetgroup": "",
           "orientation": "v",
           "showlegend": false,
           "textposition": "auto",
           "type": "bar",
           "x": [
            0.8263157894736842,
            0.8421052631578947,
            0.8578947368421053,
            0.8736842105263158,
            0.8894736842105263,
            0.9052631578947369,
            0.9210526315789473,
            0.9526315789473685
           ],
           "xaxis": "x",
           "y": [
            0.06,
            0.18,
            0.1,
            0.26,
            0.16,
            0.18,
            0.04,
            0.02
           ],
           "yaxis": "y"
          }
         ],
         "name": "1.0"
        },
        {
         "data": [
          {
           "alignmentgroup": "True",
           "hovertemplate": "sim_index=2.0<br>ctp_bin_labels=%{x}<br>ctp_bin_prob=%{y}<extra></extra>",
           "legendgroup": "",
           "marker": {
            "color": "#636efa"
           },
           "name": "",
           "offsetgroup": "",
           "orientation": "v",
           "showlegend": false,
           "textposition": "auto",
           "type": "bar",
           "x": [
            0.8105263157894737,
            0.8263157894736842,
            0.8421052631578947,
            0.8578947368421053,
            0.8736842105263158,
            0.8894736842105263,
            0.9052631578947369,
            0.9210526315789473,
            0.9368421052631579,
            0.9526315789473685
           ],
           "xaxis": "x",
           "y": [
            0.03,
            0.07,
            0.09,
            0.15,
            0.2,
            0.15,
            0.22,
            0.07,
            0.01,
            0.01
           ],
           "yaxis": "y"
          }
         ],
         "name": "2.0"
        },
        {
         "data": [
          {
           "alignmentgroup": "True",
           "hovertemplate": "sim_index=3.0<br>ctp_bin_labels=%{x}<br>ctp_bin_prob=%{y}<extra></extra>",
           "legendgroup": "",
           "marker": {
            "color": "#636efa"
           },
           "name": "",
           "offsetgroup": "",
           "orientation": "v",
           "showlegend": false,
           "textposition": "auto",
           "type": "bar",
           "x": [
            0.7789473684210526,
            0.8105263157894737,
            0.8263157894736842,
            0.8421052631578947,
            0.8578947368421053,
            0.8736842105263158,
            0.8894736842105263,
            0.9052631578947369,
            0.9210526315789473,
            0.9368421052631579,
            0.9526315789473685
           ],
           "xaxis": "x",
           "y": [
            0.012,
            0.032,
            0.032,
            0.156,
            0.096,
            0.292,
            0.144,
            0.164,
            0.064,
            0.004,
            0.004
           ],
           "yaxis": "y"
          }
         ],
         "name": "3.0"
        },
        {
         "data": [
          {
           "alignmentgroup": "True",
           "hovertemplate": "sim_index=4.0<br>ctp_bin_labels=%{x}<br>ctp_bin_prob=%{y}<extra></extra>",
           "legendgroup": "",
           "marker": {
            "color": "#636efa"
           },
           "name": "",
           "offsetgroup": "",
           "orientation": "v",
           "showlegend": false,
           "textposition": "auto",
           "type": "bar",
           "x": [
            0.763157894736842,
            0.7947368421052632,
            0.8105263157894737,
            0.8263157894736842,
            0.8421052631578947,
            0.8578947368421053,
            0.8736842105263158,
            0.8894736842105263,
            0.9052631578947369,
            0.9210526315789473,
            0.9368421052631579,
            0.9526315789473685
           ],
           "xaxis": "x",
           "y": [
            0.002,
            0.006,
            0.018,
            0.036,
            0.148,
            0.138,
            0.274,
            0.106,
            0.164,
            0.084,
            0.02,
            0.004
           ],
           "yaxis": "y"
          }
         ],
         "name": "4.0"
        },
        {
         "data": [
          {
           "alignmentgroup": "True",
           "hovertemplate": "sim_index=5.0<br>ctp_bin_labels=%{x}<br>ctp_bin_prob=%{y}<extra></extra>",
           "legendgroup": "",
           "marker": {
            "color": "#636efa"
           },
           "name": "",
           "offsetgroup": "",
           "orientation": "v",
           "showlegend": false,
           "textposition": "auto",
           "type": "bar",
           "x": [
            0.7947368421052632,
            0.8105263157894737,
            0.8263157894736842,
            0.8421052631578947,
            0.8578947368421053,
            0.8736842105263158,
            0.8894736842105263,
            0.9052631578947369,
            0.9210526315789473,
            0.9368421052631579,
            0.9526315789473685
           ],
           "xaxis": "x",
           "y": [
            0.008,
            0.025,
            0.042,
            0.139,
            0.135,
            0.294,
            0.118,
            0.166,
            0.061,
            0.009,
            0.003
           ],
           "yaxis": "y"
          }
         ],
         "name": "5.0"
        },
        {
         "data": [
          {
           "alignmentgroup": "True",
           "hovertemplate": "sim_index=6.0<br>ctp_bin_labels=%{x}<br>ctp_bin_prob=%{y}<extra></extra>",
           "legendgroup": "",
           "marker": {
            "color": "#636efa"
           },
           "name": "",
           "offsetgroup": "",
           "orientation": "v",
           "showlegend": false,
           "textposition": "auto",
           "type": "bar",
           "x": [
            0.7789473684210526,
            0.7947368421052632,
            0.8105263157894737,
            0.8263157894736842,
            0.8421052631578947,
            0.8578947368421053,
            0.8736842105263158,
            0.8894736842105263,
            0.9052631578947369,
            0.9210526315789473,
            0.9368421052631579,
            0.9526315789473685
           ],
           "xaxis": "x",
           "y": [
            0.0005,
            0.0075,
            0.0265,
            0.037,
            0.1425,
            0.118,
            0.295,
            0.13,
            0.1695,
            0.061,
            0.008,
            0.0045
           ],
           "yaxis": "y"
          }
         ],
         "name": "6.0"
        },
        {
         "data": [
          {
           "alignmentgroup": "True",
           "hovertemplate": "sim_index=7.0<br>ctp_bin_labels=%{x}<br>ctp_bin_prob=%{y}<extra></extra>",
           "legendgroup": "",
           "marker": {
            "color": "#636efa"
           },
           "name": "",
           "offsetgroup": "",
           "orientation": "v",
           "showlegend": false,
           "textposition": "auto",
           "type": "bar",
           "x": [
            0.763157894736842,
            0.7789473684210526,
            0.7947368421052632,
            0.8105263157894737,
            0.8263157894736842,
            0.8421052631578947,
            0.8578947368421053,
            0.8736842105263158,
            0.8894736842105263,
            0.9052631578947369,
            0.9210526315789473,
            0.9368421052631579,
            0.9526315789473685
           ],
           "xaxis": "x",
           "y": [
            0.0006666666666666666,
            0.0006666666666666666,
            0.008666666666666666,
            0.029,
            0.036,
            0.14633333333333334,
            0.12533333333333332,
            0.2763333333333333,
            0.132,
            0.177,
            0.05333333333333334,
            0.010333333333333333,
            0.004333333333333333
           ],
           "yaxis": "y"
          }
         ],
         "name": "7.0"
        }
       ],
       "layout": {
        "barmode": "relative",
        "grid": {
         "xaxes": [
          "x"
         ],
         "xgap": 0.1,
         "xside": "bottom",
         "yaxes": [
          "y"
         ],
         "ygap": 0.1,
         "yside": "left"
        },
        "height": 600,
        "legend": {
         "tracegroupgap": 0
        },
        "margin": {
         "t": 60
        },
        "sliders": [
         {
          "active": 0,
          "currentvalue": {
           "prefix": "sim_index="
          },
          "len": 0.9,
          "pad": {
           "b": 10,
           "t": 60
          },
          "steps": [
           {
            "args": [
             [
              "0.0"
             ],
             {
              "frame": {
               "duration": 0,
               "redraw": true
              },
              "fromcurrent": true,
              "mode": "immediate",
              "transition": {
               "duration": 0,
               "easing": "linear"
              }
             }
            ],
            "label": "0.0",
            "method": "animate"
           },
           {
            "args": [
             [
              "1.0"
             ],
             {
              "frame": {
               "duration": 0,
               "redraw": true
              },
              "fromcurrent": true,
              "mode": "immediate",
              "transition": {
               "duration": 0,
               "easing": "linear"
              }
             }
            ],
            "label": "1.0",
            "method": "animate"
           },
           {
            "args": [
             [
              "2.0"
             ],
             {
              "frame": {
               "duration": 0,
               "redraw": true
              },
              "fromcurrent": true,
              "mode": "immediate",
              "transition": {
               "duration": 0,
               "easing": "linear"
              }
             }
            ],
            "label": "2.0",
            "method": "animate"
           },
           {
            "args": [
             [
              "3.0"
             ],
             {
              "frame": {
               "duration": 0,
               "redraw": true
              },
              "fromcurrent": true,
              "mode": "immediate",
              "transition": {
               "duration": 0,
               "easing": "linear"
              }
             }
            ],
            "label": "3.0",
            "method": "animate"
           },
           {
            "args": [
             [
              "4.0"
             ],
             {
              "frame": {
               "duration": 0,
               "redraw": true
              },
              "fromcurrent": true,
              "mode": "immediate",
              "transition": {
               "duration": 0,
               "easing": "linear"
              }
             }
            ],
            "label": "4.0",
            "method": "animate"
           },
           {
            "args": [
             [
              "5.0"
             ],
             {
              "frame": {
               "duration": 0,
               "redraw": true
              },
              "fromcurrent": true,
              "mode": "immediate",
              "transition": {
               "duration": 0,
               "easing": "linear"
              }
             }
            ],
            "label": "5.0",
            "method": "animate"
           },
           {
            "args": [
             [
              "6.0"
             ],
             {
              "frame": {
               "duration": 0,
               "redraw": true
              },
              "fromcurrent": true,
              "mode": "immediate",
              "transition": {
               "duration": 0,
               "easing": "linear"
              }
             }
            ],
            "label": "6.0",
            "method": "animate"
           },
           {
            "args": [
             [
              "7.0"
             ],
             {
              "frame": {
               "duration": 0,
               "redraw": true
              },
              "fromcurrent": true,
              "mode": "immediate",
              "transition": {
               "duration": 0,
               "easing": "linear"
              }
             }
            ],
            "label": "7.0",
            "method": "animate"
           }
          ],
          "x": 0.1,
          "xanchor": "left",
          "y": 0,
          "yanchor": "top"
         }
        ],
        "template": {
         "data": {
          "bar": [
           {
            "marker": {
             "line": {
              "color": "#E5ECF6",
              "width": 0.5
             }
            },
            "type": "bar"
           }
          ],
          "barpolar": [
           {
            "marker": {
             "line": {
              "color": "#E5ECF6",
              "width": 0.5
             }
            },
            "type": "barpolar"
           }
          ],
          "carpet": [
           {
            "aaxis": {
             "endlinecolor": "#2a3f5f",
             "gridcolor": "white",
             "linecolor": "white",
             "minorgridcolor": "white",
             "startlinecolor": "#2a3f5f"
            },
            "baxis": {
             "endlinecolor": "#2a3f5f",
             "gridcolor": "white",
             "linecolor": "white",
             "minorgridcolor": "white",
             "startlinecolor": "#2a3f5f"
            },
            "type": "carpet"
           }
          ],
          "choropleth": [
           {
            "colorbar": {
             "outlinewidth": 0,
             "ticks": ""
            },
            "type": "choropleth"
           }
          ],
          "contour": [
           {
            "autocolorscale": true,
            "colorbar": {
             "outlinewidth": 0,
             "ticks": ""
            },
            "type": "contour"
           }
          ],
          "contourcarpet": [
           {
            "colorbar": {
             "outlinewidth": 0,
             "ticks": ""
            },
            "type": "contourcarpet"
           }
          ],
          "heatmap": [
           {
            "autocolorscale": true,
            "colorbar": {
             "outlinewidth": 0,
             "ticks": ""
            },
            "type": "heatmap"
           }
          ],
          "heatmapgl": [
           {
            "colorbar": {
             "outlinewidth": 0,
             "ticks": ""
            },
            "type": "heatmapgl"
           }
          ],
          "histogram": [
           {
            "marker": {
             "colorbar": {
              "outlinewidth": 0,
              "ticks": ""
             }
            },
            "type": "histogram"
           }
          ],
          "histogram2d": [
           {
            "autocolorscale": true,
            "colorbar": {
             "outlinewidth": 0,
             "ticks": ""
            },
            "type": "histogram2d"
           }
          ],
          "histogram2dcontour": [
           {
            "autocolorscale": true,
            "colorbar": {
             "outlinewidth": 0,
             "ticks": ""
            },
            "type": "histogram2dcontour"
           }
          ],
          "mesh3d": [
           {
            "colorbar": {
             "outlinewidth": 0,
             "ticks": ""
            },
            "type": "mesh3d"
           }
          ],
          "parcoords": [
           {
            "line": {
             "colorbar": {
              "outlinewidth": 0,
              "ticks": ""
             }
            },
            "type": "parcoords"
           }
          ],
          "scatter": [
           {
            "marker": {
             "colorbar": {
              "outlinewidth": 0,
              "ticks": ""
             }
            },
            "type": "scatter"
           }
          ],
          "scatter3d": [
           {
            "marker": {
             "colorbar": {
              "outlinewidth": 0,
              "ticks": ""
             }
            },
            "type": "scatter3d"
           }
          ],
          "scattercarpet": [
           {
            "marker": {
             "colorbar": {
              "outlinewidth": 0,
              "ticks": ""
             }
            },
            "type": "scattercarpet"
           }
          ],
          "scattergeo": [
           {
            "marker": {
             "colorbar": {
              "outlinewidth": 0,
              "ticks": ""
             }
            },
            "type": "scattergeo"
           }
          ],
          "scattergl": [
           {
            "marker": {
             "colorbar": {
              "outlinewidth": 0,
              "ticks": ""
             }
            },
            "type": "scattergl"
           }
          ],
          "scattermapbox": [
           {
            "marker": {
             "colorbar": {
              "outlinewidth": 0,
              "ticks": ""
             }
            },
            "type": "scattermapbox"
           }
          ],
          "scatterpolar": [
           {
            "marker": {
             "colorbar": {
              "outlinewidth": 0,
              "ticks": ""
             }
            },
            "type": "scatterpolar"
           }
          ],
          "scatterpolargl": [
           {
            "marker": {
             "colorbar": {
              "outlinewidth": 0,
              "ticks": ""
             }
            },
            "type": "scatterpolargl"
           }
          ],
          "scatterternary": [
           {
            "marker": {
             "colorbar": {
              "outlinewidth": 0,
              "ticks": ""
             }
            },
            "type": "scatterternary"
           }
          ],
          "surface": [
           {
            "colorbar": {
             "outlinewidth": 0,
             "ticks": ""
            },
            "type": "surface"
           }
          ],
          "table": [
           {
            "cells": {
             "fill": {
              "color": "#EBF0F8"
             },
             "line": {
              "color": "white"
             }
            },
            "header": {
             "fill": {
              "color": "#C8D4E3"
             },
             "line": {
              "color": "white"
             }
            },
            "type": "table"
           }
          ]
         },
         "layout": {
          "annotationdefaults": {
           "arrowcolor": "#506784",
           "arrowhead": 0,
           "arrowwidth": 1
          },
          "colorscale": {
           "diverging": [
            [
             0,
             "#8e0152"
            ],
            [
             0.1,
             "#c51b7d"
            ],
            [
             0.2,
             "#de77ae"
            ],
            [
             0.3,
             "#f1b6da"
            ],
            [
             0.4,
             "#fde0ef"
            ],
            [
             0.5,
             "#f7f7f7"
            ],
            [
             0.6,
             "#e6f5d0"
            ],
            [
             0.7,
             "#b8e186"
            ],
            [
             0.8,
             "#7fbc41"
            ],
            [
             0.9,
             "#4d9221"
            ],
            [
             1,
             "#276419"
            ]
           ],
           "sequential": [
            [
             0,
             "#0508b8"
            ],
            [
             0.0893854748603352,
             "#1910d8"
            ],
            [
             0.1787709497206704,
             "#3c19f0"
            ],
            [
             0.2681564245810056,
             "#6b1cfb"
            ],
            [
             0.3575418994413408,
             "#981cfd"
            ],
            [
             0.44692737430167595,
             "#bf1cfd"
            ],
            [
             0.5363128491620112,
             "#dd2bfd"
            ],
            [
             0.6256983240223464,
             "#f246fe"
            ],
            [
             0.7150837988826816,
             "#fc67fd"
            ],
            [
             0.8044692737430168,
             "#fe88fc"
            ],
            [
             0.8938547486033519,
             "#fea5fd"
            ],
            [
             0.9832402234636871,
             "#febefe"
            ],
            [
             1,
             "#fec3fe"
            ]
           ],
           "sequentialminus": [
            [
             0,
             "#0508b8"
            ],
            [
             0.0893854748603352,
             "#1910d8"
            ],
            [
             0.1787709497206704,
             "#3c19f0"
            ],
            [
             0.2681564245810056,
             "#6b1cfb"
            ],
            [
             0.3575418994413408,
             "#981cfd"
            ],
            [
             0.44692737430167595,
             "#bf1cfd"
            ],
            [
             0.5363128491620112,
             "#dd2bfd"
            ],
            [
             0.6256983240223464,
             "#f246fe"
            ],
            [
             0.7150837988826816,
             "#fc67fd"
            ],
            [
             0.8044692737430168,
             "#fe88fc"
            ],
            [
             0.8938547486033519,
             "#fea5fd"
            ],
            [
             0.9832402234636871,
             "#febefe"
            ],
            [
             1,
             "#fec3fe"
            ]
           ]
          },
          "colorway": [
           "#636efa",
           "#EF553B",
           "#00cc96",
           "#ab63fa",
           "#19d3f3",
           "#e763fa",
           "#FECB52",
           "#FFA15A",
           "#FF6692",
           "#B6E880"
          ],
          "font": {
           "color": "#2a3f5f"
          },
          "geo": {
           "bgcolor": "white",
           "lakecolor": "white",
           "landcolor": "#E5ECF6",
           "showlakes": true,
           "showland": true,
           "subunitcolor": "white"
          },
          "hovermode": "closest",
          "mapbox": {
           "style": "light"
          },
          "paper_bgcolor": "white",
          "plot_bgcolor": "#E5ECF6",
          "polar": {
           "angularaxis": {
            "gridcolor": "white",
            "linecolor": "white",
            "ticks": ""
           },
           "bgcolor": "#E5ECF6",
           "radialaxis": {
            "gridcolor": "white",
            "linecolor": "white",
            "ticks": ""
           }
          },
          "scene": {
           "xaxis": {
            "backgroundcolor": "#E5ECF6",
            "gridcolor": "white",
            "gridwidth": 2,
            "linecolor": "white",
            "showbackground": true,
            "ticks": "",
            "zerolinecolor": "white"
           },
           "yaxis": {
            "backgroundcolor": "#E5ECF6",
            "gridcolor": "white",
            "gridwidth": 2,
            "linecolor": "white",
            "showbackground": true,
            "ticks": "",
            "zerolinecolor": "white"
           },
           "zaxis": {
            "backgroundcolor": "#E5ECF6",
            "gridcolor": "white",
            "gridwidth": 2,
            "linecolor": "white",
            "showbackground": true,
            "ticks": "",
            "zerolinecolor": "white"
           }
          },
          "shapedefaults": {
           "fillcolor": "#506784",
           "line": {
            "width": 0
           },
           "opacity": 0.4
          },
          "ternary": {
           "aaxis": {
            "gridcolor": "white",
            "linecolor": "white",
            "ticks": ""
           },
           "baxis": {
            "gridcolor": "white",
            "linecolor": "white",
            "ticks": ""
           },
           "bgcolor": "#E5ECF6",
           "caxis": {
            "gridcolor": "white",
            "linecolor": "white",
            "ticks": ""
           }
          },
          "title": {
           "x": 0.05
          },
          "xaxis": {
           "automargin": true,
           "gridcolor": "white",
           "linecolor": "white",
           "ticks": "",
           "zerolinecolor": "white",
           "zerolinewidth": 2
          },
          "yaxis": {
           "automargin": true,
           "gridcolor": "white",
           "linecolor": "white",
           "ticks": "",
           "zerolinecolor": "white",
           "zerolinewidth": 2
          }
         }
        },
        "updatemenus": [
         {
          "buttons": [
           {
            "args": [
             null,
             {
              "frame": {
               "duration": 500,
               "redraw": true
              },
              "fromcurrent": true,
              "mode": "immediate",
              "transition": {
               "duration": 500,
               "easing": "linear"
              }
             }
            ],
            "label": "&#9654;",
            "method": "animate"
           },
           {
            "args": [
             [
              null
             ],
             {
              "frame": {
               "duration": 0,
               "redraw": true
              },
              "fromcurrent": true,
              "mode": "immediate",
              "transition": {
               "duration": 0,
               "easing": "linear"
              }
             }
            ],
            "label": "&#9724;",
            "method": "animate"
           }
          ],
          "direction": "left",
          "pad": {
           "r": 10,
           "t": 70
          },
          "showactive": false,
          "type": "buttons",
          "x": 0.1,
          "xanchor": "right",
          "y": 0,
          "yanchor": "top"
         }
        ],
        "xaxis": {
         "title": {
          "text": "ctp_bin_labels"
         }
        },
        "yaxis": {
         "range": [
          0,
          0.4
         ],
         "title": {
          "text": "ctp_bin_prob"
         }
        }
       }
      },
      "text/html": [
       "<div id=\"521a51dc-ac7c-42bf-b421-7c44e07a4f1e\" style=\"height: 600px; width: 100%;\" class=\"plotly-graph-div\"></div><script type=\"text/javascript\">require([\"plotly\"], function(Plotly) { window.PLOTLYENV=window.PLOTLYENV || {};window.PLOTLYENV.BASE_URL=\"https://plot.ly\";\n",
       "    if (document.getElementById(\"521a51dc-ac7c-42bf-b421-7c44e07a4f1e\")) {\n",
       "        Plotly.plot(\n",
       "            '521a51dc-ac7c-42bf-b421-7c44e07a4f1e',\n",
       "            [{\"alignmentgroup\": \"True\", \"hovertemplate\": \"sim_index=0.0<br>ctp_bin_labels=%{x}<br>ctp_bin_prob=%{y}<extra></extra>\", \"legendgroup\": \"\", \"marker\": {\"color\": \"#636efa\"}, \"name\": \"\", \"offsetgroup\": \"\", \"orientation\": \"v\", \"showlegend\": false, \"textposition\": \"auto\", \"x\": [0.8105263157894737, 0.8263157894736842, 0.8421052631578947, 0.8578947368421053, 0.8736842105263158, 0.8894736842105263, 0.9052631578947369, 0.9210526315789473], \"xaxis\": \"x\", \"y\": [0.1, 0.05, 0.1, 0.1, 0.15, 0.1, 0.35, 0.05], \"yaxis\": \"y\", \"type\": \"bar\", \"uid\": \"ecc46ee0-4c71-4d47-bc9c-5d1de25e0047\"}],\n",
       "            {\"barmode\": \"relative\", \"height\": 600, \"legend\": {\"tracegroupgap\": 0}, \"margin\": {\"t\": 60}, \"template\": {\"data\": {\"barpolar\": [{\"marker\": {\"line\": {\"color\": \"#E5ECF6\", \"width\": 0.5}}, \"type\": \"barpolar\"}], \"bar\": [{\"marker\": {\"line\": {\"color\": \"#E5ECF6\", \"width\": 0.5}}, \"type\": \"bar\"}], \"carpet\": [{\"aaxis\": {\"endlinecolor\": \"#2a3f5f\", \"gridcolor\": \"white\", \"linecolor\": \"white\", \"minorgridcolor\": \"white\", \"startlinecolor\": \"#2a3f5f\"}, \"baxis\": {\"endlinecolor\": \"#2a3f5f\", \"gridcolor\": \"white\", \"linecolor\": \"white\", \"minorgridcolor\": \"white\", \"startlinecolor\": \"#2a3f5f\"}, \"type\": \"carpet\"}], \"choropleth\": [{\"colorbar\": {\"outlinewidth\": 0, \"ticks\": \"\"}, \"type\": \"choropleth\"}], \"contourcarpet\": [{\"colorbar\": {\"outlinewidth\": 0, \"ticks\": \"\"}, \"type\": \"contourcarpet\"}], \"contour\": [{\"autocolorscale\": true, \"colorbar\": {\"outlinewidth\": 0, \"ticks\": \"\"}, \"type\": \"contour\"}], \"heatmapgl\": [{\"colorbar\": {\"outlinewidth\": 0, \"ticks\": \"\"}, \"type\": \"heatmapgl\"}], \"heatmap\": [{\"autocolorscale\": true, \"colorbar\": {\"outlinewidth\": 0, \"ticks\": \"\"}, \"type\": \"heatmap\"}], \"histogram2dcontour\": [{\"autocolorscale\": true, \"colorbar\": {\"outlinewidth\": 0, \"ticks\": \"\"}, \"type\": \"histogram2dcontour\"}], \"histogram2d\": [{\"autocolorscale\": true, \"colorbar\": {\"outlinewidth\": 0, \"ticks\": \"\"}, \"type\": \"histogram2d\"}], \"histogram\": [{\"marker\": {\"colorbar\": {\"outlinewidth\": 0, \"ticks\": \"\"}}, \"type\": \"histogram\"}], \"mesh3d\": [{\"colorbar\": {\"outlinewidth\": 0, \"ticks\": \"\"}, \"type\": \"mesh3d\"}], \"parcoords\": [{\"line\": {\"colorbar\": {\"outlinewidth\": 0, \"ticks\": \"\"}}, \"type\": \"parcoords\"}], \"scatter3d\": [{\"marker\": {\"colorbar\": {\"outlinewidth\": 0, \"ticks\": \"\"}}, \"type\": \"scatter3d\"}], \"scattercarpet\": [{\"marker\": {\"colorbar\": {\"outlinewidth\": 0, \"ticks\": \"\"}}, \"type\": \"scattercarpet\"}], \"scattergeo\": [{\"marker\": {\"colorbar\": {\"outlinewidth\": 0, \"ticks\": \"\"}}, \"type\": \"scattergeo\"}], \"scattergl\": [{\"marker\": {\"colorbar\": {\"outlinewidth\": 0, \"ticks\": \"\"}}, \"type\": \"scattergl\"}], \"scattermapbox\": [{\"marker\": {\"colorbar\": {\"outlinewidth\": 0, \"ticks\": \"\"}}, \"type\": \"scattermapbox\"}], \"scatterpolargl\": [{\"marker\": {\"colorbar\": {\"outlinewidth\": 0, \"ticks\": \"\"}}, \"type\": \"scatterpolargl\"}], \"scatterpolar\": [{\"marker\": {\"colorbar\": {\"outlinewidth\": 0, \"ticks\": \"\"}}, \"type\": \"scatterpolar\"}], \"scatter\": [{\"marker\": {\"colorbar\": {\"outlinewidth\": 0, \"ticks\": \"\"}}, \"type\": \"scatter\"}], \"scatterternary\": [{\"marker\": {\"colorbar\": {\"outlinewidth\": 0, \"ticks\": \"\"}}, \"type\": \"scatterternary\"}], \"surface\": [{\"colorbar\": {\"outlinewidth\": 0, \"ticks\": \"\"}, \"type\": \"surface\"}], \"table\": [{\"cells\": {\"fill\": {\"color\": \"#EBF0F8\"}, \"line\": {\"color\": \"white\"}}, \"header\": {\"fill\": {\"color\": \"#C8D4E3\"}, \"line\": {\"color\": \"white\"}}, \"type\": \"table\"}]}, \"layout\": {\"annotationdefaults\": {\"arrowcolor\": \"#506784\", \"arrowhead\": 0, \"arrowwidth\": 1}, \"colorscale\": {\"diverging\": [[0, \"#8e0152\"], [0.1, \"#c51b7d\"], [0.2, \"#de77ae\"], [0.3, \"#f1b6da\"], [0.4, \"#fde0ef\"], [0.5, \"#f7f7f7\"], [0.6, \"#e6f5d0\"], [0.7, \"#b8e186\"], [0.8, \"#7fbc41\"], [0.9, \"#4d9221\"], [1, \"#276419\"]], \"sequential\": [[0.0, \"#0508b8\"], [0.0893854748603352, \"#1910d8\"], [0.1787709497206704, \"#3c19f0\"], [0.2681564245810056, \"#6b1cfb\"], [0.3575418994413408, \"#981cfd\"], [0.44692737430167595, \"#bf1cfd\"], [0.5363128491620112, \"#dd2bfd\"], [0.6256983240223464, \"#f246fe\"], [0.7150837988826816, \"#fc67fd\"], [0.8044692737430168, \"#fe88fc\"], [0.8938547486033519, \"#fea5fd\"], [0.9832402234636871, \"#febefe\"], [1.0, \"#fec3fe\"]], \"sequentialminus\": [[0.0, \"#0508b8\"], [0.0893854748603352, \"#1910d8\"], [0.1787709497206704, \"#3c19f0\"], [0.2681564245810056, \"#6b1cfb\"], [0.3575418994413408, \"#981cfd\"], [0.44692737430167595, \"#bf1cfd\"], [0.5363128491620112, \"#dd2bfd\"], [0.6256983240223464, \"#f246fe\"], [0.7150837988826816, \"#fc67fd\"], [0.8044692737430168, \"#fe88fc\"], [0.8938547486033519, \"#fea5fd\"], [0.9832402234636871, \"#febefe\"], [1.0, \"#fec3fe\"]]}, \"colorway\": [\"#636efa\", \"#EF553B\", \"#00cc96\", \"#ab63fa\", \"#19d3f3\", \"#e763fa\", \"#FECB52\", \"#FFA15A\", \"#FF6692\", \"#B6E880\"], \"font\": {\"color\": \"#2a3f5f\"}, \"geo\": {\"bgcolor\": \"white\", \"lakecolor\": \"white\", \"landcolor\": \"#E5ECF6\", \"showlakes\": true, \"showland\": true, \"subunitcolor\": \"white\"}, \"hovermode\": \"closest\", \"mapbox\": {\"style\": \"light\"}, \"paper_bgcolor\": \"white\", \"plot_bgcolor\": \"#E5ECF6\", \"polar\": {\"angularaxis\": {\"gridcolor\": \"white\", \"linecolor\": \"white\", \"ticks\": \"\"}, \"bgcolor\": \"#E5ECF6\", \"radialaxis\": {\"gridcolor\": \"white\", \"linecolor\": \"white\", \"ticks\": \"\"}}, \"scene\": {\"xaxis\": {\"backgroundcolor\": \"#E5ECF6\", \"gridcolor\": \"white\", \"gridwidth\": 2, \"linecolor\": \"white\", \"showbackground\": true, \"ticks\": \"\", \"zerolinecolor\": \"white\"}, \"yaxis\": {\"backgroundcolor\": \"#E5ECF6\", \"gridcolor\": \"white\", \"gridwidth\": 2, \"linecolor\": \"white\", \"showbackground\": true, \"ticks\": \"\", \"zerolinecolor\": \"white\"}, \"zaxis\": {\"backgroundcolor\": \"#E5ECF6\", \"gridcolor\": \"white\", \"gridwidth\": 2, \"linecolor\": \"white\", \"showbackground\": true, \"ticks\": \"\", \"zerolinecolor\": \"white\"}}, \"shapedefaults\": {\"fillcolor\": \"#506784\", \"line\": {\"width\": 0}, \"opacity\": 0.4}, \"ternary\": {\"aaxis\": {\"gridcolor\": \"white\", \"linecolor\": \"white\", \"ticks\": \"\"}, \"baxis\": {\"gridcolor\": \"white\", \"linecolor\": \"white\", \"ticks\": \"\"}, \"bgcolor\": \"#E5ECF6\", \"caxis\": {\"gridcolor\": \"white\", \"linecolor\": \"white\", \"ticks\": \"\"}}, \"title\": {\"x\": 0.05}, \"xaxis\": {\"automargin\": true, \"gridcolor\": \"white\", \"linecolor\": \"white\", \"ticks\": \"\", \"zerolinecolor\": \"white\", \"zerolinewidth\": 2}, \"yaxis\": {\"automargin\": true, \"gridcolor\": \"white\", \"linecolor\": \"white\", \"ticks\": \"\", \"zerolinecolor\": \"white\", \"zerolinewidth\": 2}}}, \"grid\": {\"xaxes\": [\"x\"], \"yaxes\": [\"y\"], \"xgap\": 0.1, \"ygap\": 0.1, \"xside\": \"bottom\", \"yside\": \"left\"}, \"yaxis\": {\"title\": {\"text\": \"ctp_bin_prob\"}, \"range\": [0, 0.4]}, \"xaxis\": {\"title\": {\"text\": \"ctp_bin_labels\"}}, \"updatemenus\": [{\"buttons\": [{\"args\": [null, {\"frame\": {\"duration\": 500, \"redraw\": true}, \"mode\": \"immediate\", \"fromcurrent\": true, \"transition\": {\"duration\": 500, \"easing\": \"linear\"}}], \"label\": \"&#9654;\", \"method\": \"animate\"}, {\"args\": [[null], {\"frame\": {\"duration\": 0, \"redraw\": true}, \"mode\": \"immediate\", \"fromcurrent\": true, \"transition\": {\"duration\": 0, \"easing\": \"linear\"}}], \"label\": \"&#9724;\", \"method\": \"animate\"}], \"direction\": \"left\", \"pad\": {\"r\": 10, \"t\": 70}, \"showactive\": false, \"type\": \"buttons\", \"x\": 0.1, \"xanchor\": \"right\", \"y\": 0, \"yanchor\": \"top\"}], \"sliders\": [{\"active\": 0, \"currentvalue\": {\"prefix\": \"sim_index=\"}, \"len\": 0.9, \"pad\": {\"b\": 10, \"t\": 60}, \"steps\": [{\"args\": [[\"0.0\"], {\"frame\": {\"duration\": 0, \"redraw\": true}, \"mode\": \"immediate\", \"fromcurrent\": true, \"transition\": {\"duration\": 0, \"easing\": \"linear\"}}], \"label\": \"0.0\", \"method\": \"animate\"}, {\"args\": [[\"1.0\"], {\"frame\": {\"duration\": 0, \"redraw\": true}, \"mode\": \"immediate\", \"fromcurrent\": true, \"transition\": {\"duration\": 0, \"easing\": \"linear\"}}], \"label\": \"1.0\", \"method\": \"animate\"}, {\"args\": [[\"2.0\"], {\"frame\": {\"duration\": 0, \"redraw\": true}, \"mode\": \"immediate\", \"fromcurrent\": true, \"transition\": {\"duration\": 0, \"easing\": \"linear\"}}], \"label\": \"2.0\", \"method\": \"animate\"}, {\"args\": [[\"3.0\"], {\"frame\": {\"duration\": 0, \"redraw\": true}, \"mode\": \"immediate\", \"fromcurrent\": true, \"transition\": {\"duration\": 0, \"easing\": \"linear\"}}], \"label\": \"3.0\", \"method\": \"animate\"}, {\"args\": [[\"4.0\"], {\"frame\": {\"duration\": 0, \"redraw\": true}, \"mode\": \"immediate\", \"fromcurrent\": true, \"transition\": {\"duration\": 0, \"easing\": \"linear\"}}], \"label\": \"4.0\", \"method\": \"animate\"}, {\"args\": [[\"5.0\"], {\"frame\": {\"duration\": 0, \"redraw\": true}, \"mode\": \"immediate\", \"fromcurrent\": true, \"transition\": {\"duration\": 0, \"easing\": \"linear\"}}], \"label\": \"5.0\", \"method\": \"animate\"}, {\"args\": [[\"6.0\"], {\"frame\": {\"duration\": 0, \"redraw\": true}, \"mode\": \"immediate\", \"fromcurrent\": true, \"transition\": {\"duration\": 0, \"easing\": \"linear\"}}], \"label\": \"6.0\", \"method\": \"animate\"}, {\"args\": [[\"7.0\"], {\"frame\": {\"duration\": 0, \"redraw\": true}, \"mode\": \"immediate\", \"fromcurrent\": true, \"transition\": {\"duration\": 0, \"easing\": \"linear\"}}], \"label\": \"7.0\", \"method\": \"animate\"}], \"x\": 0.1, \"xanchor\": \"left\", \"y\": 0, \"yanchor\": \"top\"}]},\n",
       "            {\"showLink\": false, \"linkText\": \"Export to plot.ly\", \"plotlyServerURL\": \"https://plot.ly\"}\n",
       "        ).then(function () {return Plotly.addFrames('521a51dc-ac7c-42bf-b421-7c44e07a4f1e',[{\"data\": [{\"alignmentgroup\": \"True\", \"hovertemplate\": \"sim_index=0.0<br>ctp_bin_labels=%{x}<br>ctp_bin_prob=%{y}<extra></extra>\", \"legendgroup\": \"\", \"marker\": {\"color\": \"#636efa\"}, \"name\": \"\", \"offsetgroup\": \"\", \"orientation\": \"v\", \"showlegend\": false, \"textposition\": \"auto\", \"x\": [0.8105263157894737, 0.8263157894736842, 0.8421052631578947, 0.8578947368421053, 0.8736842105263158, 0.8894736842105263, 0.9052631578947369, 0.9210526315789473], \"xaxis\": \"x\", \"y\": [0.1, 0.05, 0.1, 0.1, 0.15, 0.1, 0.35, 0.05], \"yaxis\": \"y\", \"type\": \"bar\"}], \"name\": \"0.0\"}, {\"data\": [{\"alignmentgroup\": \"True\", \"hovertemplate\": \"sim_index=1.0<br>ctp_bin_labels=%{x}<br>ctp_bin_prob=%{y}<extra></extra>\", \"legendgroup\": \"\", \"marker\": {\"color\": \"#636efa\"}, \"name\": \"\", \"offsetgroup\": \"\", \"orientation\": \"v\", \"showlegend\": false, \"textposition\": \"auto\", \"x\": [0.8263157894736842, 0.8421052631578947, 0.8578947368421053, 0.8736842105263158, 0.8894736842105263, 0.9052631578947369, 0.9210526315789473, 0.9526315789473685], \"xaxis\": \"x\", \"y\": [0.06, 0.18, 0.1, 0.26, 0.16, 0.18, 0.04, 0.02], \"yaxis\": \"y\", \"type\": \"bar\"}], \"name\": \"1.0\"}, {\"data\": [{\"alignmentgroup\": \"True\", \"hovertemplate\": \"sim_index=2.0<br>ctp_bin_labels=%{x}<br>ctp_bin_prob=%{y}<extra></extra>\", \"legendgroup\": \"\", \"marker\": {\"color\": \"#636efa\"}, \"name\": \"\", \"offsetgroup\": \"\", \"orientation\": \"v\", \"showlegend\": false, \"textposition\": \"auto\", \"x\": [0.8105263157894737, 0.8263157894736842, 0.8421052631578947, 0.8578947368421053, 0.8736842105263158, 0.8894736842105263, 0.9052631578947369, 0.9210526315789473, 0.9368421052631579, 0.9526315789473685], \"xaxis\": \"x\", \"y\": [0.03, 0.07, 0.09, 0.15, 0.2, 0.15, 0.22, 0.07, 0.01, 0.01], \"yaxis\": \"y\", \"type\": \"bar\"}], \"name\": \"2.0\"}, {\"data\": [{\"alignmentgroup\": \"True\", \"hovertemplate\": \"sim_index=3.0<br>ctp_bin_labels=%{x}<br>ctp_bin_prob=%{y}<extra></extra>\", \"legendgroup\": \"\", \"marker\": {\"color\": \"#636efa\"}, \"name\": \"\", \"offsetgroup\": \"\", \"orientation\": \"v\", \"showlegend\": false, \"textposition\": \"auto\", \"x\": [0.7789473684210526, 0.8105263157894737, 0.8263157894736842, 0.8421052631578947, 0.8578947368421053, 0.8736842105263158, 0.8894736842105263, 0.9052631578947369, 0.9210526315789473, 0.9368421052631579, 0.9526315789473685], \"xaxis\": \"x\", \"y\": [0.012, 0.032, 0.032, 0.156, 0.096, 0.292, 0.144, 0.164, 0.064, 0.004, 0.004], \"yaxis\": \"y\", \"type\": \"bar\"}], \"name\": \"3.0\"}, {\"data\": [{\"alignmentgroup\": \"True\", \"hovertemplate\": \"sim_index=4.0<br>ctp_bin_labels=%{x}<br>ctp_bin_prob=%{y}<extra></extra>\", \"legendgroup\": \"\", \"marker\": {\"color\": \"#636efa\"}, \"name\": \"\", \"offsetgroup\": \"\", \"orientation\": \"v\", \"showlegend\": false, \"textposition\": \"auto\", \"x\": [0.763157894736842, 0.7947368421052632, 0.8105263157894737, 0.8263157894736842, 0.8421052631578947, 0.8578947368421053, 0.8736842105263158, 0.8894736842105263, 0.9052631578947369, 0.9210526315789473, 0.9368421052631579, 0.9526315789473685], \"xaxis\": \"x\", \"y\": [0.002, 0.006, 0.018, 0.036, 0.148, 0.138, 0.274, 0.106, 0.164, 0.084, 0.02, 0.004], \"yaxis\": \"y\", \"type\": \"bar\"}], \"name\": \"4.0\"}, {\"data\": [{\"alignmentgroup\": \"True\", \"hovertemplate\": \"sim_index=5.0<br>ctp_bin_labels=%{x}<br>ctp_bin_prob=%{y}<extra></extra>\", \"legendgroup\": \"\", \"marker\": {\"color\": \"#636efa\"}, \"name\": \"\", \"offsetgroup\": \"\", \"orientation\": \"v\", \"showlegend\": false, \"textposition\": \"auto\", \"x\": [0.7947368421052632, 0.8105263157894737, 0.8263157894736842, 0.8421052631578947, 0.8578947368421053, 0.8736842105263158, 0.8894736842105263, 0.9052631578947369, 0.9210526315789473, 0.9368421052631579, 0.9526315789473685], \"xaxis\": \"x\", \"y\": [0.008, 0.025, 0.042, 0.139, 0.135, 0.294, 0.118, 0.166, 0.061, 0.009, 0.003], \"yaxis\": \"y\", \"type\": \"bar\"}], \"name\": \"5.0\"}, {\"data\": [{\"alignmentgroup\": \"True\", \"hovertemplate\": \"sim_index=6.0<br>ctp_bin_labels=%{x}<br>ctp_bin_prob=%{y}<extra></extra>\", \"legendgroup\": \"\", \"marker\": {\"color\": \"#636efa\"}, \"name\": \"\", \"offsetgroup\": \"\", \"orientation\": \"v\", \"showlegend\": false, \"textposition\": \"auto\", \"x\": [0.7789473684210526, 0.7947368421052632, 0.8105263157894737, 0.8263157894736842, 0.8421052631578947, 0.8578947368421053, 0.8736842105263158, 0.8894736842105263, 0.9052631578947369, 0.9210526315789473, 0.9368421052631579, 0.9526315789473685], \"xaxis\": \"x\", \"y\": [0.0005, 0.0075, 0.0265, 0.037, 0.1425, 0.118, 0.295, 0.13, 0.1695, 0.061, 0.008, 0.0045], \"yaxis\": \"y\", \"type\": \"bar\"}], \"name\": \"6.0\"}, {\"data\": [{\"alignmentgroup\": \"True\", \"hovertemplate\": \"sim_index=7.0<br>ctp_bin_labels=%{x}<br>ctp_bin_prob=%{y}<extra></extra>\", \"legendgroup\": \"\", \"marker\": {\"color\": \"#636efa\"}, \"name\": \"\", \"offsetgroup\": \"\", \"orientation\": \"v\", \"showlegend\": false, \"textposition\": \"auto\", \"x\": [0.763157894736842, 0.7789473684210526, 0.7947368421052632, 0.8105263157894737, 0.8263157894736842, 0.8421052631578947, 0.8578947368421053, 0.8736842105263158, 0.8894736842105263, 0.9052631578947369, 0.9210526315789473, 0.9368421052631579, 0.9526315789473685], \"xaxis\": \"x\", \"y\": [0.0006666666666666666, 0.0006666666666666666, 0.008666666666666666, 0.029, 0.036, 0.14633333333333334, 0.12533333333333332, 0.2763333333333333, 0.132, 0.177, 0.05333333333333334, 0.010333333333333333, 0.004333333333333333], \"yaxis\": \"y\", \"type\": \"bar\"}], \"name\": \"7.0\"}]);})\n",
       "    }\n",
       "        });</script><script type=\"text/javascript\">window.addEventListener(\"resize\", function(){if (document.getElementById(\"521a51dc-ac7c-42bf-b421-7c44e07a4f1e\")) {window._Plotly.Plots.resize(document.getElementById(\"521a51dc-ac7c-42bf-b421-7c44e07a4f1e\"));};})</script>"
      ],
      "text/vnd.plotly.v1+html": [
       "<div id=\"521a51dc-ac7c-42bf-b421-7c44e07a4f1e\" style=\"height: 600px; width: 100%;\" class=\"plotly-graph-div\"></div><script type=\"text/javascript\">require([\"plotly\"], function(Plotly) { window.PLOTLYENV=window.PLOTLYENV || {};window.PLOTLYENV.BASE_URL=\"https://plot.ly\";\n",
       "    if (document.getElementById(\"521a51dc-ac7c-42bf-b421-7c44e07a4f1e\")) {\n",
       "        Plotly.plot(\n",
       "            '521a51dc-ac7c-42bf-b421-7c44e07a4f1e',\n",
       "            [{\"alignmentgroup\": \"True\", \"hovertemplate\": \"sim_index=0.0<br>ctp_bin_labels=%{x}<br>ctp_bin_prob=%{y}<extra></extra>\", \"legendgroup\": \"\", \"marker\": {\"color\": \"#636efa\"}, \"name\": \"\", \"offsetgroup\": \"\", \"orientation\": \"v\", \"showlegend\": false, \"textposition\": \"auto\", \"x\": [0.8105263157894737, 0.8263157894736842, 0.8421052631578947, 0.8578947368421053, 0.8736842105263158, 0.8894736842105263, 0.9052631578947369, 0.9210526315789473], \"xaxis\": \"x\", \"y\": [0.1, 0.05, 0.1, 0.1, 0.15, 0.1, 0.35, 0.05], \"yaxis\": \"y\", \"type\": \"bar\", \"uid\": \"ecc46ee0-4c71-4d47-bc9c-5d1de25e0047\"}],\n",
       "            {\"barmode\": \"relative\", \"height\": 600, \"legend\": {\"tracegroupgap\": 0}, \"margin\": {\"t\": 60}, \"template\": {\"data\": {\"barpolar\": [{\"marker\": {\"line\": {\"color\": \"#E5ECF6\", \"width\": 0.5}}, \"type\": \"barpolar\"}], \"bar\": [{\"marker\": {\"line\": {\"color\": \"#E5ECF6\", \"width\": 0.5}}, \"type\": \"bar\"}], \"carpet\": [{\"aaxis\": {\"endlinecolor\": \"#2a3f5f\", \"gridcolor\": \"white\", \"linecolor\": \"white\", \"minorgridcolor\": \"white\", \"startlinecolor\": \"#2a3f5f\"}, \"baxis\": {\"endlinecolor\": \"#2a3f5f\", \"gridcolor\": \"white\", \"linecolor\": \"white\", \"minorgridcolor\": \"white\", \"startlinecolor\": \"#2a3f5f\"}, \"type\": \"carpet\"}], \"choropleth\": [{\"colorbar\": {\"outlinewidth\": 0, \"ticks\": \"\"}, \"type\": \"choropleth\"}], \"contourcarpet\": [{\"colorbar\": {\"outlinewidth\": 0, \"ticks\": \"\"}, \"type\": \"contourcarpet\"}], \"contour\": [{\"autocolorscale\": true, \"colorbar\": {\"outlinewidth\": 0, \"ticks\": \"\"}, \"type\": \"contour\"}], \"heatmapgl\": [{\"colorbar\": {\"outlinewidth\": 0, \"ticks\": \"\"}, \"type\": \"heatmapgl\"}], \"heatmap\": [{\"autocolorscale\": true, \"colorbar\": {\"outlinewidth\": 0, \"ticks\": \"\"}, \"type\": \"heatmap\"}], \"histogram2dcontour\": [{\"autocolorscale\": true, \"colorbar\": {\"outlinewidth\": 0, \"ticks\": \"\"}, \"type\": \"histogram2dcontour\"}], \"histogram2d\": [{\"autocolorscale\": true, \"colorbar\": {\"outlinewidth\": 0, \"ticks\": \"\"}, \"type\": \"histogram2d\"}], \"histogram\": [{\"marker\": {\"colorbar\": {\"outlinewidth\": 0, \"ticks\": \"\"}}, \"type\": \"histogram\"}], \"mesh3d\": [{\"colorbar\": {\"outlinewidth\": 0, \"ticks\": \"\"}, \"type\": \"mesh3d\"}], \"parcoords\": [{\"line\": {\"colorbar\": {\"outlinewidth\": 0, \"ticks\": \"\"}}, \"type\": \"parcoords\"}], \"scatter3d\": [{\"marker\": {\"colorbar\": {\"outlinewidth\": 0, \"ticks\": \"\"}}, \"type\": \"scatter3d\"}], \"scattercarpet\": [{\"marker\": {\"colorbar\": {\"outlinewidth\": 0, \"ticks\": \"\"}}, \"type\": \"scattercarpet\"}], \"scattergeo\": [{\"marker\": {\"colorbar\": {\"outlinewidth\": 0, \"ticks\": \"\"}}, \"type\": \"scattergeo\"}], \"scattergl\": [{\"marker\": {\"colorbar\": {\"outlinewidth\": 0, \"ticks\": \"\"}}, \"type\": \"scattergl\"}], \"scattermapbox\": [{\"marker\": {\"colorbar\": {\"outlinewidth\": 0, \"ticks\": \"\"}}, \"type\": \"scattermapbox\"}], \"scatterpolargl\": [{\"marker\": {\"colorbar\": {\"outlinewidth\": 0, \"ticks\": \"\"}}, \"type\": \"scatterpolargl\"}], \"scatterpolar\": [{\"marker\": {\"colorbar\": {\"outlinewidth\": 0, \"ticks\": \"\"}}, \"type\": \"scatterpolar\"}], \"scatter\": [{\"marker\": {\"colorbar\": {\"outlinewidth\": 0, \"ticks\": \"\"}}, \"type\": \"scatter\"}], \"scatterternary\": [{\"marker\": {\"colorbar\": {\"outlinewidth\": 0, \"ticks\": \"\"}}, \"type\": \"scatterternary\"}], \"surface\": [{\"colorbar\": {\"outlinewidth\": 0, \"ticks\": \"\"}, \"type\": \"surface\"}], \"table\": [{\"cells\": {\"fill\": {\"color\": \"#EBF0F8\"}, \"line\": {\"color\": \"white\"}}, \"header\": {\"fill\": {\"color\": \"#C8D4E3\"}, \"line\": {\"color\": \"white\"}}, \"type\": \"table\"}]}, \"layout\": {\"annotationdefaults\": {\"arrowcolor\": \"#506784\", \"arrowhead\": 0, \"arrowwidth\": 1}, \"colorscale\": {\"diverging\": [[0, \"#8e0152\"], [0.1, \"#c51b7d\"], [0.2, \"#de77ae\"], [0.3, \"#f1b6da\"], [0.4, \"#fde0ef\"], [0.5, \"#f7f7f7\"], [0.6, \"#e6f5d0\"], [0.7, \"#b8e186\"], [0.8, \"#7fbc41\"], [0.9, \"#4d9221\"], [1, \"#276419\"]], \"sequential\": [[0.0, \"#0508b8\"], [0.0893854748603352, \"#1910d8\"], [0.1787709497206704, \"#3c19f0\"], [0.2681564245810056, \"#6b1cfb\"], [0.3575418994413408, \"#981cfd\"], [0.44692737430167595, \"#bf1cfd\"], [0.5363128491620112, \"#dd2bfd\"], [0.6256983240223464, \"#f246fe\"], [0.7150837988826816, \"#fc67fd\"], [0.8044692737430168, \"#fe88fc\"], [0.8938547486033519, \"#fea5fd\"], [0.9832402234636871, \"#febefe\"], [1.0, \"#fec3fe\"]], \"sequentialminus\": [[0.0, \"#0508b8\"], [0.0893854748603352, \"#1910d8\"], [0.1787709497206704, \"#3c19f0\"], [0.2681564245810056, \"#6b1cfb\"], [0.3575418994413408, \"#981cfd\"], [0.44692737430167595, \"#bf1cfd\"], [0.5363128491620112, \"#dd2bfd\"], [0.6256983240223464, \"#f246fe\"], [0.7150837988826816, \"#fc67fd\"], [0.8044692737430168, \"#fe88fc\"], [0.8938547486033519, \"#fea5fd\"], [0.9832402234636871, \"#febefe\"], [1.0, \"#fec3fe\"]]}, \"colorway\": [\"#636efa\", \"#EF553B\", \"#00cc96\", \"#ab63fa\", \"#19d3f3\", \"#e763fa\", \"#FECB52\", \"#FFA15A\", \"#FF6692\", \"#B6E880\"], \"font\": {\"color\": \"#2a3f5f\"}, \"geo\": {\"bgcolor\": \"white\", \"lakecolor\": \"white\", \"landcolor\": \"#E5ECF6\", \"showlakes\": true, \"showland\": true, \"subunitcolor\": \"white\"}, \"hovermode\": \"closest\", \"mapbox\": {\"style\": \"light\"}, \"paper_bgcolor\": \"white\", \"plot_bgcolor\": \"#E5ECF6\", \"polar\": {\"angularaxis\": {\"gridcolor\": \"white\", \"linecolor\": \"white\", \"ticks\": \"\"}, \"bgcolor\": \"#E5ECF6\", \"radialaxis\": {\"gridcolor\": \"white\", \"linecolor\": \"white\", \"ticks\": \"\"}}, \"scene\": {\"xaxis\": {\"backgroundcolor\": \"#E5ECF6\", \"gridcolor\": \"white\", \"gridwidth\": 2, \"linecolor\": \"white\", \"showbackground\": true, \"ticks\": \"\", \"zerolinecolor\": \"white\"}, \"yaxis\": {\"backgroundcolor\": \"#E5ECF6\", \"gridcolor\": \"white\", \"gridwidth\": 2, \"linecolor\": \"white\", \"showbackground\": true, \"ticks\": \"\", \"zerolinecolor\": \"white\"}, \"zaxis\": {\"backgroundcolor\": \"#E5ECF6\", \"gridcolor\": \"white\", \"gridwidth\": 2, \"linecolor\": \"white\", \"showbackground\": true, \"ticks\": \"\", \"zerolinecolor\": \"white\"}}, \"shapedefaults\": {\"fillcolor\": \"#506784\", \"line\": {\"width\": 0}, \"opacity\": 0.4}, \"ternary\": {\"aaxis\": {\"gridcolor\": \"white\", \"linecolor\": \"white\", \"ticks\": \"\"}, \"baxis\": {\"gridcolor\": \"white\", \"linecolor\": \"white\", \"ticks\": \"\"}, \"bgcolor\": \"#E5ECF6\", \"caxis\": {\"gridcolor\": \"white\", \"linecolor\": \"white\", \"ticks\": \"\"}}, \"title\": {\"x\": 0.05}, \"xaxis\": {\"automargin\": true, \"gridcolor\": \"white\", \"linecolor\": \"white\", \"ticks\": \"\", \"zerolinecolor\": \"white\", \"zerolinewidth\": 2}, \"yaxis\": {\"automargin\": true, \"gridcolor\": \"white\", \"linecolor\": \"white\", \"ticks\": \"\", \"zerolinecolor\": \"white\", \"zerolinewidth\": 2}}}, \"grid\": {\"xaxes\": [\"x\"], \"yaxes\": [\"y\"], \"xgap\": 0.1, \"ygap\": 0.1, \"xside\": \"bottom\", \"yside\": \"left\"}, \"yaxis\": {\"title\": {\"text\": \"ctp_bin_prob\"}, \"range\": [0, 0.4]}, \"xaxis\": {\"title\": {\"text\": \"ctp_bin_labels\"}}, \"updatemenus\": [{\"buttons\": [{\"args\": [null, {\"frame\": {\"duration\": 500, \"redraw\": true}, \"mode\": \"immediate\", \"fromcurrent\": true, \"transition\": {\"duration\": 500, \"easing\": \"linear\"}}], \"label\": \"&#9654;\", \"method\": \"animate\"}, {\"args\": [[null], {\"frame\": {\"duration\": 0, \"redraw\": true}, \"mode\": \"immediate\", \"fromcurrent\": true, \"transition\": {\"duration\": 0, \"easing\": \"linear\"}}], \"label\": \"&#9724;\", \"method\": \"animate\"}], \"direction\": \"left\", \"pad\": {\"r\": 10, \"t\": 70}, \"showactive\": false, \"type\": \"buttons\", \"x\": 0.1, \"xanchor\": \"right\", \"y\": 0, \"yanchor\": \"top\"}], \"sliders\": [{\"active\": 0, \"currentvalue\": {\"prefix\": \"sim_index=\"}, \"len\": 0.9, \"pad\": {\"b\": 10, \"t\": 60}, \"steps\": [{\"args\": [[\"0.0\"], {\"frame\": {\"duration\": 0, \"redraw\": true}, \"mode\": \"immediate\", \"fromcurrent\": true, \"transition\": {\"duration\": 0, \"easing\": \"linear\"}}], \"label\": \"0.0\", \"method\": \"animate\"}, {\"args\": [[\"1.0\"], {\"frame\": {\"duration\": 0, \"redraw\": true}, \"mode\": \"immediate\", \"fromcurrent\": true, \"transition\": {\"duration\": 0, \"easing\": \"linear\"}}], \"label\": \"1.0\", \"method\": \"animate\"}, {\"args\": [[\"2.0\"], {\"frame\": {\"duration\": 0, \"redraw\": true}, \"mode\": \"immediate\", \"fromcurrent\": true, \"transition\": {\"duration\": 0, \"easing\": \"linear\"}}], \"label\": \"2.0\", \"method\": \"animate\"}, {\"args\": [[\"3.0\"], {\"frame\": {\"duration\": 0, \"redraw\": true}, \"mode\": \"immediate\", \"fromcurrent\": true, \"transition\": {\"duration\": 0, \"easing\": \"linear\"}}], \"label\": \"3.0\", \"method\": \"animate\"}, {\"args\": [[\"4.0\"], {\"frame\": {\"duration\": 0, \"redraw\": true}, \"mode\": \"immediate\", \"fromcurrent\": true, \"transition\": {\"duration\": 0, \"easing\": \"linear\"}}], \"label\": \"4.0\", \"method\": \"animate\"}, {\"args\": [[\"5.0\"], {\"frame\": {\"duration\": 0, \"redraw\": true}, \"mode\": \"immediate\", \"fromcurrent\": true, \"transition\": {\"duration\": 0, \"easing\": \"linear\"}}], \"label\": \"5.0\", \"method\": \"animate\"}, {\"args\": [[\"6.0\"], {\"frame\": {\"duration\": 0, \"redraw\": true}, \"mode\": \"immediate\", \"fromcurrent\": true, \"transition\": {\"duration\": 0, \"easing\": \"linear\"}}], \"label\": \"6.0\", \"method\": \"animate\"}, {\"args\": [[\"7.0\"], {\"frame\": {\"duration\": 0, \"redraw\": true}, \"mode\": \"immediate\", \"fromcurrent\": true, \"transition\": {\"duration\": 0, \"easing\": \"linear\"}}], \"label\": \"7.0\", \"method\": \"animate\"}], \"x\": 0.1, \"xanchor\": \"left\", \"y\": 0, \"yanchor\": \"top\"}]},\n",
       "            {\"showLink\": false, \"linkText\": \"Export to plot.ly\", \"plotlyServerURL\": \"https://plot.ly\"}\n",
       "        ).then(function () {return Plotly.addFrames('521a51dc-ac7c-42bf-b421-7c44e07a4f1e',[{\"data\": [{\"alignmentgroup\": \"True\", \"hovertemplate\": \"sim_index=0.0<br>ctp_bin_labels=%{x}<br>ctp_bin_prob=%{y}<extra></extra>\", \"legendgroup\": \"\", \"marker\": {\"color\": \"#636efa\"}, \"name\": \"\", \"offsetgroup\": \"\", \"orientation\": \"v\", \"showlegend\": false, \"textposition\": \"auto\", \"x\": [0.8105263157894737, 0.8263157894736842, 0.8421052631578947, 0.8578947368421053, 0.8736842105263158, 0.8894736842105263, 0.9052631578947369, 0.9210526315789473], \"xaxis\": \"x\", \"y\": [0.1, 0.05, 0.1, 0.1, 0.15, 0.1, 0.35, 0.05], \"yaxis\": \"y\", \"type\": \"bar\"}], \"name\": \"0.0\"}, {\"data\": [{\"alignmentgroup\": \"True\", \"hovertemplate\": \"sim_index=1.0<br>ctp_bin_labels=%{x}<br>ctp_bin_prob=%{y}<extra></extra>\", \"legendgroup\": \"\", \"marker\": {\"color\": \"#636efa\"}, \"name\": \"\", \"offsetgroup\": \"\", \"orientation\": \"v\", \"showlegend\": false, \"textposition\": \"auto\", \"x\": [0.8263157894736842, 0.8421052631578947, 0.8578947368421053, 0.8736842105263158, 0.8894736842105263, 0.9052631578947369, 0.9210526315789473, 0.9526315789473685], \"xaxis\": \"x\", \"y\": [0.06, 0.18, 0.1, 0.26, 0.16, 0.18, 0.04, 0.02], \"yaxis\": \"y\", \"type\": \"bar\"}], \"name\": \"1.0\"}, {\"data\": [{\"alignmentgroup\": \"True\", \"hovertemplate\": \"sim_index=2.0<br>ctp_bin_labels=%{x}<br>ctp_bin_prob=%{y}<extra></extra>\", \"legendgroup\": \"\", \"marker\": {\"color\": \"#636efa\"}, \"name\": \"\", \"offsetgroup\": \"\", \"orientation\": \"v\", \"showlegend\": false, \"textposition\": \"auto\", \"x\": [0.8105263157894737, 0.8263157894736842, 0.8421052631578947, 0.8578947368421053, 0.8736842105263158, 0.8894736842105263, 0.9052631578947369, 0.9210526315789473, 0.9368421052631579, 0.9526315789473685], \"xaxis\": \"x\", \"y\": [0.03, 0.07, 0.09, 0.15, 0.2, 0.15, 0.22, 0.07, 0.01, 0.01], \"yaxis\": \"y\", \"type\": \"bar\"}], \"name\": \"2.0\"}, {\"data\": [{\"alignmentgroup\": \"True\", \"hovertemplate\": \"sim_index=3.0<br>ctp_bin_labels=%{x}<br>ctp_bin_prob=%{y}<extra></extra>\", \"legendgroup\": \"\", \"marker\": {\"color\": \"#636efa\"}, \"name\": \"\", \"offsetgroup\": \"\", \"orientation\": \"v\", \"showlegend\": false, \"textposition\": \"auto\", \"x\": [0.7789473684210526, 0.8105263157894737, 0.8263157894736842, 0.8421052631578947, 0.8578947368421053, 0.8736842105263158, 0.8894736842105263, 0.9052631578947369, 0.9210526315789473, 0.9368421052631579, 0.9526315789473685], \"xaxis\": \"x\", \"y\": [0.012, 0.032, 0.032, 0.156, 0.096, 0.292, 0.144, 0.164, 0.064, 0.004, 0.004], \"yaxis\": \"y\", \"type\": \"bar\"}], \"name\": \"3.0\"}, {\"data\": [{\"alignmentgroup\": \"True\", \"hovertemplate\": \"sim_index=4.0<br>ctp_bin_labels=%{x}<br>ctp_bin_prob=%{y}<extra></extra>\", \"legendgroup\": \"\", \"marker\": {\"color\": \"#636efa\"}, \"name\": \"\", \"offsetgroup\": \"\", \"orientation\": \"v\", \"showlegend\": false, \"textposition\": \"auto\", \"x\": [0.763157894736842, 0.7947368421052632, 0.8105263157894737, 0.8263157894736842, 0.8421052631578947, 0.8578947368421053, 0.8736842105263158, 0.8894736842105263, 0.9052631578947369, 0.9210526315789473, 0.9368421052631579, 0.9526315789473685], \"xaxis\": \"x\", \"y\": [0.002, 0.006, 0.018, 0.036, 0.148, 0.138, 0.274, 0.106, 0.164, 0.084, 0.02, 0.004], \"yaxis\": \"y\", \"type\": \"bar\"}], \"name\": \"4.0\"}, {\"data\": [{\"alignmentgroup\": \"True\", \"hovertemplate\": \"sim_index=5.0<br>ctp_bin_labels=%{x}<br>ctp_bin_prob=%{y}<extra></extra>\", \"legendgroup\": \"\", \"marker\": {\"color\": \"#636efa\"}, \"name\": \"\", \"offsetgroup\": \"\", \"orientation\": \"v\", \"showlegend\": false, \"textposition\": \"auto\", \"x\": [0.7947368421052632, 0.8105263157894737, 0.8263157894736842, 0.8421052631578947, 0.8578947368421053, 0.8736842105263158, 0.8894736842105263, 0.9052631578947369, 0.9210526315789473, 0.9368421052631579, 0.9526315789473685], \"xaxis\": \"x\", \"y\": [0.008, 0.025, 0.042, 0.139, 0.135, 0.294, 0.118, 0.166, 0.061, 0.009, 0.003], \"yaxis\": \"y\", \"type\": \"bar\"}], \"name\": \"5.0\"}, {\"data\": [{\"alignmentgroup\": \"True\", \"hovertemplate\": \"sim_index=6.0<br>ctp_bin_labels=%{x}<br>ctp_bin_prob=%{y}<extra></extra>\", \"legendgroup\": \"\", \"marker\": {\"color\": \"#636efa\"}, \"name\": \"\", \"offsetgroup\": \"\", \"orientation\": \"v\", \"showlegend\": false, \"textposition\": \"auto\", \"x\": [0.7789473684210526, 0.7947368421052632, 0.8105263157894737, 0.8263157894736842, 0.8421052631578947, 0.8578947368421053, 0.8736842105263158, 0.8894736842105263, 0.9052631578947369, 0.9210526315789473, 0.9368421052631579, 0.9526315789473685], \"xaxis\": \"x\", \"y\": [0.0005, 0.0075, 0.0265, 0.037, 0.1425, 0.118, 0.295, 0.13, 0.1695, 0.061, 0.008, 0.0045], \"yaxis\": \"y\", \"type\": \"bar\"}], \"name\": \"6.0\"}, {\"data\": [{\"alignmentgroup\": \"True\", \"hovertemplate\": \"sim_index=7.0<br>ctp_bin_labels=%{x}<br>ctp_bin_prob=%{y}<extra></extra>\", \"legendgroup\": \"\", \"marker\": {\"color\": \"#636efa\"}, \"name\": \"\", \"offsetgroup\": \"\", \"orientation\": \"v\", \"showlegend\": false, \"textposition\": \"auto\", \"x\": [0.763157894736842, 0.7789473684210526, 0.7947368421052632, 0.8105263157894737, 0.8263157894736842, 0.8421052631578947, 0.8578947368421053, 0.8736842105263158, 0.8894736842105263, 0.9052631578947369, 0.9210526315789473, 0.9368421052631579, 0.9526315789473685], \"xaxis\": \"x\", \"y\": [0.0006666666666666666, 0.0006666666666666666, 0.008666666666666666, 0.029, 0.036, 0.14633333333333334, 0.12533333333333332, 0.2763333333333333, 0.132, 0.177, 0.05333333333333334, 0.010333333333333333, 0.004333333333333333], \"yaxis\": \"y\", \"type\": \"bar\"}], \"name\": \"7.0\"}]);})\n",
       "    }\n",
       "        });</script><script type=\"text/javascript\">window.addEventListener(\"resize\", function(){if (document.getElementById(\"521a51dc-ac7c-42bf-b421-7c44e07a4f1e\")) {window._Plotly.Plots.resize(document.getElementById(\"521a51dc-ac7c-42bf-b421-7c44e07a4f1e\"));};})</script>"
      ]
     },
     "metadata": {},
     "output_type": "display_data"
    }
   ],
   "source": [
    "draw_interactive_prob_bar_plot_for_simulations(\n",
    "    make_df_for_simulations(simulate_ctp)\n",
    ")"
   ]
  },
  {
   "cell_type": "markdown",
   "metadata": {},
   "source": [
    "## Probability Density Function & Cumulative Density Function\n"
   ]
  },
  {
   "cell_type": "markdown",
   "metadata": {},
   "source": [
    "There is a way to prevent simulations like this to be run over and over again, it is to use probability density function and cumulative density function.\n",
    "\n",
    "### Probability Density Function (PDF)\n",
    "\n",
    "For a **continuous variable**, it is essentially a mathematical model to predict$^{[4]}$\n",
    "\n",
    "> how much more likely it is that the random variable would equal one sample compared to the other sample\n",
    "\n",
    "or in simpler words **\"how likely a number will happen?\"**\n",
    "\n",
    "Notice that the result from a PDF can be more than 1, as shown in this example. This is because PDF is not the probability itself, but a relative probability. To calculate the probability of **a number** happening is **impossible** and will be close to 0. Why? Because there are infinite numbers that approaches that number.\n",
    "\n",
    "What we can do is to calculate\n",
    "\n",
    "> **The probability of a number will fall between a range**,\n",
    "\n",
    "e.g. the probability of a number will fall between $0.55$ and $0.63$. This is calculated as the area under curve for PDF - *using integrals!*\n",
    "\n",
    "\n",
    "### Gaussian / Normal Distribution\n",
    "\n",
    "A Gaussian distribution $^{[3]}$ is the most commonly used distribution. It is shaped like a bell curve. We will draw this using code instead of showing you a picture. Assume that the CTPs are spread like a bell curve, we will need at least 2 parameters to generate the Gaussian distribution: **mean** and **variance**. A variance could be replaced by **standard deviation** because it is essentially:\n",
    "\n",
    "$$\n",
    "Var[X] = \\sigma^2\n",
    "$$\n",
    "\n",
    "where $\\sigma$ is the standard deviation of a random variable $X$."
   ]
  },
  {
   "cell_type": "code",
   "execution_count": 187,
   "metadata": {},
   "outputs": [],
   "source": [
    "# TODO: code here\n",
    "mean_ctp = np.mean(ctps)\n",
    "std_ctp = np.std(ctps)\n",
    "lower_1_sigma_ctp, upper_1_sigma_ctp = (mean_ctp - std_ctp), (mean_ctp + std_ctp)"
   ]
  },
  {
   "cell_type": "markdown",
   "metadata": {},
   "source": [
    "Now, we can draw the CTP distribution using just a function in seaborn:\n",
    "\n",
    "```python\n",
    "sns.distplot(random_variable)\n",
    "```\n",
    "\n",
    "while the other code below will just be a complementary to explain and annotate each points"
   ]
  },
  {
   "cell_type": "code",
   "execution_count": 188,
   "metadata": {},
   "outputs": [
    {
     "name": "stderr",
     "output_type": "stream",
     "text": [
      "/home/elvyna/miniconda3/envs/py36/lib/python3.6/site-packages/scipy/stats/stats.py:1713: FutureWarning:\n",
      "\n",
      "Using a non-tuple sequence for multidimensional indexing is deprecated; use `arr[tuple(seq)]` instead of `arr[seq]`. In the future this will be interpreted as an array index, `arr[np.array(seq)]`, which will result either in an error or a different result.\n",
      "\n"
     ]
    },
    {
     "data": {
      "image/png": "[encoded data removed]",
      "text/plain": [
       "<Figure size 864x504 with 1 Axes>"
      ]
     },
     "metadata": {},
     "output_type": "display_data"
    }
   ],
   "source": [
    "f, ax = plt.subplots(figsize=(12, 7))\n",
    "\n",
    "\n",
    "# TODO: code here using sns distplot, 1 line only\n",
    "sns.distplot(ctps)\n",
    "\n",
    "\n",
    "plt.axvline(mean_ctp, color='orange')\n",
    "x_lower_to_upper = np.linspace(lower_1_sigma_ctp, upper_1_sigma_ctp)\n",
    "plt.fill_between(x_lower_to_upper, st.norm.pdf(x_lower_to_upper, mean_ctp, std_ctp), color='orange', alpha=0.3)\n",
    "plt.axvline(ctp_current, color='green')\n",
    "values = dict(\n",
    "    mean=mean_ctp,\n",
    "    lower_1_sigma=lower_1_sigma_ctp,\n",
    "    upper_1_sigma=upper_1_sigma_ctp,\n",
    "    ctp_current=ctp_current\n",
    ")\n",
    "for k, val in values.items():\n",
    "    \n",
    "    x_text, y_text = val + np.random.uniform(-std_ctp, std_ctp), st.norm.pdf(val, loc=mean_ctp, scale=std_ctp)\n",
    "    plt.annotate(\n",
    "        '{}: {:.2f}'.format(k, val),\n",
    "        (val,8),\n",
    "        xytext=(x_text, y_text),\n",
    "        arrowprops=dict(\n",
    "            arrowstyle='-|>',\n",
    "            connectionstyle='angle3'\n",
    "        )\n",
    "    )\n",
    "\n",
    "plt.title('Distribution of CTP')\n",
    "plt.xlabel('$CTP$')\n",
    "plt.ylabel('$\\mathcal{N}(CTP; \\mu, \\sigma^2)$')\n",
    "plt.show()"
   ]
  },
  {
   "cell_type": "markdown",
   "metadata": {},
   "source": [
    "Y-axis shows the PDF result for each point in X-axis. As mentioned earlier, this PDF function is allowed to surpass 1.\n",
    "\n",
    "Now, to get the hang of the Gaussian distribution's PDF, you might as well implement the formula$^{[3]}$ by yourself and test it with our unit test below."
   ]
  },
  {
   "cell_type": "code",
   "execution_count": 189,
   "metadata": {},
   "outputs": [],
   "source": [
    "def gaussian_dist_pdf(x, mean, std):\n",
    "    # TODO: code here\n",
    "    var = std ** 2\n",
    "    return 1 / (std * np.sqrt(2 * np.pi)) * np.exp(-((x - mean)**2) / (2 * var))"
   ]
  },
  {
   "cell_type": "code",
   "execution_count": 190,
   "metadata": {},
   "outputs": [],
   "source": [
    "assert np.isclose(\n",
    "    gaussian_dist_pdf(0.85, mean_ctp, std_ctp),\n",
    "    st.norm.pdf(0.85, loc=mean_ctp, scale=std_ctp)\n",
    ")"
   ]
  },
  {
   "cell_type": "code",
   "execution_count": 191,
   "metadata": {},
   "outputs": [
    {
     "data": {
      "text/plain": [
       "11.995073810274574"
      ]
     },
     "execution_count": 191,
     "metadata": {},
     "output_type": "execute_result"
    }
   ],
   "source": [
    "st.norm.pdf(0.85, loc=mean_ctp, scale=std_ctp)"
   ]
  },
  {
   "cell_type": "markdown",
   "metadata": {},
   "source": [
    "### Cumulative Density Function (CDF)\n",
    "\n",
    "The CDF is a function to calculate the **probability** of a number will fall between a certain range. This will sum up to 1 because *it is* the probability, unlike probability density function. How do we calculate $p(CTP)=0.92$ like in our case? Since 0.92 falls in the bin in the range of 0.90-0.92, we can approximate the value as\n",
    "\n",
    "$$\n",
    "p(0.90 \\leq CTP \\leq 0.92) = F(0.92) - F(0.90)\n",
    "$$"
   ]
  },
  {
   "cell_type": "code",
   "execution_count": 192,
   "metadata": {},
   "outputs": [],
   "source": [
    "# TODO: code here\n",
    "prob_092 = (st.norm.cdf(0.92, loc=mean_ctp, scale=std_ctp)) - (st.norm.cdf(0.90, loc=mean_ctp, scale=std_ctp))"
   ]
  },
  {
   "cell_type": "code",
   "execution_count": 196,
   "metadata": {},
   "outputs": [
    {
     "name": "stdout",
     "output_type": "stream",
     "text": [
      "p(0.90 ≤ CTP ≤ 0.92) = 8.78%\n"
     ]
    }
   ],
   "source": [
    "assert np.isclose(prob_092, 0.087802724)\n",
    "\n",
    "print('p(0.90 ≤ CTP ≤ 0.92) = {:.2%}'.format(prob_092))"
   ]
  },
  {
   "cell_type": "markdown",
   "metadata": {},
   "source": [
    "It produces the same probabilty as in our simulation!\n",
    "\n",
    "The following figures should show you the way to calculate the probability from CDF."
   ]
  },
  {
   "cell_type": "code",
   "execution_count": 197,
   "metadata": {},
   "outputs": [
    {
     "data": {
      "image/png": "[encoded data removed]",
      "text/plain": [
       "<Figure size 864x720 with 3 Axes>"
      ]
     },
     "metadata": {},
     "output_type": "display_data"
    }
   ],
   "source": [
    "f, ax = plt.subplots(figsize=(12, 10), nrows=3, sharex=True)\n",
    "all_x = np.linspace(0.75, 0.95, 100)\n",
    "x_to_90 = np.linspace(0.75, 0.90, 100)\n",
    "x_to_92 = np.linspace(0.75, 0.92, 100)\n",
    "x_90_to_92 = np.linspace(0.90, 0.92, 100)\n",
    "\n",
    "ax[0].plot(all_x, st.norm.pdf(all_x, mean_ctp, std_ctp))\n",
    "ax[0].fill_between(x_to_92, st.norm.pdf(x_to_92, mean_ctp, std_ctp), alpha=0.3)\n",
    "ax[0].set_title('$F(0.92)$')\n",
    "ax[0].axvline(0.92, linestyle='--', c='g')\n",
    "ax[1].plot(all_x, st.norm.pdf(all_x, mean_ctp, std_ctp))\n",
    "ax[1].fill_between(x_to_90, st.norm.pdf(x_to_90, mean_ctp, std_ctp), alpha=0.3)\n",
    "ax[1].set_title('$F(0.90)$')\n",
    "ax[1].axvline(0.90, linestyle='--', c='g')\n",
    "ax[2].plot(all_x, st.norm.pdf(all_x, mean_ctp, std_ctp))\n",
    "ax[2].fill_between(x_90_to_92, st.norm.pdf(x_90_to_92, mean_ctp, std_ctp), alpha=0.3)\n",
    "ax[2].set_title('$p(0.90 \\leq CTP \\leq 0.92) = F(0.92) - F(0.90)$')\n",
    "ax[2].set_xlabel('CTP')\n",
    "ax[2].axvline(0.90, linestyle='--', c='g')\n",
    "ax[2].axvline(0.92, linestyle='--', c='g');"
   ]
  },
  {
   "cell_type": "markdown",
   "metadata": {},
   "source": [
    "# References\n",
    "\n",
    "[1] 12 Estimating Click Through Probability. (2019). Retrieved from [https://www.youtube.com/watch?v=LFLSApHc-jM](https://www.youtube.com/watch?v=LFLSApHc-jM)\n",
    "\n",
    "[2] Wikipediaorg. (2019). Wikipediaorg. Retrieved 9 April, 2019, from https://en.wikipedia.org/wiki/Click-through_rate\n",
    "\n",
    "\n",
    "[3] Wikipediaorg. (2019). Wikipediaorg. Retrieved 9 April, 2019, from https://en.wikipedia.org/wiki/Normal_distribution\n",
    "\n",
    "[4] Wikipediaorg. (2019). Wikipediaorg. Retrieved 9 April, 2019, from https://en.wikipedia.org/wiki/Probability_density_function\n"
   ]
  }
 ],
 "metadata": {
  "kernelspec": {
   "display_name": "Python 3",
   "language": "python",
   "name": "python3"
  },
  "language_info": {
   "codemirror_mode": {
    "name": "ipython",
    "version": 3
   },
   "file_extension": ".py",
   "mimetype": "text/x-python",
   "name": "python",
   "nbconvert_exporter": "python",
   "pygments_lexer": "ipython3",
   "version": "3.6.6"
  }
 },
 "nbformat": 4,
 "nbformat_minor": 2
}
