{
 "cells": [
  {
   "cell_type": "markdown",
   "metadata": {},
   "source": [
    "# Soal Latihan Probabilitas dan Statistika"
   ]
  },
  {
   "cell_type": "code",
   "execution_count": 1,
   "metadata": {},
   "outputs": [],
   "source": [
    "from scipy.stats import *\n",
    "import matplotlib.pyplot as plt\n",
    "import numpy as np\n",
    "import pandas as pd\n",
    "import seaborn as sns\n",
    "\n",
    "%matplotlib inline"
   ]
  },
  {
   "cell_type": "markdown",
   "metadata": {},
   "source": [
    "## Mudah\n",
    "\n",
    "1. Sebuah program memiliki kemungkinan menyebabkan komputer crash sebesar 0.2. Program tersebut dijalankan di 50 komputer. Berapa peluangnya semua komputer dapat bekerja dengan baik?"
   ]
  },
  {
   "cell_type": "markdown",
   "metadata": {},
   "source": [
    "Jawaban paling sederhana\n",
    "\\begin{align}\n",
    "p(crash) &= 0.2 \\\\\n",
    "p(not~crash) &= 1 - 0.2 = 0.8 \\\\\n",
    "p(all~not~crash) &= 0.8^{50}\n",
    "\\end{align}\n",
    "\n",
    "Alternatif: Mengikuti Binomial distribution dengan $n=50$, $\\theta=0.2$.\n",
    "$$\n",
    "X \\sim Bin(50, 0.2)\n",
    "$$\n",
    "$$\n",
    "p(X=0) = \\binom{50}{0} 0.2^{0} (1-0.2)^{50-0}\n",
    "$$"
   ]
  },
  {
   "cell_type": "code",
   "execution_count": 35,
   "metadata": {},
   "outputs": [
    {
     "data": {
      "text/plain": [
       "1.4272476927059582e-05"
      ]
     },
     "execution_count": 35,
     "metadata": {},
     "output_type": "execute_result"
    }
   ],
   "source": [
    "binom(n=50, p=.2).pmf(0)"
   ]
  },
  {
   "cell_type": "markdown",
   "metadata": {},
   "source": [
    "2. Sebuah cuitan di Twitter ditunjukkan ke 100 orang berbeda. Asumsikan bahwa peluang cuitan tersebut akan di-RT oleh sembarang orang adalah 0.7. Berapa ekspektasi jumlah RT yang didapat?"
   ]
  },
  {
   "cell_type": "markdown",
   "metadata": {},
   "source": [
    "Dengan asumsi distribusi Binomial,\n",
    "\n",
    "$$\n",
    "X \\sim Bin(100, 0.7)\n",
    "$$\n",
    "\n",
    "$$\n",
    "\\mathbb{E}[X] = np = 100 \\times 0.7 = 70\n",
    "$$"
   ]
  },
  {
   "cell_type": "markdown",
   "metadata": {},
   "source": [
    "Alternatif"
   ]
  },
  {
   "cell_type": "code",
   "execution_count": 91,
   "metadata": {},
   "outputs": [
    {
     "data": {
      "text/plain": [
       "70.0778"
      ]
     },
     "execution_count": 91,
     "metadata": {},
     "output_type": "execute_result"
    }
   ],
   "source": [
    "n_trials = 10000\n",
    "x = []\n",
    "for _ in range(n_trials):\n",
    "    x.append(\n",
    "        (np.random.rand(100) <= .7).sum()\n",
    "    )\n",
    "np.mean(x)"
   ]
  },
  {
   "cell_type": "markdown",
   "metadata": {},
   "source": [
    "3. Dalam setahun, rata-rata ada 2.8 gempa bumi berskala besar yang terjadi di dunia. Berapa peluangnya ada > 1 gempa bumi berskala besar di tahun depan?"
   ]
  },
  {
   "cell_type": "markdown",
   "metadata": {},
   "source": [
    "Asumsi\n",
    "$$\n",
    "X \\sim Poi(2.8)\n",
    "$$\n",
    "\n",
    "\\begin{align}\n",
    "P(X>1) &= 1 - P(X \\leq 1) \\\\\n",
    "&= 1-[P(X=0) + P(X=1)]\n",
    "\\end{align}"
   ]
  },
  {
   "cell_type": "code",
   "execution_count": 7,
   "metadata": {},
   "outputs": [
    {
     "data": {
      "text/plain": [
       "0.7689217620241717"
      ]
     },
     "execution_count": 7,
     "metadata": {},
     "output_type": "execute_result"
    }
   ],
   "source": [
    "1-poisson(2.8).cdf(1)"
   ]
  },
  {
   "cell_type": "markdown",
   "metadata": {},
   "source": [
    "Poisson bisa dihampiri dengan distribusi normal, tapi tidak kali ini."
   ]
  },
  {
   "cell_type": "code",
   "execution_count": 116,
   "metadata": {},
   "outputs": [
    {
     "data": {
      "image/png": "[encoded data removed]",
      "text/plain": [
       "<Figure size 432x288 with 1 Axes>"
      ]
     },
     "metadata": {
      "needs_background": "light"
     },
     "output_type": "display_data"
    }
   ],
   "source": [
    "x = np.linspace(-6,6,100)\n",
    "plt.plot(x, norm(2.8,np.sqrt(2.8)).pdf(x))\n",
    "plt.axvline(0, linestyle='--');"
   ]
  },
  {
   "cell_type": "markdown",
   "metadata": {},
   "source": [
    "4. Seorang pengemudi ojek online mendapatkan rata-rata 90 penumpang per minggu di suatu kota. Berapa peluangnya di minggu ini dia akan mendapatkan minimal 80 penumpang?"
   ]
  },
  {
   "cell_type": "markdown",
   "metadata": {},
   "source": [
    "$$\n",
    "X \\sim Poi(90)\n",
    "$$\n",
    "\n",
    "Alternatif\n",
    "$$\n",
    "X \\sim \\mathcal{N}(90, 90)\n",
    "$$\n",
    "\n",
    "Ditanya:\n",
    "$$\n",
    "P(X \\geq 80) = 1 - \\sum_{i=0}^{79} P(X=i) = 1 - P(X \\leq 79)\n",
    "$$"
   ]
  },
  {
   "cell_type": "code",
   "execution_count": 120,
   "metadata": {},
   "outputs": [
    {
     "data": {
      "text/plain": [
       "0.8668195027664695"
      ]
     },
     "execution_count": 120,
     "metadata": {},
     "output_type": "execute_result"
    }
   ],
   "source": [
    "1-poisson(90).cdf(79)"
   ]
  },
  {
   "cell_type": "markdown",
   "metadata": {},
   "source": [
    "Di sini aproksimasi dengan distribusi normal bisa cukup dekat hasilnya."
   ]
  },
  {
   "cell_type": "code",
   "execution_count": 121,
   "metadata": {},
   "outputs": [
    {
     "data": {
      "text/plain": [
       "0.8768741501537365"
      ]
     },
     "execution_count": 121,
     "metadata": {},
     "output_type": "execute_result"
    }
   ],
   "source": [
    "1-norm(90, np.sqrt(90)).cdf(79)"
   ]
  },
  {
   "cell_type": "code",
   "execution_count": 226,
   "metadata": {},
   "outputs": [
    {
     "data": {
      "image/png": "[encoded data removed]",
      "text/plain": [
       "<Figure size 432x288 with 1 Axes>"
      ]
     },
     "metadata": {
      "needs_background": "light"
     },
     "output_type": "display_data"
    }
   ],
   "source": [
    "x = np.linspace(0,100,1000)\n",
    "lamb = 90\n",
    "plt.plot(x, norm(lamb, np.sqrt(lamb)).pdf(x));"
   ]
  },
  {
   "cell_type": "markdown",
   "metadata": {},
   "source": [
    "5. Suatu konferensi machine learning top dunia punya rata-rata acceptance rate 25%. Jika di tahun ini mereka mendapatkan 2400 paper untuk diulas, berapa peluangnya jumlah paper yang diterima di tahun ini tidak sampai 500?"
   ]
  },
  {
   "cell_type": "markdown",
   "metadata": {},
   "source": [
    "$$\n",
    "X \\sim Bin(2400, .25)\n",
    "$$\n",
    "\n",
    "$$\n",
    "P(X < 500) = \n",
    "$$"
   ]
  },
  {
   "cell_type": "code",
   "execution_count": 128,
   "metadata": {},
   "outputs": [
    {
     "data": {
      "text/plain": [
       "6.821028653817123e-07"
      ]
     },
     "execution_count": 128,
     "metadata": {},
     "output_type": "execute_result"
    }
   ],
   "source": [
    "binom(n=2400,p=.25).cdf(499)"
   ]
  },
  {
   "cell_type": "markdown",
   "metadata": {},
   "source": [
    "6. Rata-rata occupancy dari sebuah hotel di kota X pada hari Sabtu adalah 85%. Jika hotel tersebut memiliki 20 kamar, berapa peluangnya hotel tersebut akan terisi penuh di hari Sabtu yang akan datang?"
   ]
  },
  {
   "cell_type": "markdown",
   "metadata": {},
   "source": [
    "$$\n",
    "X \\sim Bin(20, .85)\n",
    "$$\n",
    "\n",
    "$$\n",
    "P(X=20) =\n",
    "$$"
   ]
  },
  {
   "cell_type": "code",
   "execution_count": 104,
   "metadata": {},
   "outputs": [
    {
     "data": {
      "text/plain": [
       "0.03875953108451434"
      ]
     },
     "execution_count": 104,
     "metadata": {},
     "output_type": "execute_result"
    }
   ],
   "source": [
    "binom(n=20, p=.85).pmf(20)"
   ]
  },
  {
   "cell_type": "markdown",
   "metadata": {},
   "source": [
    "Poisson tidak bisa digunakan dalam kasus ini karena memungkinkan nilai $X > 20$."
   ]
  },
  {
   "cell_type": "code",
   "execution_count": 129,
   "metadata": {},
   "outputs": [
    {
     "data": {
      "text/plain": [
       "0.06915882695522822"
      ]
     },
     "execution_count": 129,
     "metadata": {},
     "output_type": "execute_result"
    }
   ],
   "source": [
    "poisson(20*.85).pmf(20)"
   ]
  },
  {
   "cell_type": "markdown",
   "metadata": {},
   "source": [
    "7. Ketika melempar koin, mana yang lebih mungkin: 51 atau lebih muncul “angka” dari 100 lemparan atau 510 atau lebih muncul “angka” dari 1000 lemparan?"
   ]
  },
  {
   "cell_type": "markdown",
   "metadata": {},
   "source": [
    "Asumsikan fair coin\n",
    "\n",
    "$$\n",
    "X \\sim Bin(100, .5)\n",
    "$$\n",
    "$$\n",
    "Y \\sim Bin(1000, .5)\n",
    "$$\n",
    "\n",
    "$$\n",
    "P(X \\geq 51) ... P(Y \\geq 510)\n",
    "$$"
   ]
  },
  {
   "cell_type": "code",
   "execution_count": 105,
   "metadata": {},
   "outputs": [
    {
     "data": {
      "text/plain": [
       "0.4602053813064103"
      ]
     },
     "execution_count": 105,
     "metadata": {},
     "output_type": "execute_result"
    }
   ],
   "source": [
    "1-binom(100, .5).cdf(50)"
   ]
  },
  {
   "cell_type": "code",
   "execution_count": 106,
   "metadata": {},
   "outputs": [
    {
     "data": {
      "text/plain": [
       "0.25333002131247495"
      ]
     },
     "execution_count": 106,
     "metadata": {},
     "output_type": "execute_result"
    }
   ],
   "source": [
    "1-binom(1000, .5).cdf(510)"
   ]
  },
  {
   "cell_type": "markdown",
   "metadata": {},
   "source": [
    "## Sedang\n",
    "\n",
    "1. Di suatu pusat data dengan 100 server, tiap request dialokasikan ke tiap server secara acak dengan peluang yang sama. Berdasarkan catatan, setiap server akan mendapatkan rata-rata 2 requests per detik. Perusahaan yang menggunakan pusat data tersebut baru saja merilis kode ke semua server yang menyebabkan server akan crash jika mendapatkan lebih dari 6 requests per detik. Berapa peluangnya bahwa tidak ada server yang akan crash di detik berikutnya?"
   ]
  },
  {
   "cell_type": "markdown",
   "metadata": {},
   "source": [
    "$$\n",
    "X_i \\sim Poi(2)\n",
    "$$\n",
    "\n",
    "Ditanya:\n",
    "$$\n",
    "P(X_1 \\leq 6, X_2 \\leq 6, ..., X_{100} \\leq 6)\n",
    "$$\n",
    "\n",
    "Jawab:\n",
    "$$\n",
    "P(X_1 \\leq 6, X_2 \\leq 6, ..., X_{100} \\leq 6) = \\prod_{i=1}^{100} P(X_i \\leq 6)\n",
    "$$"
   ]
  },
  {
   "cell_type": "code",
   "execution_count": 133,
   "metadata": {},
   "outputs": [
    {
     "data": {
      "text/plain": [
       "0.9954661944737512"
      ]
     },
     "execution_count": 133,
     "metadata": {},
     "output_type": "execute_result"
    }
   ],
   "source": [
    "poisson(2).cdf(6)"
   ]
  },
  {
   "cell_type": "code",
   "execution_count": 131,
   "metadata": {},
   "outputs": [
    {
     "data": {
      "text/plain": [
       "0.634821488981177"
      ]
     },
     "execution_count": 131,
     "metadata": {},
     "output_type": "execute_result"
    }
   ],
   "source": [
    "poisson(2).cdf(6)**100"
   ]
  },
  {
   "cell_type": "code",
   "execution_count": 132,
   "metadata": {},
   "outputs": [
    {
     "data": {
      "image/png": "[encoded data removed]",
      "text/plain": [
       "<Figure size 432x288 with 1 Axes>"
      ]
     },
     "metadata": {
      "needs_background": "light"
     },
     "output_type": "display_data"
    }
   ],
   "source": [
    "p = []\n",
    "for i in range(1,101):\n",
    "    p.append(poisson(2).cdf(6)**i)\n",
    "plt.plot(range(1,101), p);"
   ]
  },
  {
   "cell_type": "markdown",
   "metadata": {},
   "source": [
    "## Sukar\n",
    "\n",
    "4. Seorang penikmat musik sedang shuffle play lagu soundtrack Charlie's Angels terbaru. Di albumnya ada 11 lagu, 6 di antaranya lagu Ariana Grande. Berapa peluangnya didapatkan lagu Ariana Grande tiga kali berturut-turut? (Sumber: Twitter)"
   ]
  },
  {
   "cell_type": "code",
   "execution_count": 166,
   "metadata": {},
   "outputs": [],
   "source": [
    "from scipy.special import factorial"
   ]
  },
  {
   "cell_type": "code",
   "execution_count": 216,
   "metadata": {},
   "outputs": [
    {
     "data": {
      "text/plain": [
       "array(39916800.)"
      ]
     },
     "execution_count": 216,
     "metadata": {},
     "output_type": "execute_result"
    }
   ],
   "source": [
    "factorial(11)"
   ]
  },
  {
   "cell_type": "code",
   "execution_count": 223,
   "metadata": {},
   "outputs": [],
   "source": [
    "from itertools import permutations\n",
    "from scipy.stats import norm\n",
    "from tqdm import tqdm\n",
    "import matplotlib.pyplot as plt\n",
    "import numpy as np\n",
    "import seaborn as sns\n",
    "\n",
    "def check_triplets(songs):\n",
    "    return ''.join(songs).find('aaa') != -1\n",
    "\n",
    "def permute(songs):\n",
    "    counter = 0\n",
    "    n = 0\n",
    "    for song_seq in tqdm(permutations(songs)):\n",
    "        counter += check_triplets(song_seq)\n",
    "        n += 1\n",
    "    return counter/n\n",
    "\n",
    "def sample(songs, n):\n",
    "    counter = 0\n",
    "    for _ in range(n):\n",
    "        np.random.shuffle(songs)\n",
    "        counter += check_triplets(songs)\n",
    "    return counter/n\n",
    "\n",
    "def main():\n",
    "    songs = [c for c in 'aaaaaaxxxxx']\n",
    "\n",
    "    probs = []\n",
    "    for _ in range(1000):\n",
    "        probs.append(sample(songs, 1000))\n",
    "    sns.distplot(probs, fit=norm, kde=False)\n",
    "    plt.xlabel('p(x)')\n",
    "    plt.ylabel('f(p(x))')\n",
    "    plt.title('$p(x) = %.4f \\\\pm %.4f$' % (np.mean(probs), np.std(probs)))\n",
    "    plt.show()"
   ]
  },
  {
   "cell_type": "code",
   "execution_count": 225,
   "metadata": {},
   "outputs": [
    {
     "data": {
      "image/png": "[encoded data removed]",
      "text/plain": [
       "<Figure size 432x288 with 1 Axes>"
      ]
     },
     "metadata": {
      "needs_background": "light"
     },
     "output_type": "display_data"
    }
   ],
   "source": [
    "main()"
   ]
  },
  {
   "cell_type": "code",
   "execution_count": 165,
   "metadata": {},
   "outputs": [
    {
     "name": "stderr",
     "output_type": "stream",
     "text": [
      "39916800it [00:41, 966430.16it/s] \n"
     ]
    },
    {
     "data": {
      "text/plain": [
       "0.6948051948051948"
      ]
     },
     "execution_count": 165,
     "metadata": {},
     "output_type": "execute_result"
    }
   ],
   "source": [
    "permute(songs)"
   ]
  }
 ],
 "metadata": {
  "kernelspec": {
   "display_name": "Python 3",
   "language": "python",
   "name": "python3"
  },
  "language_info": {
   "codemirror_mode": {
    "name": "ipython",
    "version": 3
   },
   "file_extension": ".py",
   "mimetype": "text/x-python",
   "name": "python",
   "nbconvert_exporter": "python",
   "pygments_lexer": "ipython3",
   "version": "3.6.6"
  }
 },
 "nbformat": 4,
 "nbformat_minor": 4
}
