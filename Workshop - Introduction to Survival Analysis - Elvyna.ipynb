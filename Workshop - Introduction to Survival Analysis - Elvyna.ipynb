{
 "cells": [
  {
   "cell_type": "code",
   "execution_count": 1,
   "metadata": {},
   "outputs": [],
   "source": [
    "from IPython.display import display, Math, HTML\n",
    "import pandas as pd\n",
    "# import pandas_td as td\n",
    "import os\n",
    "import numpy as np\n",
    "import matplotlib.pyplot as plt\n",
    "import seaborn as sns\n",
    "\n",
    "%matplotlib inline\n",
    "\n",
    "\n",
    "pd.set_option(\"display.max_columns\", 100)"
   ]
  },
  {
   "cell_type": "code",
   "execution_count": 2,
   "metadata": {},
   "outputs": [],
   "source": [
    "END_OBS_DATE = pd.to_datetime('2013-10-01')"
   ]
  },
  {
   "cell_type": "markdown",
   "metadata": {},
   "source": [
    "## Prepare dataset"
   ]
  },
  {
   "cell_type": "code",
   "execution_count": 3,
   "metadata": {},
   "outputs": [
    {
     "data": {
      "text/html": [
       "<div>\n",
       "<style scoped>\n",
       "    .dataframe tbody tr th:only-of-type {\n",
       "        vertical-align: middle;\n",
       "    }\n",
       "\n",
       "    .dataframe tbody tr th {\n",
       "        vertical-align: top;\n",
       "    }\n",
       "\n",
       "    .dataframe thead th {\n",
       "        text-align: right;\n",
       "    }\n",
       "</style>\n",
       "<table border=\"1\" class=\"dataframe\">\n",
       "  <thead>\n",
       "    <tr style=\"text-align: right;\">\n",
       "      <th></th>\n",
       "      <th>Name</th>\n",
       "      <th>Political Affiliation at Appointment</th>\n",
       "      <th>Province / Territory</th>\n",
       "      <th>Appointed on the advice of</th>\n",
       "      <th>Term (yyyy.mm.dd)</th>\n",
       "      <th>start_date</th>\n",
       "      <th>end_date</th>\n",
       "      <th>reason</th>\n",
       "    </tr>\n",
       "  </thead>\n",
       "  <tbody>\n",
       "    <tr>\n",
       "      <th>0</th>\n",
       "      <td>Abbott, John Joseph Caldwell</td>\n",
       "      <td>Liberal-Conservative</td>\n",
       "      <td>Quebec</td>\n",
       "      <td>Macdonald, John Alexander</td>\n",
       "      <td>1887.05.12 - 1893.10.30  (Death)</td>\n",
       "      <td>1887-05-12 00:00:00</td>\n",
       "      <td>1893-10-30</td>\n",
       "      <td>Death</td>\n",
       "    </tr>\n",
       "    <tr>\n",
       "      <th>1</th>\n",
       "      <td>Adams, Michael</td>\n",
       "      <td>Conservative (1867-1942)</td>\n",
       "      <td>New Brunswick</td>\n",
       "      <td>Bowell, Mackenzie</td>\n",
       "      <td>1896.01.07 - 1899.01.01  (Death)</td>\n",
       "      <td>1896-01-07 00:00:00</td>\n",
       "      <td>1899-01-01</td>\n",
       "      <td>Death</td>\n",
       "    </tr>\n",
       "    <tr>\n",
       "      <th>2</th>\n",
       "      <td>Adams, Willie</td>\n",
       "      <td>Liberal Party of Canada</td>\n",
       "      <td>Northwest Territories</td>\n",
       "      <td>Trudeau, Pierre Elliott</td>\n",
       "      <td>1977.04.05 - 2009.06.22  (Retirement)</td>\n",
       "      <td>1977-04-05 00:00:00</td>\n",
       "      <td>2009-06-22</td>\n",
       "      <td>Retirement</td>\n",
       "    </tr>\n",
       "    <tr>\n",
       "      <th>3</th>\n",
       "      <td>Aikins, James Cox</td>\n",
       "      <td>Liberal-Conservative</td>\n",
       "      <td>Ontario</td>\n",
       "      <td>Royal Proclamation</td>\n",
       "      <td>1867.10.23 - 1882.05.30  (Resignation)</td>\n",
       "      <td>1867-10-23 00:00:00</td>\n",
       "      <td>1882-05-30</td>\n",
       "      <td>Resignation</td>\n",
       "    </tr>\n",
       "    <tr>\n",
       "      <th>4</th>\n",
       "      <td>Aikins, James Cox</td>\n",
       "      <td>Liberal-Conservative</td>\n",
       "      <td>Ontario</td>\n",
       "      <td>Bowell, Mackenzie</td>\n",
       "      <td>1896.01.07 - 1904.08.06  (Death)</td>\n",
       "      <td>1896-01-07 00:00:00</td>\n",
       "      <td>1904-08-06</td>\n",
       "      <td>Death</td>\n",
       "    </tr>\n",
       "  </tbody>\n",
       "</table>\n",
       "</div>"
      ],
      "text/plain": [
       "                           Name Political Affiliation at Appointment  \\\n",
       "0  Abbott, John Joseph Caldwell                 Liberal-Conservative   \n",
       "1                Adams, Michael             Conservative (1867-1942)   \n",
       "2                 Adams, Willie              Liberal Party of Canada   \n",
       "3             Aikins, James Cox                 Liberal-Conservative   \n",
       "4             Aikins, James Cox                 Liberal-Conservative   \n",
       "\n",
       "    Province / Territory Appointed on the advice of  \\\n",
       "0                 Quebec  Macdonald, John Alexander   \n",
       "1          New Brunswick          Bowell, Mackenzie   \n",
       "2  Northwest Territories    Trudeau, Pierre Elliott   \n",
       "3                Ontario         Royal Proclamation   \n",
       "4                Ontario          Bowell, Mackenzie   \n",
       "\n",
       "                        Term (yyyy.mm.dd)           start_date   end_date  \\\n",
       "0        1887.05.12 - 1893.10.30  (Death)  1887-05-12 00:00:00 1893-10-30   \n",
       "1        1896.01.07 - 1899.01.01  (Death)  1896-01-07 00:00:00 1899-01-01   \n",
       "2   1977.04.05 - 2009.06.22  (Retirement)  1977-04-05 00:00:00 2009-06-22   \n",
       "3  1867.10.23 - 1882.05.30  (Resignation)  1867-10-23 00:00:00 1882-05-30   \n",
       "4        1896.01.07 - 1904.08.06  (Death)  1896-01-07 00:00:00 1904-08-06   \n",
       "\n",
       "        reason  \n",
       "0        Death  \n",
       "1        Death  \n",
       "2   Retirement  \n",
       "3  Resignation  \n",
       "4        Death  "
      ]
     },
     "execution_count": 3,
     "metadata": {},
     "output_type": "execute_result"
    }
   ],
   "source": [
    "from lifelines.datasets import load_canadian_senators\n",
    "\n",
    "df = load_canadian_senators()\n",
    "df.drop(['diff_days','observed'], axis=1, inplace=True)\n",
    "\n",
    "df['end_date'] = pd.to_datetime(df['end_date'])\n",
    "df.loc[df['end_date'] > END_OBS_DATE, 'end_date'] = None\n",
    "\n",
    "df.head()"
   ]
  },
  {
   "cell_type": "markdown",
   "metadata": {},
   "source": [
    "**Calculate the duration (in days and in years) and observed (`True` if the event has occurred)**"
   ]
  },
  {
   "cell_type": "code",
   "execution_count": 17,
   "metadata": {},
   "outputs": [],
   "source": [
    "from lifelines.utils import datetimes_to_durations\n",
    "\n",
    "#TO-DO\n",
    "duration_in_days, observed = datetimes_to_durations(\n",
    "    df['start_date'],\n",
    "    df['end_date'],\n",
    "    freq='D',\n",
    "    fill_date=END_OBS_DATE\n",
    ")\n",
    "\n",
    "duration_in_years, observed = datetimes_to_durations(\n",
    "    df['start_date'],\n",
    "    df['end_date'],\n",
    "    freq='Y',\n",
    "    fill_date=END_OBS_DATE\n",
    ")\n",
    "\n",
    "df['duration_in_days'] = duration_in_days\n",
    "df['duration_in_years'] = duration_in_years\n",
    "df['observed'] = observed"
   ]
  },
  {
   "cell_type": "markdown",
   "metadata": {},
   "source": [
    "**Calculate the number of censored and uncensored data**"
   ]
  },
  {
   "cell_type": "code",
   "execution_count": 22,
   "metadata": {},
   "outputs": [
    {
     "data": {
      "text/plain": [
       "Name                                        Abbott, John Joseph Caldwell\n",
       "Political Affiliation at Appointment                Liberal-Conservative\n",
       "Province / Territory                                              Quebec\n",
       "Appointed on the advice of                     Macdonald, John Alexander\n",
       "Term (yyyy.mm.dd)                       1887.05.12 - 1893.10.30  (Death)\n",
       "start_date                                           1887-05-12 00:00:00\n",
       "end_date                                             1893-10-30 00:00:00\n",
       "reason                                                             Death\n",
       "duration_day                                                        2363\n",
       "observed                                                            True\n",
       "duration_in_days                                                    2363\n",
       "duration_in_years                                                      6\n",
       "Name: 0, dtype: object"
      ]
     },
     "execution_count": 22,
     "metadata": {},
     "output_type": "execute_result"
    }
   ],
   "source": [
    "df.iloc[0]"
   ]
  },
  {
   "cell_type": "code",
   "execution_count": 27,
   "metadata": {},
   "outputs": [
    {
     "name": "stdout",
     "output_type": "stream",
     "text": [
      "# of censored data   :  99\n",
      "# of uncensored data : 834\n"
     ]
    }
   ],
   "source": [
    "# TO-DO\n",
    "n_censored = df[(df['observed'] == False)].shape[0]\n",
    "n_uncensored = df[(df['observed'] == True)].shape[0]\n",
    "\n",
    "print('# of censored data   : {:3,.0f}'.format(n_censored))\n",
    "print('# of uncensored data : {:3,.0f}'.format(n_uncensored))"
   ]
  },
  {
   "cell_type": "markdown",
   "metadata": {},
   "source": [
    "## Plot Survival Function"
   ]
  },
  {
   "cell_type": "code",
   "execution_count": 28,
   "metadata": {},
   "outputs": [
    {
     "data": {
      "text/html": [
       "<div>\n",
       "<style scoped>\n",
       "    .dataframe tbody tr th:only-of-type {\n",
       "        vertical-align: middle;\n",
       "    }\n",
       "\n",
       "    .dataframe tbody tr th {\n",
       "        vertical-align: top;\n",
       "    }\n",
       "\n",
       "    .dataframe thead th {\n",
       "        text-align: right;\n",
       "    }\n",
       "</style>\n",
       "<table border=\"1\" class=\"dataframe\">\n",
       "  <thead>\n",
       "    <tr style=\"text-align: right;\">\n",
       "      <th></th>\n",
       "      <th>ctryname</th>\n",
       "      <th>cowcode2</th>\n",
       "      <th>politycode</th>\n",
       "      <th>un_region_name</th>\n",
       "      <th>un_continent_name</th>\n",
       "      <th>ehead</th>\n",
       "      <th>leaderspellreg</th>\n",
       "      <th>democracy</th>\n",
       "      <th>regime</th>\n",
       "      <th>start_year</th>\n",
       "      <th>duration</th>\n",
       "      <th>observed</th>\n",
       "    </tr>\n",
       "  </thead>\n",
       "  <tbody>\n",
       "    <tr>\n",
       "      <th>0</th>\n",
       "      <td>Afghanistan</td>\n",
       "      <td>700</td>\n",
       "      <td>700.0</td>\n",
       "      <td>Southern Asia</td>\n",
       "      <td>Asia</td>\n",
       "      <td>Mohammad Zahir Shah</td>\n",
       "      <td>Mohammad Zahir Shah.Afghanistan.1946.1952.Mona...</td>\n",
       "      <td>Non-democracy</td>\n",
       "      <td>Monarchy</td>\n",
       "      <td>1946</td>\n",
       "      <td>7</td>\n",
       "      <td>1</td>\n",
       "    </tr>\n",
       "    <tr>\n",
       "      <th>1</th>\n",
       "      <td>Afghanistan</td>\n",
       "      <td>700</td>\n",
       "      <td>700.0</td>\n",
       "      <td>Southern Asia</td>\n",
       "      <td>Asia</td>\n",
       "      <td>Sardar Mohammad Daoud</td>\n",
       "      <td>Sardar Mohammad Daoud.Afghanistan.1953.1962.Ci...</td>\n",
       "      <td>Non-democracy</td>\n",
       "      <td>Civilian Dict</td>\n",
       "      <td>1953</td>\n",
       "      <td>10</td>\n",
       "      <td>1</td>\n",
       "    </tr>\n",
       "    <tr>\n",
       "      <th>2</th>\n",
       "      <td>Afghanistan</td>\n",
       "      <td>700</td>\n",
       "      <td>700.0</td>\n",
       "      <td>Southern Asia</td>\n",
       "      <td>Asia</td>\n",
       "      <td>Mohammad Zahir Shah</td>\n",
       "      <td>Mohammad Zahir Shah.Afghanistan.1963.1972.Mona...</td>\n",
       "      <td>Non-democracy</td>\n",
       "      <td>Monarchy</td>\n",
       "      <td>1963</td>\n",
       "      <td>10</td>\n",
       "      <td>1</td>\n",
       "    </tr>\n",
       "    <tr>\n",
       "      <th>3</th>\n",
       "      <td>Afghanistan</td>\n",
       "      <td>700</td>\n",
       "      <td>700.0</td>\n",
       "      <td>Southern Asia</td>\n",
       "      <td>Asia</td>\n",
       "      <td>Sardar Mohammad Daoud</td>\n",
       "      <td>Sardar Mohammad Daoud.Afghanistan.1973.1977.Ci...</td>\n",
       "      <td>Non-democracy</td>\n",
       "      <td>Civilian Dict</td>\n",
       "      <td>1973</td>\n",
       "      <td>5</td>\n",
       "      <td>0</td>\n",
       "    </tr>\n",
       "    <tr>\n",
       "      <th>4</th>\n",
       "      <td>Afghanistan</td>\n",
       "      <td>700</td>\n",
       "      <td>700.0</td>\n",
       "      <td>Southern Asia</td>\n",
       "      <td>Asia</td>\n",
       "      <td>Nur Mohammad Taraki</td>\n",
       "      <td>Nur Mohammad Taraki.Afghanistan.1978.1978.Civi...</td>\n",
       "      <td>Non-democracy</td>\n",
       "      <td>Civilian Dict</td>\n",
       "      <td>1978</td>\n",
       "      <td>1</td>\n",
       "      <td>0</td>\n",
       "    </tr>\n",
       "  </tbody>\n",
       "</table>\n",
       "</div>"
      ],
      "text/plain": [
       "      ctryname  cowcode2  politycode un_region_name un_continent_name  \\\n",
       "0  Afghanistan       700       700.0  Southern Asia              Asia   \n",
       "1  Afghanistan       700       700.0  Southern Asia              Asia   \n",
       "2  Afghanistan       700       700.0  Southern Asia              Asia   \n",
       "3  Afghanistan       700       700.0  Southern Asia              Asia   \n",
       "4  Afghanistan       700       700.0  Southern Asia              Asia   \n",
       "\n",
       "                   ehead                                     leaderspellreg  \\\n",
       "0    Mohammad Zahir Shah  Mohammad Zahir Shah.Afghanistan.1946.1952.Mona...   \n",
       "1  Sardar Mohammad Daoud  Sardar Mohammad Daoud.Afghanistan.1953.1962.Ci...   \n",
       "2    Mohammad Zahir Shah  Mohammad Zahir Shah.Afghanistan.1963.1972.Mona...   \n",
       "3  Sardar Mohammad Daoud  Sardar Mohammad Daoud.Afghanistan.1973.1977.Ci...   \n",
       "4    Nur Mohammad Taraki  Nur Mohammad Taraki.Afghanistan.1978.1978.Civi...   \n",
       "\n",
       "       democracy         regime  start_year  duration  observed  \n",
       "0  Non-democracy       Monarchy        1946         7         1  \n",
       "1  Non-democracy  Civilian Dict        1953        10         1  \n",
       "2  Non-democracy       Monarchy        1963        10         1  \n",
       "3  Non-democracy  Civilian Dict        1973         5         0  \n",
       "4  Non-democracy  Civilian Dict        1978         1         0  "
      ]
     },
     "execution_count": 28,
     "metadata": {},
     "output_type": "execute_result"
    }
   ],
   "source": [
    "from lifelines.datasets import load_dd\n",
    "\n",
    "df = load_dd()\n",
    "df.head()"
   ]
  },
  {
   "cell_type": "markdown",
   "metadata": {},
   "source": [
    "**Take 50 random samples from the data, plot the lifetime of each subject**"
   ]
  },
  {
   "cell_type": "code",
   "execution_count": 39,
   "metadata": {},
   "outputs": [
    {
     "data": {
      "image/png": "[encoded data removed]",
      "text/plain": [
       "<Figure size 432x288 with 1 Axes>"
      ]
     },
     "metadata": {
      "needs_background": "light"
     },
     "output_type": "display_data"
    }
   ],
   "source": [
    "from lifelines.plotting import plot_lifetimes\n",
    "\n",
    "sample = df.sample(n=50, random_state=50).reset_index(drop=True)\n",
    "\n",
    "plot_lifetimes(\n",
    "    sample['duration'],\n",
    "    sample['observed'],\n",
    "    sort_by_duration=True\n",
    ");"
   ]
  },
  {
   "cell_type": "markdown",
   "metadata": {},
   "source": [
    "**Plot Kaplan-Meier Curve**"
   ]
  },
  {
   "cell_type": "code",
   "execution_count": 40,
   "metadata": {},
   "outputs": [
    {
     "data": {
      "image/png": "[encoded data removed]",
      "text/plain": [
       "<Figure size 432x288 with 1 Axes>"
      ]
     },
     "metadata": {
      "needs_background": "light"
     },
     "output_type": "display_data"
    }
   ],
   "source": [
    "from lifelines import KaplanMeierFitter\n",
    "\n",
    "# TODO: fit KaplanMeierFitter\n",
    "kmf = KaplanMeierFitter()\n",
    "kmf.fit(sample['duration'])\n",
    "# TODO: plot curve\n",
    "kmf.plot();\n",
    "# TODO: show the median\n",
    "plt.axvline(\n",
    "    kmf.median_,\n",
    "    linestyle='--',\n",
    "    color='orange'\n",
    ")\n",
    "\n",
    "plt.legend();"
   ]
  },
  {
   "cell_type": "markdown",
   "metadata": {},
   "source": [
    "**Plot survival function and its confidence interval**"
   ]
  },
  {
   "cell_type": "markdown",
   "metadata": {},
   "source": [
    "The survival function and the confidence interval are computational estimated. The confidence interval is estimated using Greenwood confidence interval."
   ]
  },
  {
   "cell_type": "code",
   "execution_count": 49,
   "metadata": {},
   "outputs": [
    {
     "data": {
      "image/png": "[encoded data removed]",
      "text/plain": [
       "<Figure size 432x288 with 1 Axes>"
      ]
     },
     "metadata": {
      "needs_background": "light"
     },
     "output_type": "display_data"
    }
   ],
   "source": [
    "ax = plt.subplot(111)\n",
    "\n",
    "# TODO: plot survival function\n",
    "kmf.survival_function_.plot(ax=ax);\n",
    "\n",
    "# TODO: plot confidence interval\n",
    "kmf.confidence_interval_survival_function_.plot(ax=ax);"
   ]
  },
  {
   "cell_type": "markdown",
   "metadata": {},
   "source": [
    "**Compare different group: Democracy**"
   ]
  },
  {
   "cell_type": "code",
   "execution_count": 56,
   "metadata": {},
   "outputs": [
    {
     "name": "stdout",
     "output_type": "stream",
     "text": [
      "Median: 6.0\n",
      "Median: 3.0\n"
     ]
    },
    {
     "data": {
      "image/png": "[encoded data removed]",
      "text/plain": [
       "<Figure size 432x288 with 1 Axes>"
      ]
     },
     "metadata": {
      "needs_background": "light"
     },
     "output_type": "display_data"
    }
   ],
   "source": [
    "#TODO\n",
    "ax = plt.subplot(111)\n",
    "\n",
    "for group in df['democracy'].unique():\n",
    "    mask = (df['democracy'] == group)\n",
    "    kmf = KaplanMeierFitter()\n",
    "    kmf.fit(\n",
    "        df[mask]['duration'],\n",
    "        df[mask]['observed']\n",
    "    )\n",
    "    kmf.plot(\n",
    "        label=group,\n",
    "        ax=ax\n",
    "    )\n",
    "    print(\"Median: {}\".format(kmf.median_))\n",
    "    \n",
    "plt.show();"
   ]
  },
  {
   "cell_type": "markdown",
   "metadata": {},
   "source": [
    "**Show the median of each group**"
   ]
  },
  {
   "cell_type": "code",
   "execution_count": null,
   "metadata": {},
   "outputs": [],
   "source": [
    "#TODO"
   ]
  },
  {
   "cell_type": "markdown",
   "metadata": {},
   "source": [
    "**Perform statistical test to check whether the two groups different**"
   ]
  },
  {
   "cell_type": "code",
   "execution_count": 61,
   "metadata": {},
   "outputs": [
    {
     "name": "stdout",
     "output_type": "stream",
     "text": [
      "<lifelines.StatisticalResult>\n",
      "               t_0 = -1\n",
      " null_distribution = chi squared\n",
      "degrees_of_freedom = 1\n",
      "\n",
      "---\n",
      " test_statistic      p  -log2(p)\n",
      "         260.47 <0.005    192.23\n"
     ]
    }
   ],
   "source": [
    "from lifelines.statistics import multivariate_logrank_test\n",
    "\n",
    "#TOOD\n",
    "results = multivariate_logrank_test(\n",
    "    df['duration'],\n",
    "    df['democracy'],\n",
    "    df['observed']\n",
    ")\n",
    "\n",
    "results.print_summary()"
   ]
  },
  {
   "cell_type": "markdown",
   "metadata": {},
   "source": [
    "**Compare different group: Regime and perform statistical test**"
   ]
  },
  {
   "cell_type": "code",
   "execution_count": 63,
   "metadata": {},
   "outputs": [
    {
     "name": "stdout",
     "output_type": "stream",
     "text": [
      "<lifelines.StatisticalResult>\n",
      "               t_0 = -1\n",
      " null_distribution = chi squared\n",
      "degrees_of_freedom = 5\n",
      "\n",
      "---\n",
      " test_statistic      p  -log2(p)\n",
      "         322.60 <0.005    222.10\n"
     ]
    }
   ],
   "source": [
    "#TODO\n",
    "from lifelines.statistics import multivariate_logrank_test\n",
    "\n",
    "#TOOD\n",
    "results = multivariate_logrank_test(\n",
    "    df['duration'],\n",
    "    df['regime'],\n",
    "    df['observed']\n",
    ")\n",
    "\n",
    "results.print_summary()"
   ]
  },
  {
   "cell_type": "markdown",
   "metadata": {},
   "source": [
    "## Plot Hazard Function"
   ]
  },
  {
   "cell_type": "markdown",
   "metadata": {},
   "source": [
    "**Plot cumulative hazard function**"
   ]
  },
  {
   "cell_type": "code",
   "execution_count": 66,
   "metadata": {},
   "outputs": [
    {
     "data": {
      "image/png": "[encoded data removed]",
      "text/plain": [
       "<Figure size 432x288 with 1 Axes>"
      ]
     },
     "metadata": {
      "needs_background": "light"
     },
     "output_type": "display_data"
    }
   ],
   "source": [
    "from lifelines import NelsonAalenFitter\n",
    "\n",
    "#TODO\n",
    "naf = NelsonAalenFitter()\n",
    "naf.fit(df['duration'], df['observed'])\n",
    "\n",
    "naf.plot();"
   ]
  },
  {
   "cell_type": "markdown",
   "metadata": {},
   "source": [
    "**Plot hazard function with different bandwidth**"
   ]
  },
  {
   "cell_type": "code",
   "execution_count": 68,
   "metadata": {},
   "outputs": [
    {
     "data": {
      "image/png": "[encoded data removed]",
      "text/plain": [
       "<Figure size 432x288 with 1 Axes>"
      ]
     },
     "metadata": {
      "needs_background": "light"
     },
     "output_type": "display_data"
    }
   ],
   "source": [
    "ax = plt.subplot()\n",
    "naf.plot_hazard(bandwidth=1, ax=ax, label='bandwidth=1')\n",
    "naf.plot_hazard(bandwidth=3, ax=ax, label='bandwidth=3')\n",
    "naf.plot_hazard(bandwidth=7, ax=ax, label='bandwidth=7')\n",
    "naf.plot_hazard(bandwidth=9, ax=ax, label='bandwidth=9')\n",
    "\n",
    "plt.ylim(0,.3);"
   ]
  },
  {
   "cell_type": "markdown",
   "metadata": {},
   "source": [
    "## Parametric Hazard Function"
   ]
  },
  {
   "cell_type": "code",
   "execution_count": 69,
   "metadata": {},
   "outputs": [
    {
     "name": "stdout",
     "output_type": "stream",
     "text": [
      "<lifelines.WeibullFitter: fitted with 1808 observations, 340 censored>\n",
      "number of subjects = 1808\n",
      "  number of events = 1468\n",
      "    log-likelihood = -4144.28\n",
      "        hypothesis = lambda_ != 1, rho_ != 1\n",
      "\n",
      "---\n",
      "         coef  se(coef)  lower 0.95  upper 0.95      p  -log2(p)\n",
      "lambda_  6.11      0.17        5.77        6.45 <0.005    642.95\n",
      "rho_     0.94      0.02        0.91        0.98 <0.005      9.45\n"
     ]
    },
    {
     "data": {
      "image/png": "[encoded data removed]",
      "text/plain": [
       "<Figure size 432x288 with 1 Axes>"
      ]
     },
     "metadata": {
      "needs_background": "light"
     },
     "output_type": "display_data"
    }
   ],
   "source": [
    "from lifelines import WeibullFitter\n",
    "\n",
    "wf = WeibullFitter()\n",
    "\n",
    "wf.fit(\n",
    "    df['duration'],\n",
    "    df['observed']\n",
    ")\n",
    "\n",
    "wf.print_summary()\n",
    "wf.plot();"
   ]
  },
  {
   "cell_type": "markdown",
   "metadata": {},
   "source": [
    "## Survival Regression"
   ]
  },
  {
   "cell_type": "code",
   "execution_count": 70,
   "metadata": {},
   "outputs": [
    {
     "data": {
      "text/html": [
       "<div>\n",
       "<style scoped>\n",
       "    .dataframe tbody tr th:only-of-type {\n",
       "        vertical-align: middle;\n",
       "    }\n",
       "\n",
       "    .dataframe tbody tr th {\n",
       "        vertical-align: top;\n",
       "    }\n",
       "\n",
       "    .dataframe thead th {\n",
       "        text-align: right;\n",
       "    }\n",
       "</style>\n",
       "<table border=\"1\" class=\"dataframe\">\n",
       "  <thead>\n",
       "    <tr style=\"text-align: right;\">\n",
       "      <th></th>\n",
       "      <th>week</th>\n",
       "      <th>arrest</th>\n",
       "      <th>fin</th>\n",
       "      <th>age</th>\n",
       "      <th>race</th>\n",
       "      <th>wexp</th>\n",
       "      <th>mar</th>\n",
       "      <th>paro</th>\n",
       "      <th>prio</th>\n",
       "    </tr>\n",
       "  </thead>\n",
       "  <tbody>\n",
       "    <tr>\n",
       "      <th>0</th>\n",
       "      <td>20</td>\n",
       "      <td>1</td>\n",
       "      <td>0</td>\n",
       "      <td>27</td>\n",
       "      <td>1</td>\n",
       "      <td>0</td>\n",
       "      <td>0</td>\n",
       "      <td>1</td>\n",
       "      <td>3</td>\n",
       "    </tr>\n",
       "    <tr>\n",
       "      <th>1</th>\n",
       "      <td>17</td>\n",
       "      <td>1</td>\n",
       "      <td>0</td>\n",
       "      <td>18</td>\n",
       "      <td>1</td>\n",
       "      <td>0</td>\n",
       "      <td>0</td>\n",
       "      <td>1</td>\n",
       "      <td>8</td>\n",
       "    </tr>\n",
       "    <tr>\n",
       "      <th>2</th>\n",
       "      <td>25</td>\n",
       "      <td>1</td>\n",
       "      <td>0</td>\n",
       "      <td>19</td>\n",
       "      <td>0</td>\n",
       "      <td>1</td>\n",
       "      <td>0</td>\n",
       "      <td>1</td>\n",
       "      <td>13</td>\n",
       "    </tr>\n",
       "    <tr>\n",
       "      <th>3</th>\n",
       "      <td>52</td>\n",
       "      <td>0</td>\n",
       "      <td>1</td>\n",
       "      <td>23</td>\n",
       "      <td>1</td>\n",
       "      <td>1</td>\n",
       "      <td>1</td>\n",
       "      <td>1</td>\n",
       "      <td>1</td>\n",
       "    </tr>\n",
       "    <tr>\n",
       "      <th>4</th>\n",
       "      <td>52</td>\n",
       "      <td>0</td>\n",
       "      <td>0</td>\n",
       "      <td>19</td>\n",
       "      <td>0</td>\n",
       "      <td>1</td>\n",
       "      <td>0</td>\n",
       "      <td>1</td>\n",
       "      <td>3</td>\n",
       "    </tr>\n",
       "  </tbody>\n",
       "</table>\n",
       "</div>"
      ],
      "text/plain": [
       "   week  arrest  fin  age  race  wexp  mar  paro  prio\n",
       "0    20       1    0   27     1     0    0     1     3\n",
       "1    17       1    0   18     1     0    0     1     8\n",
       "2    25       1    0   19     0     1    0     1    13\n",
       "3    52       0    1   23     1     1    1     1     1\n",
       "4    52       0    0   19     0     1    0     1     3"
      ]
     },
     "execution_count": 70,
     "metadata": {},
     "output_type": "execute_result"
    }
   ],
   "source": [
    "from lifelines.datasets import load_rossi\n",
    "\n",
    "rossi = load_rossi()\n",
    "rossi.head()"
   ]
  },
  {
   "cell_type": "markdown",
   "metadata": {},
   "source": [
    "**Fit survival function**"
   ]
  },
  {
   "cell_type": "code",
   "execution_count": 73,
   "metadata": {},
   "outputs": [
    {
     "name": "stdout",
     "output_type": "stream",
     "text": [
      "<lifelines.CoxPHFitter: fitted with 432 observations, 318 censored>\n",
      "      duration col = 'week'\n",
      "         event col = 'arrest'\n",
      "number of subjects = 432\n",
      "  number of events = 114\n",
      "partial log-likelihood = -658.75\n",
      "  time fit was run = 2019-12-04 10:05:50 UTC\n",
      "\n",
      "---\n",
      "      coef exp(coef)  se(coef)  coef lower 95%  coef upper 95% exp(coef) lower 95% exp(coef) upper 95%\n",
      "fin  -0.38      0.68      0.19           -0.75           -0.00                0.47                1.00\n",
      "age  -0.06      0.94      0.02           -0.10           -0.01                0.90                0.99\n",
      "race  0.31      1.37      0.31           -0.29            0.92                0.75                2.50\n",
      "wexp -0.15      0.86      0.21           -0.57            0.27                0.57                1.30\n",
      "mar  -0.43      0.65      0.38           -1.18            0.31                0.31                1.37\n",
      "paro -0.08      0.92      0.20           -0.47            0.30                0.63                1.35\n",
      "prio  0.09      1.10      0.03            0.04            0.15                1.04                1.16\n",
      "\n",
      "         z      p  -log2(p)\n",
      "fin  -1.98   0.05      4.40\n",
      "age  -2.61   0.01      6.79\n",
      "race  1.02   0.31      1.70\n",
      "wexp -0.71   0.48      1.06\n",
      "mar  -1.14   0.26      1.97\n",
      "paro -0.43   0.66      0.59\n",
      "prio  3.19 <0.005      9.48\n",
      "---\n",
      "Concordance = 0.64\n",
      "Log-likelihood ratio test = 33.27 on 7 df, -log2(p)=15.37\n"
     ]
    }
   ],
   "source": [
    "from lifelines import CoxPHFitter\n",
    "\n",
    "cph = CoxPHFitter()\n",
    "cph.fit(\n",
    "    rossi,\n",
    "    'week',\n",
    "    'arrest'\n",
    ")\n",
    "\n",
    "cph.print_summary();"
   ]
  },
  {
   "cell_type": "markdown",
   "metadata": {},
   "source": [
    "**Plot baseline hazard**"
   ]
  },
  {
   "cell_type": "code",
   "execution_count": 74,
   "metadata": {},
   "outputs": [
    {
     "data": {
      "image/png": "[encoded data removed]",
      "text/plain": [
       "<Figure size 432x288 with 1 Axes>"
      ]
     },
     "metadata": {
      "needs_background": "light"
     },
     "output_type": "display_data"
    }
   ],
   "source": [
    "#TODO\n",
    "cph.baseline_hazard_.plot();"
   ]
  },
  {
   "cell_type": "code",
   "execution_count": 75,
   "metadata": {},
   "outputs": [
    {
     "data": {
      "image/png": "[encoded data removed]",
      "text/plain": [
       "<Figure size 432x288 with 1 Axes>"
      ]
     },
     "metadata": {
      "needs_background": "light"
     },
     "output_type": "display_data"
    }
   ],
   "source": [
    "cph.baseline_cumulative_hazard_.plot();"
   ]
  },
  {
   "cell_type": "markdown",
   "metadata": {},
   "source": [
    "**Use cross validation**"
   ]
  },
  {
   "cell_type": "code",
   "execution_count": 81,
   "metadata": {},
   "outputs": [
    {
     "name": "stdout",
     "output_type": "stream",
     "text": [
      "Mean: 0.6003743394874439 \n"
     ]
    }
   ],
   "source": [
    "from lifelines.utils import k_fold_cross_validation\n",
    "\n",
    "scores = k_fold_cross_validation(cph, rossi, 'week', event_col='arrest',k=3)\n",
    "\n",
    "print(\"Mean: {} \".format(np.mean(scores)))"
   ]
  },
  {
   "cell_type": "markdown",
   "metadata": {},
   "source": [
    "**Check assumption**"
   ]
  },
  {
   "cell_type": "code",
   "execution_count": 86,
   "metadata": {},
   "outputs": [
    {
     "name": "stdout",
     "output_type": "stream",
     "text": [
      "The ``p_value_threshold`` is set at 0.01. Even under the null hypothesis of no violations, some\n",
      "covariates will be below the threshold by chance. This is compounded when there are many covariates.\n",
      "Similarly, when there are lots of observations, even minor deviances from the proportional hazard\n",
      "assumption will be flagged.\n",
      "\n",
      "With that in mind, it's best to use a combination of statistical tests and visual tests to determine\n",
      "the most serious violations. Produce visual plots using ``check_assumptions(..., show_plots=True)``\n",
      "and looking for non-constant lines. See link [A] below for a full example.\n",
      "\n",
      "<lifelines.StatisticalResult>\n",
      "         test_name = proportional_hazard_test\n",
      " null_distribution = chi squared\n",
      "degrees_of_freedom = 1\n",
      "\n",
      "---\n",
      "           test_statistic      p  -log2(p)\n",
      "age  km             11.03 <0.005     10.12\n",
      "     rank           11.09 <0.005     10.17\n",
      "fin  km              0.02   0.89      0.17\n",
      "     rank            0.02   0.90      0.16\n",
      "mar  km              0.60   0.44      1.19\n",
      "     rank            0.67   0.41      1.27\n",
      "paro km              0.12   0.73      0.45\n",
      "     rank            0.14   0.71      0.49\n",
      "prio km              0.02   0.88      0.18\n",
      "     rank            0.02   0.88      0.18\n",
      "race km              1.44   0.23      2.12\n",
      "     rank            1.46   0.23      2.14\n",
      "wexp km              7.48   0.01      7.32\n",
      "     rank            7.18   0.01      7.08\n",
      "\n",
      "\n",
      "1. Variable 'age' failed the non-proportional test: p-value is 0.0009.\n",
      "\n",
      "   Advice 1: the functional form of the variable 'age' might be incorrect. That is, there may be\n",
      "non-linear terms missing. The proportional hazard test used is very sensitive to incorrect\n",
      "functional forms. See documentation in link [D] below on how to specify a functional form.\n",
      "\n",
      "   Advice 2: try binning the variable 'age' using pd.cut, and then specify it in `strata=['age',\n",
      "...]` in the call in `.fit`. See documentation in link [B] below.\n",
      "\n",
      "   Advice 3: try adding an interaction term with your time variable. See documentation in link [C]\n",
      "below.\n",
      "\n",
      "\n",
      "2. Variable 'wexp' failed the non-proportional test: p-value is 0.0063.\n",
      "\n",
      "   Advice: with so few unique values (only 2), you can include `strata=['wexp', ...]` in the call in\n",
      "`.fit`. See documentation in link [E] below.\n",
      "\n",
      "---\n",
      "[A]  https://lifelines.readthedocs.io/en/latest/jupyter_notebooks/Proportional%20hazard%20assumption.html\n",
      "[B]  https://lifelines.readthedocs.io/en/latest/jupyter_notebooks/Proportional%20hazard%20assumption.html#Bin-variable-and-stratify-on-it\n",
      "[C]  https://lifelines.readthedocs.io/en/latest/jupyter_notebooks/Proportional%20hazard%20assumption.html#Introduce-time-varying-covariates\n",
      "[D]  https://lifelines.readthedocs.io/en/latest/jupyter_notebooks/Proportional%20hazard%20assumption.html#Modify-the-functional-form\n",
      "[E]  https://lifelines.readthedocs.io/en/latest/jupyter_notebooks/Proportional%20hazard%20assumption.html#Stratification\n",
      "\n"
     ]
    }
   ],
   "source": [
    "#TODO: fit model\n",
    "cph = CoxPHFitter()\n",
    "cph.fit(rossi, 'week','arrest')\n",
    "\n",
    "#TODO: check assumption\n",
    "cph.check_assumptions(rossi)"
   ]
  },
  {
   "cell_type": "markdown",
   "metadata": {},
   "source": [
    "### Stratification"
   ]
  },
  {
   "cell_type": "code",
   "execution_count": 87,
   "metadata": {},
   "outputs": [
    {
     "data": {
      "image/png": "[encoded data removed]",
      "text/plain": [
       "<Figure size 432x288 with 1 Axes>"
      ]
     },
     "metadata": {
      "needs_background": "light"
     },
     "output_type": "display_data"
    }
   ],
   "source": [
    "#plot baseline hazard\n",
    "cph = CoxPHFitter()\n",
    "cph.fit(rossi, 'week','arrest',strata=['wexp'])\n",
    "\n",
    "cph.baseline_hazard_.plot();"
   ]
  },
  {
   "cell_type": "code",
   "execution_count": 93,
   "metadata": {},
   "outputs": [
    {
     "data": {
      "image/png": "[encoded data removed]",
      "text/plain": [
       "<Figure size 432x288 with 1 Axes>"
      ]
     },
     "metadata": {
      "needs_background": "light"
     },
     "output_type": "display_data"
    }
   ],
   "source": [
    "cph.baseline_cumulative_hazard_.plot();"
   ]
  },
  {
   "cell_type": "code",
   "execution_count": 88,
   "metadata": {},
   "outputs": [
    {
     "name": "stdout",
     "output_type": "stream",
     "text": [
      "<lifelines.CoxPHFitter: fitted with 432 observations, 318 censored>\n",
      "      duration col = 'week'\n",
      "         event col = 'arrest'\n",
      "            strata = ['wexp']\n",
      "number of subjects = 432\n",
      "  number of events = 114\n",
      "partial log-likelihood = -580.89\n",
      "  time fit was run = 2019-12-04 10:08:57 UTC\n",
      "\n",
      "---\n",
      "      coef exp(coef)  se(coef)  coef lower 95%  coef upper 95% exp(coef) lower 95% exp(coef) upper 95%\n",
      "fin  -0.38      0.68      0.19           -0.76           -0.01                0.47                0.99\n",
      "age  -0.06      0.94      0.02           -0.10           -0.01                0.90                0.99\n",
      "race  0.31      1.36      0.31           -0.30            0.91                0.74                2.49\n",
      "mar  -0.45      0.64      0.38           -1.20            0.29                0.30                1.34\n",
      "paro -0.08      0.92      0.20           -0.47            0.30                0.63                1.35\n",
      "prio  0.09      1.09      0.03            0.03            0.15                1.04                1.16\n",
      "\n",
      "         z      p  -log2(p)\n",
      "fin  -1.99   0.05      4.42\n",
      "age  -2.64   0.01      6.91\n",
      "race  1.00   0.32      1.65\n",
      "mar  -1.19   0.23      2.09\n",
      "paro -0.42   0.67      0.57\n",
      "prio  3.16 <0.005      9.33\n",
      "---\n",
      "Concordance = 0.61\n",
      "Log-likelihood ratio test = 23.77 on 6 df, -log2(p)=10.77\n"
     ]
    }
   ],
   "source": [
    "#print summary\n",
    "cph.print_summary();\n",
    "\n",
    "## although we split the model based on its subgroup, we have one coefficient for wexp"
   ]
  },
  {
   "cell_type": "markdown",
   "metadata": {},
   "source": [
    "## Modify the functional form"
   ]
  },
  {
   "cell_type": "code",
   "execution_count": 89,
   "metadata": {},
   "outputs": [
    {
     "name": "stdout",
     "output_type": "stream",
     "text": [
      "Proportional hazard assumption looks okay.\n"
     ]
    }
   ],
   "source": [
    "rossi['age**2'] = rossi['age']**2\n",
    "\n",
    "cph = CoxPHFitter()\n",
    "cph.fit(rossi, duration_col='week', event_col='arrest', strata=['wexp'])\n",
    "\n",
    "cph.check_assumptions(rossi);"
   ]
  },
  {
   "cell_type": "code",
   "execution_count": 90,
   "metadata": {},
   "outputs": [
    {
     "name": "stdout",
     "output_type": "stream",
     "text": [
      "<lifelines.CoxPHFitter: fitted with 432 observations, 318 censored>\n",
      "      duration col = 'week'\n",
      "         event col = 'arrest'\n",
      "            strata = ['wexp']\n",
      "number of subjects = 432\n",
      "  number of events = 114\n",
      "partial log-likelihood = -579.77\n",
      "  time fit was run = 2019-12-04 10:10:37 UTC\n",
      "\n",
      "---\n",
      "        coef exp(coef)  se(coef)  coef lower 95%  coef upper 95% exp(coef) lower 95% exp(coef) upper 95%\n",
      "fin    -0.38      0.68      0.19           -0.76           -0.01                0.47                0.99\n",
      "age    -0.27      0.76      0.14           -0.54            0.00                0.58                1.00\n",
      "race    0.34      1.40      0.31           -0.27            0.94                0.76                2.56\n",
      "mar    -0.40      0.67      0.38           -1.15            0.36                0.32                1.43\n",
      "paro   -0.09      0.91      0.20           -0.48            0.29                0.62                1.34\n",
      "prio    0.09      1.10      0.03            0.04            0.15                1.04                1.16\n",
      "age**2  0.00      1.00      0.00           -0.00            0.01                1.00                1.01\n",
      "\n",
      "           z      p  -log2(p)\n",
      "fin    -1.99   0.05      4.43\n",
      "age    -1.93   0.05      4.21\n",
      "race    1.09   0.28      1.85\n",
      "mar    -1.03   0.30      1.73\n",
      "paro   -0.48   0.63      0.66\n",
      "prio    3.22 <0.005      9.59\n",
      "age**2  1.55   0.12      3.04\n",
      "---\n",
      "Concordance = 0.62\n",
      "Log-likelihood ratio test = 26.01 on 7 df, -log2(p)=10.96\n"
     ]
    }
   ],
   "source": [
    "cph.print_summary();"
   ]
  }
 ],
 "metadata": {
  "kernelspec": {
   "display_name": "Python 3",
   "language": "python",
   "name": "python3"
  },
  "language_info": {
   "codemirror_mode": {
    "name": "ipython",
    "version": 3
   },
   "file_extension": ".py",
   "mimetype": "text/x-python",
   "name": "python",
   "nbconvert_exporter": "python",
   "pygments_lexer": "ipython3",
   "version": "3.7.3"
  }
 },
 "nbformat": 4,
 "nbformat_minor": 2
}
